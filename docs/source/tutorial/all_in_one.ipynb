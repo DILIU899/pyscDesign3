{
 "cells": [
  {
   "cell_type": "code",
   "execution_count": null,
   "metadata": {
    "tags": [
     "remove-cell"
    ]
   },
   "outputs": [],
   "source": [
    "import os\n",
    "import sys\n",
    "\n",
    "os.chdir(\"..\")\n",
    "sys.path.append(\"../../\")"
   ]
  },
  {
   "cell_type": "markdown",
   "metadata": {},
   "source": [
    "# Use `scdesign3()` to achieve all-in-one simulation\n",
    "\n",
    "## Introduction\n",
    "\n",
    "In this section, we will show how to use `scDesign3` method `scdesign3()` to perform all-in-one simulation and get the new dataset.\n",
    "\n",
    "To get detailed information of the input and output of the function, please check [API](../set_up/_autosummary/pyscDesign3._core.scDesign3.scdesign3.rst).\n",
    "\n",
    "## Step 1: Import packages and Read in data\n",
    "\n",
    "### import packages\n",
    "\n",
    "When importing the `pyscDesign3` package, the initiation process includes finding the **R** interpreter and detect whether the **R** package **scDesign3** is installed. If the **R** package **scDesign3** isn't installed, `pyscDesign3` will try to automatically install the dependency."
   ]
  },
  {
   "cell_type": "code",
   "execution_count": null,
   "metadata": {},
   "outputs": [],
   "source": [
    "import anndata as ad\n",
    "import pyscDesign3"
   ]
  },
  {
   "cell_type": "markdown",
   "metadata": {},
   "source": [
    "### Read in data\n",
    "\n",
    "The input data should be an `anndata.AnnData` object because so far only the transformation of `anndata.AnnData` to **R** `SingleCellExperiment` object has been implemented. \n",
    "\n",
    "Here, we read in the `h5ad` file directly. The raw data is from the [scvelo](https://scvelo.readthedocs.io/scvelo.datasets.pancreas/) and we only choose top 30 genes to save time.\n",
    "\n",
    "```{eval-rst}\n",
    ".. Note::\n",
    "    If you have any problem in building an `anndata.AnnData` object, you can check the `anndata` `document <https://anndata.readthedocs.io/en/latest/>`_ .\n",
    "```"
   ]
  },
  {
   "cell_type": "code",
   "execution_count": null,
   "metadata": {},
   "outputs": [],
   "source": [
    "data = ad.read_h5ad(\"data/PANCREAS.h5ad\")\n",
    "data = data[:, 0:30]\n",
    "data"
   ]
  },
  {
   "cell_type": "markdown",
   "metadata": {},
   "source": [
    "## Step 2: Create an instance of the scDesign3 class\n",
    "\n",
    "When creating the instance, the basic setting can be specified, including how many cores used to computing, which parallel method to use and whether to return a more pythonic output.\n",
    "\n",
    "Details of the settings are shown in [API](../set_up/_autosummary/pyscDesign3._core.scDesign3.__init__.rst)."
   ]
  },
  {
   "cell_type": "code",
   "execution_count": null,
   "metadata": {},
   "outputs": [],
   "source": [
    "test = pyscDesign3.scDesign3(n_cores=1, parallelization=\"mcmapply\",return_py=True)"
   ]
  },
  {
   "cell_type": "markdown",
   "metadata": {},
   "source": [
    "## Step 3: call `scdesign3()` method"
   ]
  },
  {
   "cell_type": "code",
   "execution_count": null,
   "metadata": {
    "tags": [
     "hide-output"
    ]
   },
   "outputs": [],
   "source": [
    "simu_res = test.scdesign3(\n",
    "    anndata=data,\n",
    "    default_assay_name=\"counts\",\n",
    "    celltype=\"cell_type\",\n",
    "    pseudotime=\"pseudotime\",\n",
    "    mu_formula=\"s(pseudotime, k = 10, bs = 'cr')\",\n",
    "    sigma_formula=\"s(pseudotime, k = 5, bs = 'cr')\",\n",
    "    family_use=\"nb\",\n",
    "    usebam=True,\n",
    "    corr_formula=\"1\",\n",
    "    copula=\"gaussian\",\n",
    ")"
   ]
  },
  {
   "cell_type": "markdown",
   "metadata": {},
   "source": [
    "## Step 4: Check the simulation results and do downstream analysis if needed.\n",
    "\n",
    "As we set `return_py` = True when initializing, the return value of the `scdesign3()` will be converted to a more pythonic version. "
   ]
  },
  {
   "cell_type": "code",
   "execution_count": null,
   "metadata": {},
   "outputs": [],
   "source": [
    "simu_res[\"new_count\"].head()"
   ]
  },
  {
   "cell_type": "code",
   "execution_count": null,
   "metadata": {},
   "outputs": [],
   "source": [
    "simu_res[\"model_aic\"]"
   ]
  },
  {
   "cell_type": "markdown",
   "metadata": {},
   "source": [
    "The class property `whole_pipeline_res` also stores the simulation result, however, in `rpy2.robjects.vectors.ListVector` version. Actually, if `return_py` = False, the return value is exactly the same as that in the property. You can call `print()` to show the result, which will give you a totally **R** style output."
   ]
  },
  {
   "cell_type": "code",
   "execution_count": null,
   "metadata": {
    "tags": [
     "hide-output"
    ]
   },
   "outputs": [],
   "source": [
    "print(test.whole_pipeline_res)"
   ]
  },
  {
   "cell_type": "markdown",
   "metadata": {},
   "source": [
    "You can use `rx2` method to get your interested result."
   ]
  },
  {
   "cell_type": "code",
   "execution_count": null,
   "metadata": {},
   "outputs": [],
   "source": [
    "print(test.whole_pipeline_res.rx2(\"model_aic\"))"
   ]
  },
  {
   "cell_type": "markdown",
   "metadata": {},
   "source": [
    "```{eval-rst}\n",
    ".. Caution::\n",
    "    If you are familiar to `rpy2` package or if you do not need any manipulation of the result, you may set the `return_py` as False. \n",
    "    \n",
    "    If you are new to `rpy2`, you may prefer to set the `return_py` as True as the output will be transformed to a version which may be more familiar to you though the conversion will need extra cost.\n",
    "```"
   ]
  }
 ],
 "metadata": {
  "kernelspec": {
   "display_name": "scrpy",
   "language": "python",
   "name": "python3"
  },
  "language_info": {
   "codemirror_mode": {
    "name": "ipython",
    "version": 3
   },
   "file_extension": ".py",
   "mimetype": "text/x-python",
   "name": "python",
   "nbconvert_exporter": "python",
   "pygments_lexer": "ipython3",
   "version": "3.9.17"
  },
  "orig_nbformat": 4
 },
 "nbformat": 4,
 "nbformat_minor": 2
}

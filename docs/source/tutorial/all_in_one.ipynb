{
 "cells": [
  {
   "cell_type": "markdown",
   "metadata": {},
   "source": [
    "# Use `scdesign3()` to achieve all-in-one simulation\n",
    "\n",
    "## Introduction\n",
    "\n",
    "In this section, we will show how to use `scDesign3` class method `scdesign3()` to perform all-in-one simulation and get the new dataset.\n",
    "\n",
    "To get detailed information of the input and output of the function, please check [API](../set_up/_autosummary/pyscDesign3._core.scDesign3.scdesign3.rst)."
   ]
  }
 ],
 "metadata": {
  "language_info": {
   "name": "python"
  },
  "orig_nbformat": 4
 },
 "nbformat": 4,
 "nbformat_minor": 2
}

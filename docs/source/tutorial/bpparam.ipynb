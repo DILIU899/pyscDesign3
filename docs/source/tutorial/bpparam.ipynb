{
 "cells": [
  {
   "cell_type": "markdown",
   "metadata": {},
   "source": [
    "# Get the bpparam for `bpmapply`\n",
    "\n",
    "## Introduction\n",
    "\n",
    "In this section, we will show how to use `get_bpparam()` function to get a **R** `BiocParallel::MulticoreParam` or `BiocParallel::SnowParam` object to combine with @parallelization = `bpmapply`.\n",
    "\n",
    "To get detailed information of the input and output of the function, please check [API](../set_up/_autosummary/pyscDesign3.tools.get_bpparam.get_bpparam.rst).\n",
    "\n",
    "To get more information on `BiocParallel` **R** package to help you set the parameters, please check the [document](https://www.bioconductor.org/packages/devel/bioc/manuals/BiocParallel/man/BiocParallel.pdf)."
   ]
  }
 ],
 "metadata": {
  "language_info": {
   "name": "python"
  },
  "orig_nbformat": 4
 },
 "nbformat": 4,
 "nbformat_minor": 2
}

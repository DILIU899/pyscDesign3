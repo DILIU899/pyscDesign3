{
 "cells": [
  {
   "cell_type": "code",
   "execution_count": null,
   "metadata": {
    "tags": [
     "remove-cell"
    ]
   },
   "outputs": [],
   "source": [
    "import os\n",
    "import sys\n",
    "\n",
    "os.chdir(\"..\")\n",
    "sys.path.append(\"../../\")"
   ]
  },
  {
   "cell_type": "markdown",
   "metadata": {},
   "source": [
    "# Get the bpparam for `bpmapply`\n",
    "\n",
    "## Introduction\n",
    "\n",
    "In this section, we will show how to use `get_bpparam()` function to get a **R** `BiocParallel::MulticoreParam` or `BiocParallel::SnowParam` object to combine with @parallelization = `bpmapply`.\n",
    "\n",
    "To get detailed information of the input and output of the function, please check [API](../set_up/_autosummary/pyscDesign3.get_bpparam.rst).\n",
    "\n",
    "To get more information on `BiocParallel` **R** package to help you set the parameters, please check the [document](https://www.bioconductor.org/packages/devel/bioc/manuals/BiocParallel/man/BiocParallel.pdf).\n",
    "\n",
    "## Step 1: Import packages"
   ]
  },
  {
   "cell_type": "code",
   "execution_count": null,
   "metadata": {
    "tags": []
   },
   "outputs": [],
   "source": [
    "import time\n",
    "import anndata as ad\n",
    "import pyscDesign3"
   ]
  },
  {
   "cell_type": "markdown",
   "metadata": {},
   "source": [
    "## Step 2: Call `get_bpparam` function\n",
    "\n",
    "- For Linux/Mac users:\n",
    "\n",
    "The possible parallel method include `mcmapply`, `pbmcmapply` and `bpmapply`. If you are using the `bpmapply` method, then you should run this function and you can choose either `MulticoreParam` or `SnowParam` mode.\n",
    "\n",
    "- For windows users:\n",
    "\n",
    "The only choice is to choose `bpmapply` method and run this function with `SnowParam` mode. **Setting more than 1 core is not allowed in other methods.**"
   ]
  },
  {
   "cell_type": "code",
   "execution_count": null,
   "metadata": {},
   "outputs": [],
   "source": [
    "bpparam = pyscDesign3.get_bpparam(mode=\"MulticoreParam\", show=True, stop_on_error=False)"
   ]
  },
  {
   "cell_type": "markdown",
   "metadata": {},
   "source": [
    "## Step 3: Read in data and Run the scDesign3 methods\n",
    "\n",
    "The raw data is from the [scvelo](https://scvelo.readthedocs.io/scvelo.datasets.pancreas/) and we only choose top 30 genes to save time."
   ]
  },
  {
   "cell_type": "code",
   "execution_count": null,
   "metadata": {},
   "outputs": [],
   "source": [
    "data = ad.read_h5ad(\"data/PANCREAS.h5ad\")\n",
    "data = data[:, 0:30]\n",
    "data"
   ]
  },
  {
   "cell_type": "markdown",
   "metadata": {},
   "source": [
    "Here we simply show the differnece when fitting the marginal models using the `SnowParam` mode."
   ]
  },
  {
   "cell_type": "code",
   "execution_count": null,
   "metadata": {
    "tags": [
     "remove-output"
    ]
   },
   "outputs": [],
   "source": [
    "# create the instance\n",
    "test1 = pyscDesign3.scDesign3(n_cores=1, parallelization=\"bpmapply\", bpparam=bpparam, return_py=False)\n",
    "test2 = pyscDesign3.scDesign3(n_cores=4, parallelization=\"bpmapply\", bpparam=bpparam, return_py=False)\n",
    "\n",
    "# construct data\n",
    "test1.construct_data(\n",
    "    anndata=data,\n",
    "    default_assay_name=\"counts\",\n",
    "    celltype=\"cell_type\",\n",
    "    pseudotime=\"pseudotime\",\n",
    "    corr_formula=\"1\",\n",
    ")\n",
    "test2.construct_data(\n",
    "    anndata=data,\n",
    "    default_assay_name=\"counts\",\n",
    "    celltype=\"cell_type\",\n",
    "    pseudotime=\"pseudotime\",\n",
    "    corr_formula=\"1\",\n",
    ")"
   ]
  },
  {
   "cell_type": "markdown",
   "metadata": {},
   "source": [
    "Fit marginal using 1 core"
   ]
  },
  {
   "cell_type": "code",
   "execution_count": null,
   "metadata": {},
   "outputs": [],
   "source": [
    "start = time.time()\n",
    "test1.fit_marginal(\n",
    "    mu_formula=\"s(pseudotime, k = 10, bs = 'cr')\",\n",
    "    sigma_formula=\"s(pseudotime, k = 5, bs = 'cr')\",\n",
    "    family_use=\"nb\",\n",
    "    usebam=False,\n",
    ")\n",
    "end = time.time()\n",
    "print(\"Total time cost when using 1 core is {:.2f} sec\".format(end-start))"
   ]
  },
  {
   "cell_type": "markdown",
   "metadata": {},
   "source": [
    "Fit marginal using 4 cores"
   ]
  },
  {
   "cell_type": "code",
   "execution_count": null,
   "metadata": {},
   "outputs": [],
   "source": [
    "start = time.time()\n",
    "test2.fit_marginal(\n",
    "    mu_formula=\"s(pseudotime, k = 10, bs = 'cr')\",\n",
    "    sigma_formula=\"s(pseudotime, k = 5, bs = 'cr')\",\n",
    "    family_use=\"nb\",\n",
    "    usebam=False,\n",
    ")\n",
    "end = time.time()\n",
    "print(\"Total time cost when using 4 cores is {:.2f} sec\".format(end-start))"
   ]
  }
 ],
 "metadata": {
  "kernelspec": {
   "display_name": "scrpy",
   "language": "python",
   "name": "python3"
  },
  "language_info": {
   "codemirror_mode": {
    "name": "ipython",
    "version": 3
   },
   "file_extension": ".py",
   "mimetype": "text/x-python",
   "name": "python",
   "nbconvert_exporter": "python",
   "pygments_lexer": "ipython3",
   "version": "3.11.5"
  },
  "orig_nbformat": 4
 },
 "nbformat": 4,
 "nbformat_minor": 2
}

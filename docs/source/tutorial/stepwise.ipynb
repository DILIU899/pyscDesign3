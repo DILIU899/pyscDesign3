{
 "cells": [
  {
   "cell_type": "code",
   "execution_count": null,
   "metadata": {
    "tags": [
     "remove-cell"
    ]
   },
   "outputs": [],
   "source": [
    "import os\n",
    "import sys\n",
    "\n",
    "os.chdir(\"..\")\n",
    "sys.path.append(\"../../\")"
   ]
  },
  {
   "cell_type": "markdown",
   "metadata": {},
   "source": [
    "# Run pyscDesign3 pipeline step by step\n",
    "\n",
    "## Introduction\n",
    "\n",
    "In this section, we will show how to run the whole pyscDesign3 pipeline step by step.\n",
    "\n",
    "Some basic introduction of pyscDesign3 package is included in the [All in one simulation](./all_in_one.ipynb) section, so if you have no idea of how to use the package, you can first go through that tutorial.\n",
    "\n",
    "In this section, we will introduce the following methods according to their actual execution order.\n",
    "\n",
    "- [Construct data](step-1-construct-data) ([API](../set_up/_autosummary/pyscDesign3.scDesign3.construct_data.rst))\n",
    "- [Fit marginal](step-2-fit-marginal) ([API](../set_up/_autosummary/pyscDesign3.scDesign3.fit_marginal.rst))\n",
    "- [Fit copula](step-3-fit-copula) ([API](../set_up/_autosummary/pyscDesign3.scDesign3.fit_copula.rst))\n",
    "- [Extract parameters](step-4-extract-parameters) ([API](../set_up/_autosummary/pyscDesign3.scDesign3.extract_para.rst))\n",
    "- [Simulate new data](step-5-simulate-new-data) ([API](../set_up/_autosummary/pyscDesign3.scDesign3.simu_new.rst))\n",
    "\n",
    "## Step 0: Preparation\n",
    "\n",
    "### import packages\n"
   ]
  },
  {
   "cell_type": "code",
   "execution_count": null,
   "metadata": {},
   "outputs": [],
   "source": [
    "import anndata as ad\n",
    "import pyscDesign3"
   ]
  },
  {
   "cell_type": "markdown",
   "metadata": {},
   "source": [
    "### Read in data\n",
    "\n",
    "The raw data is from the [scvelo](https://scvelo.readthedocs.io/scvelo.datasets.pancreas/) and we only choose top 30 genes to save time.\n"
   ]
  },
  {
   "cell_type": "code",
   "execution_count": null,
   "metadata": {},
   "outputs": [],
   "source": [
    "data = ad.read_h5ad(\"data/PANCREAS.h5ad\")\n",
    "data = data[:, 0:30]\n",
    "data"
   ]
  },
  {
   "cell_type": "markdown",
   "metadata": {},
   "source": [
    "### Create the `scDesign3` instance\n"
   ]
  },
  {
   "cell_type": "code",
   "execution_count": null,
   "metadata": {},
   "outputs": [],
   "source": [
    "test = pyscDesign3.scDesign3(n_cores=6, parallelization=\"mcmapply\", return_py=True)\n",
    "test.set_r_random_seed(123)"
   ]
  },
  {
   "cell_type": "markdown",
   "metadata": {},
   "source": [
    "(step-1-construct-data)=\n",
    "## Step 1: Construct data\n",
    "\n",
    "This function construct the input dataset.\n",
    "\n",
    "```{eval-rst}\n",
    ".. Note::\n",
    "    The default assay counts stored in `anndata.AnnData.X` don't have a specified name, when you are going to use the default assay, you should assign a name to it in the `default_assay_name` parameter. Else if you are using the assay stored in `anndata.AnnData.layers[assay_use]`, you can specify the name in the `assay_use` parameter.\n",
    "```\n"
   ]
  },
  {
   "cell_type": "code",
   "execution_count": null,
   "metadata": {},
   "outputs": [],
   "source": [
    "const_data = test.construct_data(\n",
    "    anndata=data,\n",
    "    default_assay_name=\"counts\",\n",
    "    celltype=\"cell_type\",\n",
    "    pseudotime=\"pseudotime\",\n",
    "    corr_formula=\"1\",\n",
    ")"
   ]
  },
  {
   "cell_type": "markdown",
   "metadata": {},
   "source": [
    "The results are all converted to `pandas.DataFrame` so that you can easily check and manipulate the result in python.\n"
   ]
  },
  {
   "cell_type": "code",
   "execution_count": null,
   "metadata": {},
   "outputs": [],
   "source": [
    "const_data[\"dat\"].head()"
   ]
  },
  {
   "cell_type": "markdown",
   "metadata": {},
   "source": [
    "(step-2-fit-marginal)=\n",
    "## Step 2: Fit marginal\n",
    "\n",
    "Fit regression models for each gene (feature) based on your specification.\n"
   ]
  },
  {
   "cell_type": "markdown",
   "metadata": {},
   "source": [
    "```{eval-rst}\n",
    ".. Note::\n",
    "    Though we have already set the parallel method when creating the instance, we can change the setting temporarily when executing the methods one by one.\n",
    "\n",
    "    Here is an example where we change the parallel method to `bpmapply` , thus we need an extra bpparam object got from the get_bpparam() function. (Details of the function is included in :doc:`Get BPPARAM <./bpparam>` section)\n",
    "```"
   ]
  },
  {
   "cell_type": "code",
   "execution_count": null,
   "metadata": {
    "tags": [
     "remove-output"
    ]
   },
   "outputs": [],
   "source": [
    "bpparam = pyscDesign3.get_bpparam(mode=\"MulticoreParam\", show=False)\n",
    "marginal = test.fit_marginal(\n",
    "    data=const_data,\n",
    "    mu_formula=\"s(pseudotime, k = 10, bs = 'cr')\",\n",
    "    sigma_formula=\"1\",\n",
    "    usebam=True,\n",
    "    family_use=\"nb\",\n",
    "    n_cores=3,\n",
    "    parallelization=\"bpmapply\",\n",
    "    bpparam=bpparam,\n",
    ")"
   ]
  },
  {
   "cell_type": "markdown",
   "metadata": {},
   "source": [
    "```{eval-rst}\n",
    ".. Warning::\n",
    "    So far there has been an unfixed problem in converting the marginal list to OrdDict. Use .rx2 method to get values.\n",
    "```\n",
    "\n",
    "**If you want to manipulate the results**\n"
   ]
  },
  {
   "cell_type": "code",
   "execution_count": null,
   "metadata": {},
   "outputs": [],
   "source": [
    "print(marginal.rx2(\"Pyy\").rx2(\"fit\").rx2(\"coefficients\"))"
   ]
  },
  {
   "cell_type": "code",
   "execution_count": null,
   "metadata": {},
   "outputs": [],
   "source": [
    "marginal.rx2(\"Pyy\").rx2(\"fit\").rx2(\"coefficients\")[0] = 1.96\n",
    "print(marginal.rx2(\"Pyy\").rx2(\"fit\").rx2(\"coefficients\"))"
   ]
  },
  {
   "cell_type": "code",
   "execution_count": null,
   "metadata": {
    "tags": [
     "remove-cell"
    ]
   },
   "outputs": [],
   "source": [
    "# marginal[\"Pyy\"][\"fit\"][\"coefficients\"]"
   ]
  },
  {
   "cell_type": "code",
   "execution_count": null,
   "metadata": {
    "tags": [
     "remove-cell"
    ]
   },
   "outputs": [],
   "source": [
    "# marginal[\"Pyy\"][\"fit\"][\"coefficients\"][0] = 1.96\n",
    "# marginal[\"Pyy\"][\"fit\"][\"coefficients\"]"
   ]
  },
  {
   "cell_type": "markdown",
   "metadata": {},
   "source": [
    "(step-3-fit-copula)=\n",
    "## Step 3: Fit copula\n",
    "\n",
    "Fit a copula, obtain AIC and BIC.\n"
   ]
  },
  {
   "cell_type": "code",
   "execution_count": null,
   "metadata": {
    "tags": [
     "remove-output"
    ]
   },
   "outputs": [],
   "source": [
    "copula = test.fit_copula(\n",
    "    input_data=const_data[\"dat\"],\n",
    "    marginal_dict=marginal,\n",
    "    important_feature=\"auto\",\n",
    "    copula=\"vine\"\n",
    ")"
   ]
  },
  {
   "cell_type": "markdown",
   "metadata": {},
   "source": [
    "We can evaluate the model by checking the AIC.\n"
   ]
  },
  {
   "cell_type": "code",
   "execution_count": null,
   "metadata": {},
   "outputs": [],
   "source": [
    "copula[\"model_aic\"]"
   ]
  },
  {
   "cell_type": "markdown",
   "metadata": {},
   "source": [
    "```{eval-rst}\n",
    ".. Note::\n",
    "    The return value is a `rpy2.rlike.container.OrdDict` . Not all elements in this `dict` like object have to be named but they have a given order. **None** as a key value means an absence of name for the element. For the values without a named key, you can call `byindex` method to get them by index (rank).\n",
    "```\n",
    "\n",
    "Here, we show an example to get the vine copula values. **If you call `byindex` method, you will get a tuple with the first value being the key and the second value being the value.**\n",
    "\n",
    "The example fetches the R vinecop class property `pair_copulas`, and get the `family` info. The equal R version code is `copula$copula_list$\"1\"$pair_copulas[[1]][[1]]$\"family\"`."
   ]
  },
  {
   "cell_type": "code",
   "execution_count": null,
   "metadata": {},
   "outputs": [],
   "source": [
    "print(copula[\"copula_list\"][\"1\"][\"pair_copulas\"].byindex(0)[-1].byindex(0)[-1][\"family\"])"
   ]
  },
  {
   "cell_type": "markdown",
   "metadata": {},
   "source": [
    "(step-4-extract-parameters)=\n",
    "## Step 4: Extract parameters\n",
    "\n",
    "Extract out the estimated parameters so you can make some modifications and use the modified parameters to generate new data if needed. The following parameters can be extracted:\n",
    "\n",
    "- a cell-by-gene mean matrix\n",
    "- a sigma matrix which is:\n",
    "  - a cell-by-gene matrix of $\\frac{1}{\\phi}$ for negative binomial distribution\n",
    "  - a cell-by-gene matrix of the standard deviation $\\sigma$ for Gaussian distribution\n",
    "  - a cell-by-gene matrix of 1 for poisson distribution\n",
    "- a zero matrix which is:\n",
    "  - a cell-by-gene matrix of zero probabilities for zero-inflated negative binomial and zero-inflated poisson distributions\n",
    "  - a zero matrix for negative binomial, Gaussian, and poisson distributions\n"
   ]
  },
  {
   "cell_type": "code",
   "execution_count": null,
   "metadata": {},
   "outputs": [],
   "source": [
    "para = test.extract_para(\n",
    "    marginal_dict=marginal,\n",
    "    data=const_data[\"dat\"],\n",
    "    new_covariate=None,\n",
    ")"
   ]
  },
  {
   "cell_type": "markdown",
   "metadata": {},
   "source": [
    "The output matrix can be modified based on `pandas.DataFrame` syntax."
   ]
  },
  {
   "cell_type": "code",
   "execution_count": null,
   "metadata": {},
   "outputs": [],
   "source": [
    "para[\"mean_mat\"].iloc[0:6,0:5]"
   ]
  },
  {
   "cell_type": "markdown",
   "metadata": {},
   "source": [
    "(step-5-simulate-new-data)=\n",
    "## Step 5: Simulate new data"
   ]
  },
  {
   "cell_type": "code",
   "execution_count": null,
   "metadata": {
    "tags": [
     "remove-output"
    ]
   },
   "outputs": [],
   "source": [
    "simu_new = test.simu_new(\n",
    "    mean_mat=para[\"mean_mat\"],\n",
    "    sigma_mat=para[\"sigma_mat\"],\n",
    "    zero_mat=para[\"zero_mat\"],\n",
    "    copula_dict=copula[\"copula_list\"],\n",
    "    input_data=const_data[\"dat\"],\n",
    "    new_covariate=const_data[\"newCovariate\"],\n",
    "    important_feature=copula[\"important_feature\"],\n",
    "    filtered_gene=const_data[\"filtered_gene\"],\n",
    ")"
   ]
  },
  {
   "cell_type": "markdown",
   "metadata": {},
   "source": [
    "The final simulated result is also a `pandas.DataFrame` object."
   ]
  },
  {
   "cell_type": "code",
   "execution_count": null,
   "metadata": {},
   "outputs": [],
   "source": [
    "simu_new.iloc[0:6,0:6]"
   ]
  }
 ],
 "metadata": {
  "kernelspec": {
   "display_name": "scrpy",
   "language": "python",
   "name": "python3"
  },
  "language_info": {
   "codemirror_mode": {
    "name": "ipython",
    "version": 3
   },
   "file_extension": ".py",
   "mimetype": "text/x-python",
   "name": "python",
   "nbconvert_exporter": "python",
   "pygments_lexer": "ipython3",
   "version": "3.11.5"
  },
  "orig_nbformat": 4
 },
 "nbformat": 4,
 "nbformat_minor": 2
}

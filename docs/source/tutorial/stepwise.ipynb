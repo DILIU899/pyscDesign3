{
 "cells": [
  {
   "cell_type": "code",
   "execution_count": 1,
   "metadata": {
    "tags": [
     "remove-cell"
    ]
   },
   "outputs": [],
   "source": [
    "import os\n",
    "import sys\n",
    "import warnings\n",
    "\n",
    "os.chdir(\"..\")\n",
    "sys.path.append(\"../../\")\n",
    "warnings.filterwarnings(\"ignore\")"
   ]
  },
  {
   "cell_type": "markdown",
   "metadata": {},
   "source": [
    "# Run scDesign3Py pipeline step by step\n",
    "\n",
    "## Introduction\n",
    "\n",
    "In this section, we will show how to run the whole scDesign3Py pipeline step by step.\n",
    "\n",
    "Some basic introduction of scDesign3Py package is included in the [All in one simulation](./all_in_one.ipynb) section, so if you have no idea of how to use the package, you can first go through that tutorial.\n",
    "\n",
    "In this section, we will introduce the following methods according to their actual execution order.\n",
    "\n",
    "- [Construct data](step-1-construct-data) ([API](../set_up/_autosummary/scDesign3Py.scDesign3.construct_data.rst))\n",
    "- [Fit marginal](step-2-fit-marginal) ([API](../set_up/_autosummary/scDesign3Py.scDesign3.fit_marginal.rst))\n",
    "- [Fit copula](step-3-fit-copula) ([API](../set_up/_autosummary/scDesign3Py.scDesign3.fit_copula.rst))\n",
    "- [Extract parameters](step-4-extract-parameters) ([API](../set_up/_autosummary/scDesign3Py.scDesign3.extract_para.rst))\n",
    "- [Simulate new data](step-5-simulate-new-data) ([API](../set_up/_autosummary/scDesign3Py.scDesign3.simu_new.rst))\n",
    "\n",
    "## Step 0: Preparation\n",
    "\n",
    "### import packages\n"
   ]
  },
  {
   "cell_type": "code",
   "execution_count": 2,
   "metadata": {
    "tags": [
     "remove-output"
    ]
   },
   "outputs": [
    {
     "name": "stdout",
     "output_type": "stream",
     "text": [
      "The R project used is located at /home/ld/anaconda3/envs/pyscdesign/lib/R\n"
     ]
    }
   ],
   "source": [
    "import anndata as ad\n",
    "import scDesign3Py"
   ]
  },
  {
   "cell_type": "markdown",
   "metadata": {},
   "source": [
    "### Read in data\n",
    "\n",
    "The raw data is from the [scvelo](https://scvelo.readthedocs.io/scvelo.datasets.pancreas/) and we only choose top 30 genes to save time.\n"
   ]
  },
  {
   "cell_type": "code",
   "execution_count": 3,
   "metadata": {},
   "outputs": [
    {
     "data": {
      "text/plain": [
       "View of AnnData object with n_obs × n_vars = 2087 × 30\n",
       "    obs: 'clusters_coarse', 'clusters', 'S_score', 'G2M_score', 'cell_type', 'sizeFactor', 'pseudotime'\n",
       "    var: 'highly_variable_genes'\n",
       "    obsm: 'X_pca', 'X_umap', 'X_x_pca', 'X_x_umap'"
      ]
     },
     "execution_count": 3,
     "metadata": {},
     "output_type": "execute_result"
    }
   ],
   "source": [
    "data = ad.read_h5ad(\"data/PANCREAS.h5ad\")\n",
    "data = data[:, 0:30]\n",
    "data"
   ]
  },
  {
   "cell_type": "markdown",
   "metadata": {},
   "source": [
    "### Create the `scDesign3` instance\n"
   ]
  },
  {
   "cell_type": "code",
   "execution_count": 4,
   "metadata": {},
   "outputs": [],
   "source": [
    "test = scDesign3Py.scDesign3(n_cores=3, parallelization=\"pbmcmapply\", return_py=True)\n",
    "test.set_r_random_seed(123)"
   ]
  },
  {
   "cell_type": "markdown",
   "metadata": {},
   "source": [
    "(step-1-construct-data)=\n",
    "## Step 1: Construct data\n",
    "\n",
    "This function construct the input dataset.\n",
    "\n",
    "```{eval-rst}\n",
    ".. Note::\n",
    "    The default assay counts stored in `anndata.AnnData.X` don't have a specified name, when you are going to use the default assay, you should assign a name to it in the `default_assay_name` parameter. Else if you are using the assay stored in `anndata.AnnData.layers[assay_use]`, you can specify the name in the `assay_use` parameter.\n",
    "```\n"
   ]
  },
  {
   "cell_type": "code",
   "execution_count": 5,
   "metadata": {},
   "outputs": [],
   "source": [
    "const_data = test.construct_data(\n",
    "    anndata=data,\n",
    "    default_assay_name=\"counts\",\n",
    "    celltype=\"cell_type\",\n",
    "    pseudotime=\"pseudotime\",\n",
    "    corr_formula=\"1\",\n",
    ")"
   ]
  },
  {
   "cell_type": "markdown",
   "metadata": {},
   "source": [
    "The results are all converted to `pandas.DataFrame` so that you can easily check and manipulate the result in python.\n"
   ]
  },
  {
   "cell_type": "code",
   "execution_count": 6,
   "metadata": {},
   "outputs": [
    {
     "data": {
      "text/html": [
       "<div>\n",
       "<style scoped>\n",
       "    .dataframe tbody tr th:only-of-type {\n",
       "        vertical-align: middle;\n",
       "    }\n",
       "\n",
       "    .dataframe tbody tr th {\n",
       "        vertical-align: top;\n",
       "    }\n",
       "\n",
       "    .dataframe thead th {\n",
       "        text-align: right;\n",
       "    }\n",
       "</style>\n",
       "<table border=\"1\" class=\"dataframe\">\n",
       "  <thead>\n",
       "    <tr style=\"text-align: right;\">\n",
       "      <th></th>\n",
       "      <th>cell_type</th>\n",
       "      <th>pseudotime</th>\n",
       "      <th>corr_group</th>\n",
       "    </tr>\n",
       "  </thead>\n",
       "  <tbody>\n",
       "    <tr>\n",
       "      <th>AAACCTGAGAGGGATA</th>\n",
       "      <td>Pre-endocrine</td>\n",
       "      <td>0.677236</td>\n",
       "      <td>1.0</td>\n",
       "    </tr>\n",
       "    <tr>\n",
       "      <th>AAACCTGGTAAGTGGC</th>\n",
       "      <td>Ngn3 high EP</td>\n",
       "      <td>0.431569</td>\n",
       "      <td>1.0</td>\n",
       "    </tr>\n",
       "    <tr>\n",
       "      <th>AAACGGGCAAAGAATC</th>\n",
       "      <td>Beta</td>\n",
       "      <td>0.749373</td>\n",
       "      <td>1.0</td>\n",
       "    </tr>\n",
       "    <tr>\n",
       "      <th>AAACGGGGTACAGTTC</th>\n",
       "      <td>Beta</td>\n",
       "      <td>0.925441</td>\n",
       "      <td>1.0</td>\n",
       "    </tr>\n",
       "    <tr>\n",
       "      <th>AAACGGGGTGAAATCA</th>\n",
       "      <td>Ngn3 high EP</td>\n",
       "      <td>0.380345</td>\n",
       "      <td>1.0</td>\n",
       "    </tr>\n",
       "  </tbody>\n",
       "</table>\n",
       "</div>"
      ],
      "text/plain": [
       "                      cell_type  pseudotime  corr_group\n",
       "AAACCTGAGAGGGATA  Pre-endocrine    0.677236         1.0\n",
       "AAACCTGGTAAGTGGC   Ngn3 high EP    0.431569         1.0\n",
       "AAACGGGCAAAGAATC           Beta    0.749373         1.0\n",
       "AAACGGGGTACAGTTC           Beta    0.925441         1.0\n",
       "AAACGGGGTGAAATCA   Ngn3 high EP    0.380345         1.0"
      ]
     },
     "execution_count": 6,
     "metadata": {},
     "output_type": "execute_result"
    }
   ],
   "source": [
    "const_data[\"dat\"].head()"
   ]
  },
  {
   "cell_type": "markdown",
   "metadata": {},
   "source": [
    "(step-2-fit-marginal)=\n",
    "## Step 2: Fit marginal\n",
    "\n",
    "Fit regression models for each gene (feature) based on your specification.\n"
   ]
  },
  {
   "cell_type": "markdown",
   "metadata": {},
   "source": [
    "```{eval-rst}\n",
    ".. Note::\n",
    "    Though we have already set the parallel method when creating the instance, we can change the setting temporarily when executing the methods one by one.\n",
    "\n",
    "    Here is an example where we change the parallel method to `bpmapply` , thus we need an extra bpparam object got from the get_bpparam() function. (Details of the function is included in :doc:`Get BPPARAM <./bpparam>` section)\n",
    "```"
   ]
  },
  {
   "cell_type": "code",
   "execution_count": 7,
   "metadata": {
    "tags": [
     "remove-output"
    ]
   },
   "outputs": [],
   "source": [
    "bpparam = scDesign3Py.get_bpparam(mode=\"MulticoreParam\", show=False)\n",
    "marginal = test.fit_marginal(\n",
    "    data=const_data,\n",
    "    mu_formula=\"s(pseudotime, k = 10, bs = 'cr')\",\n",
    "    sigma_formula=\"1\",\n",
    "    usebam=False,\n",
    "    family_use=\"nb\",\n",
    "    n_cores=3,\n",
    "    parallelization=\"bpmapply\",\n",
    "    bpparam=bpparam,\n",
    ")"
   ]
  },
  {
   "cell_type": "markdown",
   "metadata": {},
   "source": [
    "```{eval-rst}\n",
    ".. Warning::\n",
    "    So far there has been an unfixed problem in converting the marginal list to OrdDict. Use .rx2 method to get values.\n",
    "```\n",
    "\n",
    "**If you want to manipulate the results**\n"
   ]
  },
  {
   "cell_type": "code",
   "execution_count": 8,
   "metadata": {},
   "outputs": [
    {
     "name": "stdout",
     "output_type": "stream",
     "text": [
      "    (Intercept) s(pseudotime).1 s(pseudotime).2 s(pseudotime).3 s(pseudotime).4 \n",
      "      1.9507488      -1.4124446      -1.8604564      -1.6723522      -0.8250225 \n",
      "s(pseudotime).5 s(pseudotime).6 s(pseudotime).7 s(pseudotime).8 s(pseudotime).9 \n",
      "      1.5108538       2.7502221       3.5714840       3.9859354       2.8515292 \n",
      "\n"
     ]
    }
   ],
   "source": [
    "print(marginal.rx2(\"Pyy\").rx2(\"fit\").rx2(\"coefficients\"))"
   ]
  },
  {
   "cell_type": "code",
   "execution_count": 9,
   "metadata": {},
   "outputs": [
    {
     "name": "stdout",
     "output_type": "stream",
     "text": [
      "    (Intercept) s(pseudotime).1 s(pseudotime).2 s(pseudotime).3 s(pseudotime).4 \n",
      "      1.9600000      -1.4124446      -1.8604564      -1.6723522      -0.8250225 \n",
      "s(pseudotime).5 s(pseudotime).6 s(pseudotime).7 s(pseudotime).8 s(pseudotime).9 \n",
      "      1.5108538       2.7502221       3.5714840       3.9859354       2.8515292 \n",
      "\n"
     ]
    }
   ],
   "source": [
    "marginal.rx2(\"Pyy\").rx2(\"fit\").rx2(\"coefficients\")[0] = 1.96\n",
    "print(marginal.rx2(\"Pyy\").rx2(\"fit\").rx2(\"coefficients\"))"
   ]
  },
  {
   "cell_type": "code",
   "execution_count": 10,
   "metadata": {
    "tags": [
     "remove-cell"
    ]
   },
   "outputs": [],
   "source": [
    "# marginal[\"Pyy\"][\"fit\"][\"coefficients\"]"
   ]
  },
  {
   "cell_type": "code",
   "execution_count": 11,
   "metadata": {
    "tags": [
     "remove-cell"
    ]
   },
   "outputs": [],
   "source": [
    "# marginal[\"Pyy\"][\"fit\"][\"coefficients\"][0] = 1.96\n",
    "# marginal[\"Pyy\"][\"fit\"][\"coefficients\"]"
   ]
  },
  {
   "cell_type": "markdown",
   "metadata": {},
   "source": [
    "(step-3-fit-copula)=\n",
    "## Step 3: Fit copula\n",
    "\n",
    "Fit a copula, obtain AIC and BIC.\n"
   ]
  },
  {
   "cell_type": "code",
   "execution_count": 12,
   "metadata": {
    "tags": [
     "remove-output"
    ]
   },
   "outputs": [
    {
     "name": "stderr",
     "output_type": "stream",
     "text": [
      "R[write to console]: Convert Residuals to Uniform\n",
      "\n"
     ]
    },
    {
     "name": "stdout",
     "output_type": "stream",
     "text": [
      "  |=======================================================| 100%, Elapsed 00:03\n"
     ]
    },
    {
     "name": "stderr",
     "output_type": "stream",
     "text": [
      "R[write to console]: Converting End\n",
      "\n",
      "R[write to console]: Copula group 1 starts\n",
      "\n",
      "R[write to console]: Vine Copula Estimation Starts\n",
      "\n"
     ]
    },
    {
     "name": "stdout",
     "output_type": "stream",
     "text": [
      "Time difference of 1.877355 secs\n"
     ]
    },
    {
     "name": "stderr",
     "output_type": "stream",
     "text": [
      "R[write to console]: Vine Copula Estimation Ends\n",
      "\n"
     ]
    }
   ],
   "source": [
    "copula = test.fit_copula(\n",
    "    input_data=const_data[\"dat\"],\n",
    "    marginal_dict=marginal,\n",
    "    important_feature=\"auto\",\n",
    "    copula=\"vine\"\n",
    ")"
   ]
  },
  {
   "cell_type": "markdown",
   "metadata": {},
   "source": [
    "We can evaluate the model by checking the AIC.\n"
   ]
  },
  {
   "cell_type": "code",
   "execution_count": 13,
   "metadata": {},
   "outputs": [
    {
     "data": {
      "text/plain": [
       "aic.marginal    271036.643970\n",
       "aic.copula       -2246.390440\n",
       "aic.total       268790.253531\n",
       "dtype: float64"
      ]
     },
     "execution_count": 13,
     "metadata": {},
     "output_type": "execute_result"
    }
   ],
   "source": [
    "copula[\"model_aic\"]"
   ]
  },
  {
   "cell_type": "markdown",
   "metadata": {},
   "source": [
    "```{eval-rst}\n",
    ".. Note::\n",
    "    The return value is a `rpy2.rlike.container.OrdDict` . Not all elements in this `dict` like object have to be named but they have a given order. **None** as a key value means an absence of name for the element. For the values without a named key, you can call `byindex` method to get them by index (rank).\n",
    "```\n",
    "\n",
    "Here, we show an example to get the vine copula values. **If you call `byindex` method, you will get a tuple with the first value being the key and the second value being the value.**\n",
    "\n",
    "The example fetches the R vinecop class property `pair_copulas`, and get the `family` info. The equal R version code is `copula$copula_list$\"1\"$pair_copulas[[1]][[1]]$\"family\"`."
   ]
  },
  {
   "cell_type": "code",
   "execution_count": 14,
   "metadata": {},
   "outputs": [
    {
     "name": "stdout",
     "output_type": "stream",
     "text": [
      "[1] \"gaussian\"\n",
      "\n"
     ]
    }
   ],
   "source": [
    "print(copula[\"copula_list\"][\"1\"][\"pair_copulas\"].byindex(0)[-1].byindex(0)[-1][\"family\"])"
   ]
  },
  {
   "cell_type": "markdown",
   "metadata": {},
   "source": [
    "(step-4-extract-parameters)=\n",
    "## Step 4: Extract parameters\n",
    "\n",
    "Extract out the estimated parameters so you can make some modifications and use the modified parameters to generate new data if needed. The following parameters can be extracted:\n",
    "\n",
    "- a cell-by-gene mean matrix\n",
    "- a sigma matrix which is:\n",
    "  - a cell-by-gene matrix of $\\frac{1}{\\phi}$ for negative binomial distribution\n",
    "  - a cell-by-gene matrix of the standard deviation $\\sigma$ for Gaussian distribution\n",
    "  - a cell-by-gene matrix of 1 for poisson distribution\n",
    "- a zero matrix which is:\n",
    "  - a cell-by-gene matrix of zero probabilities for zero-inflated negative binomial and zero-inflated poisson distributions\n",
    "  - a zero matrix for negative binomial, Gaussian, and poisson distributions\n"
   ]
  },
  {
   "cell_type": "code",
   "execution_count": 15,
   "metadata": {
    "tags": [
     "remove-output"
    ]
   },
   "outputs": [
    {
     "name": "stdout",
     "output_type": "stream",
     "text": [
      "  |=======================================================| 100%, Elapsed 00:01\n"
     ]
    }
   ],
   "source": [
    "para = test.extract_para(\n",
    "    marginal_dict=marginal,\n",
    "    data=const_data[\"dat\"],\n",
    "    new_covariate=None,\n",
    ")"
   ]
  },
  {
   "cell_type": "markdown",
   "metadata": {},
   "source": [
    "The output matrix can be modified based on `pandas.DataFrame` syntax."
   ]
  },
  {
   "cell_type": "code",
   "execution_count": 16,
   "metadata": {},
   "outputs": [
    {
     "data": {
      "text/html": [
       "<div>\n",
       "<style scoped>\n",
       "    .dataframe tbody tr th:only-of-type {\n",
       "        vertical-align: middle;\n",
       "    }\n",
       "\n",
       "    .dataframe tbody tr th {\n",
       "        vertical-align: top;\n",
       "    }\n",
       "\n",
       "    .dataframe thead th {\n",
       "        text-align: right;\n",
       "    }\n",
       "</style>\n",
       "<table border=\"1\" class=\"dataframe\">\n",
       "  <thead>\n",
       "    <tr style=\"text-align: right;\">\n",
       "      <th></th>\n",
       "      <th>Pyy</th>\n",
       "      <th>Iapp</th>\n",
       "      <th>Chgb</th>\n",
       "      <th>Rbp4</th>\n",
       "      <th>Spp1</th>\n",
       "    </tr>\n",
       "  </thead>\n",
       "  <tbody>\n",
       "    <tr>\n",
       "      <th>AAACCTGAGAGGGATA</th>\n",
       "      <td>50.419465</td>\n",
       "      <td>1.181685</td>\n",
       "      <td>53.842404</td>\n",
       "      <td>20.240920</td>\n",
       "      <td>0.242246</td>\n",
       "    </tr>\n",
       "    <tr>\n",
       "      <th>AAACCTGGTAAGTGGC</th>\n",
       "      <td>1.301210</td>\n",
       "      <td>0.256551</td>\n",
       "      <td>5.701465</td>\n",
       "      <td>0.623444</td>\n",
       "      <td>0.215905</td>\n",
       "    </tr>\n",
       "    <tr>\n",
       "      <th>AAACGGGCAAAGAATC</th>\n",
       "      <td>104.864109</td>\n",
       "      <td>8.201911</td>\n",
       "      <td>38.288643</td>\n",
       "      <td>39.306191</td>\n",
       "      <td>0.217556</td>\n",
       "    </tr>\n",
       "    <tr>\n",
       "      <th>AAACGGGGTACAGTTC</th>\n",
       "      <td>162.884022</td>\n",
       "      <td>289.929054</td>\n",
       "      <td>18.686662</td>\n",
       "      <td>46.505082</td>\n",
       "      <td>0.276204</td>\n",
       "    </tr>\n",
       "    <tr>\n",
       "      <th>AAACGGGGTGAAATCA</th>\n",
       "      <td>0.740181</td>\n",
       "      <td>0.236181</td>\n",
       "      <td>0.941316</td>\n",
       "      <td>0.253139</td>\n",
       "      <td>0.229452</td>\n",
       "    </tr>\n",
       "    <tr>\n",
       "      <th>AAACGGGTCAAACAAG</th>\n",
       "      <td>0.565350</td>\n",
       "      <td>0.321886</td>\n",
       "      <td>0.076826</td>\n",
       "      <td>0.234823</td>\n",
       "      <td>6.812986</td>\n",
       "    </tr>\n",
       "  </tbody>\n",
       "</table>\n",
       "</div>"
      ],
      "text/plain": [
       "                         Pyy        Iapp       Chgb       Rbp4      Spp1\n",
       "AAACCTGAGAGGGATA   50.419465    1.181685  53.842404  20.240920  0.242246\n",
       "AAACCTGGTAAGTGGC    1.301210    0.256551   5.701465   0.623444  0.215905\n",
       "AAACGGGCAAAGAATC  104.864109    8.201911  38.288643  39.306191  0.217556\n",
       "AAACGGGGTACAGTTC  162.884022  289.929054  18.686662  46.505082  0.276204\n",
       "AAACGGGGTGAAATCA    0.740181    0.236181   0.941316   0.253139  0.229452\n",
       "AAACGGGTCAAACAAG    0.565350    0.321886   0.076826   0.234823  6.812986"
      ]
     },
     "execution_count": 16,
     "metadata": {},
     "output_type": "execute_result"
    }
   ],
   "source": [
    "para[\"mean_mat\"].iloc[0:6,0:5]"
   ]
  },
  {
   "cell_type": "markdown",
   "metadata": {},
   "source": [
    "(step-5-simulate-new-data)=\n",
    "## Step 5: Simulate new data"
   ]
  },
  {
   "cell_type": "code",
   "execution_count": 17,
   "metadata": {
    "tags": [
     "remove-output"
    ]
   },
   "outputs": [
    {
     "name": "stderr",
     "output_type": "stream",
     "text": [
      "R[write to console]: Use Copula to sample a multivariate quantile matrix\n",
      "\n",
      "R[write to console]: Sample Copula group 1 starts\n",
      "\n"
     ]
    },
    {
     "name": "stdout",
     "output_type": "stream",
     "text": [
      "  |=======================================================| 100%, Elapsed 00:00\n"
     ]
    }
   ],
   "source": [
    "simu_new = test.simu_new(\n",
    "    mean_mat=para[\"mean_mat\"],\n",
    "    sigma_mat=para[\"sigma_mat\"],\n",
    "    zero_mat=para[\"zero_mat\"],\n",
    "    copula_dict=copula[\"copula_list\"],\n",
    "    input_data=const_data[\"dat\"],\n",
    "    new_covariate=const_data[\"newCovariate\"],\n",
    "    important_feature=copula[\"important_feature\"],\n",
    "    filtered_gene=const_data[\"filtered_gene\"],\n",
    ")"
   ]
  },
  {
   "cell_type": "markdown",
   "metadata": {},
   "source": [
    "The final simulated result is also a `pandas.DataFrame` object."
   ]
  },
  {
   "cell_type": "code",
   "execution_count": 18,
   "metadata": {},
   "outputs": [
    {
     "data": {
      "text/html": [
       "<div>\n",
       "<style scoped>\n",
       "    .dataframe tbody tr th:only-of-type {\n",
       "        vertical-align: middle;\n",
       "    }\n",
       "\n",
       "    .dataframe tbody tr th {\n",
       "        vertical-align: top;\n",
       "    }\n",
       "\n",
       "    .dataframe thead th {\n",
       "        text-align: right;\n",
       "    }\n",
       "</style>\n",
       "<table border=\"1\" class=\"dataframe\">\n",
       "  <thead>\n",
       "    <tr style=\"text-align: right;\">\n",
       "      <th></th>\n",
       "      <th>Pyy</th>\n",
       "      <th>Iapp</th>\n",
       "      <th>Chgb</th>\n",
       "      <th>Rbp4</th>\n",
       "      <th>Spp1</th>\n",
       "      <th>Chga</th>\n",
       "    </tr>\n",
       "  </thead>\n",
       "  <tbody>\n",
       "    <tr>\n",
       "      <th>AAACCTGAGAGGGATA</th>\n",
       "      <td>23.0</td>\n",
       "      <td>0.0</td>\n",
       "      <td>59.0</td>\n",
       "      <td>18.0</td>\n",
       "      <td>0.0</td>\n",
       "      <td>15.0</td>\n",
       "    </tr>\n",
       "    <tr>\n",
       "      <th>AAACCTGGTAAGTGGC</th>\n",
       "      <td>-0.0</td>\n",
       "      <td>1.0</td>\n",
       "      <td>7.0</td>\n",
       "      <td>-0.0</td>\n",
       "      <td>1.0</td>\n",
       "      <td>1.0</td>\n",
       "    </tr>\n",
       "    <tr>\n",
       "      <th>AAACGGGCAAAGAATC</th>\n",
       "      <td>216.0</td>\n",
       "      <td>2.0</td>\n",
       "      <td>123.0</td>\n",
       "      <td>39.0</td>\n",
       "      <td>-0.0</td>\n",
       "      <td>30.0</td>\n",
       "    </tr>\n",
       "    <tr>\n",
       "      <th>AAACGGGGTACAGTTC</th>\n",
       "      <td>19.0</td>\n",
       "      <td>248.0</td>\n",
       "      <td>12.0</td>\n",
       "      <td>80.0</td>\n",
       "      <td>0.0</td>\n",
       "      <td>7.0</td>\n",
       "    </tr>\n",
       "    <tr>\n",
       "      <th>AAACGGGGTGAAATCA</th>\n",
       "      <td>0.0</td>\n",
       "      <td>1.0</td>\n",
       "      <td>-0.0</td>\n",
       "      <td>-0.0</td>\n",
       "      <td>-0.0</td>\n",
       "      <td>-0.0</td>\n",
       "    </tr>\n",
       "    <tr>\n",
       "      <th>AAACGGGTCAAACAAG</th>\n",
       "      <td>0.0</td>\n",
       "      <td>-0.0</td>\n",
       "      <td>0.0</td>\n",
       "      <td>0.0</td>\n",
       "      <td>5.0</td>\n",
       "      <td>0.0</td>\n",
       "    </tr>\n",
       "  </tbody>\n",
       "</table>\n",
       "</div>"
      ],
      "text/plain": [
       "                    Pyy   Iapp   Chgb  Rbp4  Spp1  Chga\n",
       "AAACCTGAGAGGGATA   23.0    0.0   59.0  18.0   0.0  15.0\n",
       "AAACCTGGTAAGTGGC   -0.0    1.0    7.0  -0.0   1.0   1.0\n",
       "AAACGGGCAAAGAATC  216.0    2.0  123.0  39.0  -0.0  30.0\n",
       "AAACGGGGTACAGTTC   19.0  248.0   12.0  80.0   0.0   7.0\n",
       "AAACGGGGTGAAATCA    0.0    1.0   -0.0  -0.0  -0.0  -0.0\n",
       "AAACGGGTCAAACAAG    0.0   -0.0    0.0   0.0   5.0   0.0"
      ]
     },
     "execution_count": 18,
     "metadata": {},
     "output_type": "execute_result"
    }
   ],
   "source": [
    "simu_new.iloc[0:6,0:6]"
   ]
  }
 ],
 "metadata": {
  "kernelspec": {
   "display_name": "scrpy",
   "language": "python",
   "name": "python3"
  },
  "language_info": {
   "codemirror_mode": {
    "name": "ipython",
    "version": 3
   },
   "file_extension": ".py",
   "mimetype": "text/x-python",
   "name": "python",
   "nbconvert_exporter": "python",
   "pygments_lexer": "ipython3",
   "version": "3.11.5"
  },
  "orig_nbformat": 4
 },
 "nbformat": 4,
 "nbformat_minor": 2
}

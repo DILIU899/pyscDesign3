{
 "cells": [
  {
   "cell_type": "code",
   "execution_count": 1,
   "metadata": {
    "tags": [
     "remove-cell"
    ]
   },
   "outputs": [],
   "source": [
    "import os\n",
    "import sys\n",
    "import warnings\n",
    "\n",
    "os.chdir(\"..\")\n",
    "sys.path.append(\"../../\")\n",
    "warnings.filterwarnings(\"ignore\")"
   ]
  },
  {
   "cell_type": "markdown",
   "metadata": {},
   "source": [
    "# Perform likelihood ratio test\n",
    "\n",
    "## Introduction\n",
    "\n",
    "In this section, we will show how to use `perform_lrt` function to perform likelihood ratio test to compare two dicts of marginal models.\n",
    "\n",
    "To get detailed information of the input and output of the function, please check [API](../set_up/_autosummary/scDesign3Py.perform_lrt.rst).\n",
    "\n",
    "## Step 1: Import packages and Read in data\n",
    "\n",
    "### import pacakges\n"
   ]
  },
  {
   "cell_type": "code",
   "execution_count": 2,
   "metadata": {
    "tags": [
     "remove-output"
    ]
   },
   "outputs": [
    {
     "name": "stdout",
     "output_type": "stream",
     "text": [
      "The R project used is located at /home/ld/anaconda3/envs/pyscdesign/lib/R\n"
     ]
    }
   ],
   "source": [
    "import anndata as ad\n",
    "import scDesign3Py"
   ]
  },
  {
   "cell_type": "markdown",
   "metadata": {},
   "source": [
    "### Read in data\n",
    "\n",
    "The raw data is from the [scvelo](https://scvelo.readthedocs.io/scvelo.datasets.pancreas/) and we only choose top 30 genes to save time."
   ]
  },
  {
   "cell_type": "code",
   "execution_count": 3,
   "metadata": {},
   "outputs": [
    {
     "data": {
      "text/plain": [
       "View of AnnData object with n_obs × n_vars = 2087 × 30\n",
       "    obs: 'clusters_coarse', 'clusters', 'S_score', 'G2M_score', 'cell_type', 'sizeFactor', 'pseudotime'\n",
       "    var: 'highly_variable_genes'\n",
       "    obsm: 'X_pca', 'X_umap', 'X_x_pca', 'X_x_umap'"
      ]
     },
     "execution_count": 3,
     "metadata": {},
     "output_type": "execute_result"
    }
   ],
   "source": [
    "data = ad.read_h5ad(\"data/PANCREAS.h5ad\")\n",
    "data = data[:, 0:30]\n",
    "data"
   ]
  },
  {
   "cell_type": "markdown",
   "metadata": {},
   "source": [
    "## Step 2: Run the `fit_marginal()` method to create the marginal models "
   ]
  },
  {
   "cell_type": "code",
   "execution_count": 4,
   "metadata": {
    "tags": [
     "remove-output"
    ]
   },
   "outputs": [
    {
     "name": "stdout",
     "output_type": "stream",
     "text": [
      "  |=======================================================| 100%, Elapsed 00:03\n"
     ]
    }
   ],
   "source": [
    "# create the instance\n",
    "test1 = scDesign3Py.scDesign3(n_cores=3, parallelization=\"pbmcmapply\", return_py=False)\n",
    "test1.set_r_random_seed(123)\n",
    "\n",
    "# construct data\n",
    "test1.construct_data(\n",
    "    anndata=data,\n",
    "    default_assay_name=\"counts\",\n",
    "    celltype=\"cell_type\",\n",
    "    pseudotime=\"pseudotime\",\n",
    "    corr_formula=\"cell_type\",\n",
    ")\n",
    "\n",
    "# fit marginal\n",
    "marginal1 = test1.fit_marginal(\n",
    "    mu_formula=\"1\",\n",
    "    sigma_formula=\"1\",\n",
    "    family_use = \"nb\",\n",
    "    usebam = False,\n",
    ")"
   ]
  },
  {
   "cell_type": "code",
   "execution_count": 5,
   "metadata": {
    "tags": [
     "remove-output"
    ]
   },
   "outputs": [
    {
     "name": "stdout",
     "output_type": "stream",
     "text": [
      "  |=======================================================| 100%, Elapsed 00:01\n",
      "fitting ...\n",
      "  |======================================================================| 100%\n",
      "  |=======================================================| 100%, Elapsed 00:09\n"
     ]
    }
   ],
   "source": [
    "# create the instance\n",
    "test2 = scDesign3Py.scDesign3(n_cores=3, parallelization=\"pbmcmapply\", return_py=False)\n",
    "test2.set_r_random_seed(123)\n",
    "\n",
    "# construct data\n",
    "test2.construct_data(\n",
    "    anndata=data,\n",
    "    default_assay_name=\"counts\",\n",
    "    celltype=\"cell_type\",\n",
    "    pseudotime=\"pseudotime\",\n",
    "    corr_formula=\"pseudotime\",\n",
    "    ncell=10000,\n",
    ")\n",
    "\n",
    "# fit marginal\n",
    "marginal2 = test1.fit_marginal(\n",
    "    mu_formula=\"s(pseudotime, bs = 'cr', k = 10)\",\n",
    "    sigma_formula=\"1\",\n",
    "    family_use = \"nb\",\n",
    "    usebam = False,\n",
    ")"
   ]
  },
  {
   "cell_type": "markdown",
   "metadata": {},
   "source": [
    "## Step 3: Get the marginal models from the `fit` key"
   ]
  },
  {
   "cell_type": "code",
   "execution_count": 6,
   "metadata": {},
   "outputs": [],
   "source": [
    "marg_test_1 = {key:value.rx2(\"fit\") for key,value in marginal1.items()}\n",
    "marg_test_2 = {key:value.rx2(\"fit\") for key,value in marginal2.items()}"
   ]
  },
  {
   "cell_type": "markdown",
   "metadata": {},
   "source": [
    "## Step 4: Run the `perform_lrt` function to perform the likelihood ratio test\n",
    "\n",
    "The first argument is the alternative hypothesis and the second is the null hypothesis.\n",
    "\n",
    "The return value is a `pandas.DataFrame` object with each row corresponding to a gene (marginal) model LRT result."
   ]
  },
  {
   "cell_type": "code",
   "execution_count": 7,
   "metadata": {},
   "outputs": [
    {
     "data": {
      "text/html": [
       "<div>\n",
       "<style scoped>\n",
       "    .dataframe tbody tr th:only-of-type {\n",
       "        vertical-align: middle;\n",
       "    }\n",
       "\n",
       "    .dataframe tbody tr th {\n",
       "        vertical-align: top;\n",
       "    }\n",
       "\n",
       "    .dataframe thead th {\n",
       "        text-align: right;\n",
       "    }\n",
       "</style>\n",
       "<table border=\"1\" class=\"dataframe\">\n",
       "  <thead>\n",
       "    <tr style=\"text-align: right;\">\n",
       "      <th></th>\n",
       "      <th>same_model</th>\n",
       "      <th>LogLik_alter</th>\n",
       "      <th>LogLik_null</th>\n",
       "      <th>df_alter</th>\n",
       "      <th>df_null</th>\n",
       "      <th>p_value</th>\n",
       "    </tr>\n",
       "  </thead>\n",
       "  <tbody>\n",
       "    <tr>\n",
       "      <th>Pyy</th>\n",
       "      <td>1.0</td>\n",
       "      <td>-6335.504699</td>\n",
       "      <td>-7242.205596</td>\n",
       "      <td>9.341965</td>\n",
       "      <td>1.0</td>\n",
       "      <td>0.0</td>\n",
       "    </tr>\n",
       "    <tr>\n",
       "      <th>Iapp</th>\n",
       "      <td>1.0</td>\n",
       "      <td>-4260.230410</td>\n",
       "      <td>-5730.149416</td>\n",
       "      <td>9.802905</td>\n",
       "      <td>1.0</td>\n",
       "      <td>0.0</td>\n",
       "    </tr>\n",
       "    <tr>\n",
       "      <th>Chgb</th>\n",
       "      <td>1.0</td>\n",
       "      <td>-5764.120772</td>\n",
       "      <td>-6942.103030</td>\n",
       "      <td>9.883961</td>\n",
       "      <td>1.0</td>\n",
       "      <td>0.0</td>\n",
       "    </tr>\n",
       "    <tr>\n",
       "      <th>Rbp4</th>\n",
       "      <td>1.0</td>\n",
       "      <td>-5268.219696</td>\n",
       "      <td>-6522.623963</td>\n",
       "      <td>10.216497</td>\n",
       "      <td>1.0</td>\n",
       "      <td>0.0</td>\n",
       "    </tr>\n",
       "    <tr>\n",
       "      <th>Spp1</th>\n",
       "      <td>1.0</td>\n",
       "      <td>-3397.364727</td>\n",
       "      <td>-4865.083733</td>\n",
       "      <td>10.013325</td>\n",
       "      <td>1.0</td>\n",
       "      <td>0.0</td>\n",
       "    </tr>\n",
       "  </tbody>\n",
       "</table>\n",
       "</div>"
      ],
      "text/plain": [
       "      same_model  LogLik_alter  LogLik_null   df_alter  df_null  p_value\n",
       "Pyy          1.0  -6335.504699 -7242.205596   9.341965      1.0      0.0\n",
       "Iapp         1.0  -4260.230410 -5730.149416   9.802905      1.0      0.0\n",
       "Chgb         1.0  -5764.120772 -6942.103030   9.883961      1.0      0.0\n",
       "Rbp4         1.0  -5268.219696 -6522.623963  10.216497      1.0      0.0\n",
       "Spp1         1.0  -3397.364727 -4865.083733  10.013325      1.0      0.0"
      ]
     },
     "execution_count": 7,
     "metadata": {},
     "output_type": "execute_result"
    }
   ],
   "source": [
    "scDesign3Py.perform_lrt(marg_test_2,marg_test_1).head()"
   ]
  }
 ],
 "metadata": {
  "kernelspec": {
   "display_name": "scrpy",
   "language": "python",
   "name": "python3"
  },
  "language_info": {
   "codemirror_mode": {
    "name": "ipython",
    "version": 3
   },
   "file_extension": ".py",
   "mimetype": "text/x-python",
   "name": "python",
   "nbconvert_exporter": "python",
   "pygments_lexer": "ipython3",
   "version": "3.11.5"
  },
  "orig_nbformat": 4
 },
 "nbformat": 4,
 "nbformat_minor": 2
}

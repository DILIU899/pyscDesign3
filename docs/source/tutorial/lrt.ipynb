{
 "cells": [
  {
   "cell_type": "code",
   "execution_count": null,
   "metadata": {
    "tags": [
     "remove-cell"
    ]
   },
   "outputs": [],
   "source": [
    "import os\n",
    "import sys\n",
    "\n",
    "os.chdir(\"..\")\n",
    "sys.path.append(\"../../\")"
   ]
  },
  {
   "cell_type": "markdown",
   "metadata": {},
   "source": [
    "# Perform likelihood ratio test\n",
    "\n",
    "## Introduction\n",
    "\n",
    "In this section, we will show how to use `perform_lrt` function to perform likelihood ratio test to compare two dicts of marginal models.\n",
    "\n",
    "To get detailed information of the input and output of the function, please check [API](../set_up/_autosummary/scDesign3Py.perform_lrt.rst).\n",
    "\n",
    "## Step 1: Import packages and Read in data\n",
    "\n",
    "### import pacakges\n"
   ]
  },
  {
   "cell_type": "code",
   "execution_count": null,
   "metadata": {},
   "outputs": [],
   "source": [
    "import anndata as ad\n",
    "import scDesign3Py"
   ]
  },
  {
   "cell_type": "markdown",
   "metadata": {},
   "source": [
    "### Read in data\n",
    "\n",
    "The raw data is from the [scvelo](https://scvelo.readthedocs.io/scvelo.datasets.pancreas/) and we only choose top 30 genes to save time."
   ]
  },
  {
   "cell_type": "code",
   "execution_count": null,
   "metadata": {},
   "outputs": [],
   "source": [
    "data = ad.read_h5ad(\"data/PANCREAS.h5ad\")\n",
    "data = data[:, 0:30]\n",
    "data"
   ]
  },
  {
   "cell_type": "markdown",
   "metadata": {},
   "source": [
    "## Step 2: Run the `fit_marginal()` method to create the marginal models "
   ]
  },
  {
   "cell_type": "code",
   "execution_count": null,
   "metadata": {
    "tags": [
     "remove-output"
    ]
   },
   "outputs": [],
   "source": [
    "# create the instance\n",
    "test1 = scDesign3Py.scDesign3(n_cores=3, parallelization=\"mcmapply\", return_py=False)\n",
    "test1.set_r_random_seed(123)\n",
    "\n",
    "# construct data\n",
    "test1.construct_data(\n",
    "    anndata=data,\n",
    "    default_assay_name=\"counts\",\n",
    "    celltype=\"cell_type\",\n",
    "    pseudotime=\"pseudotime\",\n",
    "    corr_formula=\"cell_type\",\n",
    ")\n",
    "\n",
    "# fit marginal\n",
    "marginal1 = test1.fit_marginal(\n",
    "    mu_formula=\"1\",\n",
    "    sigma_formula=\"1\",\n",
    "    family_use = \"nb\",\n",
    "    usebam = False,\n",
    ")"
   ]
  },
  {
   "cell_type": "code",
   "execution_count": null,
   "metadata": {
    "tags": [
     "remove-output"
    ]
   },
   "outputs": [],
   "source": [
    "# create the instance\n",
    "test2 = scDesign3Py.scDesign3(n_cores=3, parallelization=\"mcmapply\", return_py=False)\n",
    "test2.set_r_random_seed(123)\n",
    "\n",
    "# construct data\n",
    "test2.construct_data(\n",
    "    anndata=data,\n",
    "    default_assay_name=\"counts\",\n",
    "    celltype=\"cell_type\",\n",
    "    pseudotime=\"pseudotime\",\n",
    "    corr_formula=\"pseudotime\",\n",
    "    ncell=10000,\n",
    ")\n",
    "\n",
    "# fit marginal\n",
    "marginal2 = test1.fit_marginal(\n",
    "    mu_formula=\"s(pseudotime, bs = 'cr', k = 10)\",\n",
    "    sigma_formula=\"1\",\n",
    "    family_use = \"nb\",\n",
    "    usebam = False,\n",
    ")"
   ]
  },
  {
   "cell_type": "markdown",
   "metadata": {},
   "source": [
    "## Step 3: Get the marginal models from the `fit` key"
   ]
  },
  {
   "cell_type": "code",
   "execution_count": null,
   "metadata": {},
   "outputs": [],
   "source": [
    "marg_test_1 = {key:value.rx2(\"fit\") for key,value in marginal1.items()}\n",
    "marg_test_2 = {key:value.rx2(\"fit\") for key,value in marginal2.items()}"
   ]
  },
  {
   "cell_type": "markdown",
   "metadata": {},
   "source": [
    "## Step 4: Run the `perform_lrt` function to perform the likelihood ratio test\n",
    "\n",
    "The first argument is the alternative hypothesis and the second is the null hypothesis.\n",
    "\n",
    "The return value is a `pandas.DataFrame` object with each row corresponding to a gene (marginal) model LRT result."
   ]
  },
  {
   "cell_type": "code",
   "execution_count": null,
   "metadata": {},
   "outputs": [],
   "source": [
    "scDesign3Py.perform_lrt(marg_test_2,marg_test_1).head()"
   ]
  }
 ],
 "metadata": {
  "kernelspec": {
   "display_name": "scrpy",
   "language": "python",
   "name": "python3"
  },
  "language_info": {
   "codemirror_mode": {
    "name": "ipython",
    "version": 3
   },
   "file_extension": ".py",
   "mimetype": "text/x-python",
   "name": "python",
   "nbconvert_exporter": "python",
   "pygments_lexer": "ipython3",
   "version": "3.11.5"
  },
  "orig_nbformat": 4
 },
 "nbformat": 4,
 "nbformat_minor": 2
}

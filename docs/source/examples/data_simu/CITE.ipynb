{
 "cells": [
  {
   "cell_type": "code",
   "execution_count": null,
   "metadata": {
    "tags": [
     "remove-cell"
    ]
   },
   "outputs": [],
   "source": [
    "import os\n",
    "import sys\n",
    "\n",
    "os.chdir(\"../..\")\n",
    "sys.path.append(\"../../\")"
   ]
  },
  {
   "cell_type": "markdown",
   "metadata": {},
   "source": [
    "# Simulate CITE-seq data\n",
    "\n",
    "## Introduction\n",
    "\n",
    "In this example, we show how to use scDesign3Py to simulate CITE-seq data and illustrate the similarity between the inputted reference data and synthetic data.\n",
    "\n",
    "## Import packages and Read in data\n",
    "\n",
    "### import pacakges\n"
   ]
  },
  {
   "cell_type": "code",
   "execution_count": null,
   "metadata": {
    "tags": [
     "remove-output"
    ]
   },
   "outputs": [],
   "source": [
    "import anndata as ad\n",
    "import numpy as np\n",
    "import pandas as pd\n",
    "from sklearn.decomposition import PCA\n",
    "from sklearn.preprocessing import MinMaxScaler\n",
    "import umap\n",
    "import scDesign3Py"
   ]
  },
  {
   "cell_type": "markdown",
   "metadata": {},
   "source": [
    "### Read in the reference data\n"
   ]
  },
  {
   "cell_type": "code",
   "execution_count": null,
   "metadata": {},
   "outputs": [],
   "source": [
    "data = ad.read_h5ad(\"data/CITE.h5ad\")"
   ]
  },
  {
   "cell_type": "markdown",
   "metadata": {},
   "source": [
    "To save computational time, we only use the top 100 genes and six more genes with protein and RNA abundance information.\n"
   ]
  },
  {
   "cell_type": "code",
   "execution_count": null,
   "metadata": {},
   "outputs": [],
   "source": [
    "keep_gene = [\"CD4\", \"CD14\", \"CD19\", \"CD34\", \"CD3E\", \"CD8A\"]\n",
    "keep_adt = [\"ADT_CD4\", \"ADT_CD14\", \"ADT_CD19\", \"ADT_CD34\", \"ADT_CD3\", \"ADT_CD8\"]\n",
    "keep = keep_gene + keep_adt\n",
    "idx = keep + data.var_names.tolist()[:100]\n",
    "data = data[:, idx]\n",
    "data.layers[\"log\"] = np.log1p(data.X)\n",
    "data"
   ]
  },
  {
   "cell_type": "markdown",
   "metadata": {},
   "source": [
    "## Simulation\n",
    "\n",
    "We input the reference data and use the one-shot function to simulate CITE-seq dat using discrete cell types as the covariates for fitting each gene’s marginal distribution.\n"
   ]
  },
  {
   "cell_type": "code",
   "execution_count": null,
   "metadata": {
    "tags": [
     "remove-output"
    ]
   },
   "outputs": [],
   "source": [
    "test = scDesign3Py.scDesign3(n_cores=3)\n",
    "test.set_r_random_seed(123)\n",
    "simu_res = test.scdesign3(\n",
    "    anndata=data,\n",
    "    default_assay_name=\"counts\",\n",
    "    celltype=\"cell_type\",\n",
    "    mu_formula=\"cell_type\",\n",
    "    sigma_formula=\"cell_type\",\n",
    "    family_use=\"nb\",\n",
    "    usebam=False,\n",
    "    corr_formula=\"cell_type\",\n",
    "    copula=\"vine\",\n",
    "    nonnegative=True,\n",
    "    nonzerovar=True,\n",
    ")"
   ]
  },
  {
   "cell_type": "markdown",
   "metadata": {},
   "source": [
    "After the simulation, we can create the `AnnData` object using the synthetic count matrix and store the logcounts to the input and synthetic `AnnData` objects.\n"
   ]
  },
  {
   "cell_type": "code",
   "execution_count": null,
   "metadata": {},
   "outputs": [],
   "source": [
    "simu_data = ad.AnnData(\n",
    "    X=simu_res[\"new_count\"], obs=simu_res[\"new_covariate\"], layers={\"log\": np.log1p(simu_res[\"new_count\"])}\n",
    ")"
   ]
  },
  {
   "cell_type": "markdown",
   "metadata": {},
   "source": [
    "Then, we obtained the PCA and UMAP for both the inputted reference data and the synthetic data. These sets of embedding will be used for the visualization below.\n"
   ]
  },
  {
   "cell_type": "code",
   "execution_count": null,
   "metadata": {},
   "outputs": [],
   "source": [
    "reducer_umap = umap.UMAP(n_neighbors=15, min_dist=0.1)\n",
    "reducer_pca = PCA(n_components=50, whiten=False)"
   ]
  },
  {
   "cell_type": "code",
   "execution_count": null,
   "metadata": {},
   "outputs": [],
   "source": [
    "reducer_pca.fit(data.layers[\"log\"].toarray())\n",
    "org_pca = reducer_pca.transform(data.layers[\"log\"].toarray())\n",
    "simu_pca = reducer_pca.transform(simu_data.layers[\"log\"].toarray())"
   ]
  },
  {
   "cell_type": "code",
   "execution_count": null,
   "metadata": {},
   "outputs": [],
   "source": [
    "reducer_umap.fit(org_pca)\n",
    "org_umap = reducer_umap.transform(org_pca)\n",
    "simu_umap = reducer_umap.transform(simu_pca)"
   ]
  },
  {
   "cell_type": "markdown",
   "metadata": {},
   "source": [
    "## Visualization\n",
    "\n",
    "To visualize the results, we select six genes and reformat their UMAP embedding we got in the previous step.\n"
   ]
  },
  {
   "cell_type": "code",
   "execution_count": null,
   "metadata": {},
   "outputs": [],
   "source": [
    "scaler = MinMaxScaler()\n",
    "org_data = pd.DataFrame(\n",
    "    np.concatenate([org_umap, scaler.fit_transform(data.layers[\"log\"].toarray()[:, 0:12])], axis=1),\n",
    "    columns=[\"UMAP1\", \"UMAP2\"]\n",
    "    + [\"CD4\", \"CD14\", \"CD19\", \"CD34\", \"CD3\", \"CD8\"]\n",
    "    + [\"ADT_CD4\", \"ADT_CD14\", \"ADT_CD19\", \"ADT_CD34\", \"ADT_CD3\", \"ADT_CD8\"],\n",
    ")\n",
    "simu_data = pd.DataFrame(\n",
    "    np.concatenate([simu_umap, scaler.fit_transform(simu_data.layers[\"log\"].toarray()[:, 0:12])], axis=1),\n",
    "    columns=[\"UMAP1\", \"UMAP2\"]\n",
    "    + [\"CD4\", \"CD14\", \"CD19\", \"CD34\", \"CD3\", \"CD8\"]\n",
    "    + [\"ADT_CD4\", \"ADT_CD14\", \"ADT_CD19\", \"ADT_CD34\", \"ADT_CD3\", \"ADT_CD8\"],\n",
    ")"
   ]
  },
  {
   "cell_type": "markdown",
   "metadata": {},
   "source": [
    "Six genes’ protein and RNA abundances are shown on the cell UMAP embeddings in the inputted reference data and the synthetic data below.\n"
   ]
  },
  {
   "cell_type": "code",
   "execution_count": null,
   "metadata": {},
   "outputs": [],
   "source": [
    "import matplotlib.pyplot as plt\n",
    "import matplotlib as mpl"
   ]
  },
  {
   "cell_type": "code",
   "execution_count": null,
   "metadata": {
    "tags": [
     "hide-input"
    ]
   },
   "outputs": [],
   "source": [
    "fig, axes = plt.subplots(2, 8, figsize=(8 * 3, 2 * 3), sharey=True, sharex=True)\n",
    "colors = plt.get_cmap(\"viridis\")\n",
    "norm = plt.Normalize(vmax=1, vmin=0)\n",
    "\n",
    "for i, name in enumerate(\n",
    "    [\"CD3_Protein\", \"CD3_RNA\", \"CD8_Protein\", \"CD8_RNA\", \"CD14_Protein\", \"CD14_RNA\", \"CD19_Protein\", \"CD19_RNA\"]\n",
    "):\n",
    "    for j, assay in enumerate([\"True Data\", \"scDesign3\"]):\n",
    "        ax = axes[j][i]\n",
    "        ax.set_xticks([])\n",
    "        ax.set_yticks([])\n",
    "        type = name.split(\"_\")[1]\n",
    "        gene = name.split(\"_\")[0]\n",
    "        if type == \"Protein\":\n",
    "            gene = \"ADT_\" + gene\n",
    "        if assay == \"True Data\":\n",
    "            dat = org_data[[\"UMAP1\", \"UMAP2\", gene]]\n",
    "            ax.set_title(type)\n",
    "        else:\n",
    "            dat = simu_data[[\"UMAP1\", \"UMAP2\", gene]]\n",
    "\n",
    "        ax.scatter(dat[\"UMAP1\"], dat[\"UMAP2\"], c=dat[gene], alpha=0.5)\n",
    "\n",
    "fig.tight_layout()\n",
    "fig.text(0.5, -0.05, \"UMAP1\", ha=\"center\", fontsize=15)\n",
    "fig.text(-0.008, 0.5, \"UMAP2\", va=\"center\", rotation=\"vertical\", fontsize=15)\n",
    "fig.text(1, 0.65, \"True Data\", fontsize=15, rotation=270)\n",
    "fig.text(1, 0.15, \"scDesign3\", fontsize=15, rotation=270)\n",
    "\n",
    "fig.text(0.12, 1.003, \"CD3\", fontsize=15)\n",
    "fig.text(0.365, 1.003, \"CD8\", fontsize=15)\n",
    "fig.text(0.61, 1.003, \"CD14\", fontsize=15)\n",
    "fig.text(0.86, 1.003, \"CD19\", fontsize=15)\n",
    "\n",
    "position = fig.add_axes([0.2, -0.1, 0.60, 0.025])\n",
    "fig.colorbar(mpl.cm.ScalarMappable(norm=norm, cmap=colors), cax=position, orientation=\"horizontal\")\n",
    "fig.text(0.13, -0.1, \"Expression\", fontsize=15)\n",
    "\n",
    "plt.show()"
   ]
  }
 ],
 "metadata": {
  "kernelspec": {
   "display_name": "pyscdesign",
   "language": "python",
   "name": "python3"
  },
  "language_info": {
   "codemirror_mode": {
    "name": "ipython",
    "version": 3
   },
   "file_extension": ".py",
   "mimetype": "text/x-python",
   "name": "python",
   "nbconvert_exporter": "python",
   "pygments_lexer": "ipython3",
   "version": "3.11.5"
  },
  "orig_nbformat": 4
 },
 "nbformat": 4,
 "nbformat_minor": 2
}

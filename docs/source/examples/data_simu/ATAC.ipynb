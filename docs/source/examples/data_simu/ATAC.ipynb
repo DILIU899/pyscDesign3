{
 "cells": [
  {
   "cell_type": "code",
   "execution_count": null,
   "metadata": {
    "tags": [
     "remove-cell"
    ]
   },
   "outputs": [],
   "source": [
    "import os\n",
    "import sys\n",
    "\n",
    "os.chdir(\"../..\")\n",
    "sys.path.append(\"../../\")"
   ]
  },
  {
   "cell_type": "markdown",
   "metadata": {},
   "source": [
    "# Simulate single-cell ATAC-seq data\n",
    "\n",
    "## Introduction\n",
    "\n",
    "In this example, we show how to use scDesign3Py to simulate the peak by cell matrix of scATAC-seq data.\n",
    "\n",
    "## Import packages and Read in data\n",
    "\n",
    "### import pacakges"
   ]
  },
  {
   "cell_type": "code",
   "execution_count": null,
   "metadata": {},
   "outputs": [],
   "source": [
    "import anndata as ad\n",
    "import numpy as np\n",
    "import pandas as pd\n",
    "from sklearn.feature_extraction.text import TfidfTransformer\n",
    "import scDesign3Py"
   ]
  },
  {
   "cell_type": "markdown",
   "metadata": {},
   "source": [
    "### Read in the reference data\n",
    "\n",
    "The raw data is from the [Signac](https://stuartlab.org/signac/articles/pbmc_vignette.html), which is of human peripheral blood mononuclear cells (PBMCs) provided by 10x Genomics. We pre-select the differentially accessible peaks between clusters. The data was converted to `.h5ad` file using the R package `sceasy`.\n",
    "\n",
    "To save time, we subset 1000 cells and 100 genes"
   ]
  },
  {
   "cell_type": "code",
   "execution_count": null,
   "metadata": {},
   "outputs": [],
   "source": [
    "data = ad.read_h5ad(\"data/ATAC.h5ad\")\n",
    "data = data[data.obs.sample(1000, random_state=123).index,0:100]\n",
    "data"
   ]
  },
  {
   "cell_type": "markdown",
   "metadata": {},
   "source": [
    "## Simulation\n",
    "\n",
    "Here we choose the Zero-inflated Poisson (ZIP) as the distribution due to its good empirical performance. Users may explore other distributions (Poisson, NB, ZINB) since there is no conclusion on the best distribution of ATAC-seq."
   ]
  },
  {
   "cell_type": "code",
   "execution_count": null,
   "metadata": {
    "tags": [
     "remove-output"
    ]
   },
   "outputs": [],
   "source": [
    "test = scDesign3Py.scDesign3(n_cores=3)\n",
    "test.set_r_random_seed(123)\n",
    "simu_res = test.scdesign3(\n",
    "    anndata=data,\n",
    "    default_assay_name=\"counts\",\n",
    "    celltype=\"cell_type\",\n",
    "    mu_formula=\"cell_type\",\n",
    "    sigma_formula=\"1\",\n",
    "    family_use=\"zip\",\n",
    "    usebam=False,\n",
    "    corr_formula=\"cell_type\",\n",
    "    copula=\"gaussian\",\n",
    ")"
   ]
  },
  {
   "cell_type": "code",
   "execution_count": null,
   "metadata": {},
   "outputs": [],
   "source": [
    "simu_res[\"new_count\"]"
   ]
  },
  {
   "cell_type": "markdown",
   "metadata": {},
   "source": [
    "We also run the TF-IDF transformation."
   ]
  },
  {
   "cell_type": "code",
   "execution_count": null,
   "metadata": {},
   "outputs": [],
   "source": [
    "tfidf = TfidfTransformer()\n",
    "org_tfidf = tfidf.fit_transform(data.X)\n",
    "simu_tfidf = tfidf.fit_transform(simu_res[\"new_count\"])"
   ]
  },
  {
   "cell_type": "markdown",
   "metadata": {},
   "source": [
    "Then we can construct new data using the simulated count matrix and add the `tfidf` layer."
   ]
  },
  {
   "cell_type": "code",
   "execution_count": null,
   "metadata": {},
   "outputs": [],
   "source": [
    "simu_data = ad.AnnData(X=simu_res[\"new_count\"], obs=simu_res[\"new_covariate\"], layers={\"tfidf\": simu_tfidf})\n",
    "data.layers[\"tfidf\"] = org_tfidf"
   ]
  },
  {
   "cell_type": "markdown",
   "metadata": {},
   "source": [
    "## Visualization"
   ]
  },
  {
   "cell_type": "code",
   "execution_count": null,
   "metadata": {},
   "outputs": [],
   "source": [
    "plot = scDesign3Py.plot_reduceddim(\n",
    "    ref_anndata=data,\n",
    "    anndata_list=simu_data,\n",
    "    name_list=[\"Reference\", \"scDesign3\"],\n",
    "    assay_use=\"tfidf\",\n",
    "    if_plot=True,\n",
    "    color_by=\"cell_type\",\n",
    "    n_pc=20,\n",
    "    point_size=5,\n",
    ")"
   ]
  },
  {
   "cell_type": "code",
   "execution_count": null,
   "metadata": {},
   "outputs": [],
   "source": [
    "plot[\"p_umap\"]"
   ]
  }
 ],
 "metadata": {
  "kernelspec": {
   "display_name": "pyscdesign",
   "language": "python",
   "name": "python3"
  },
  "language_info": {
   "codemirror_mode": {
    "name": "ipython",
    "version": 3
   },
   "file_extension": ".py",
   "mimetype": "text/x-python",
   "name": "python",
   "nbconvert_exporter": "python",
   "pygments_lexer": "ipython3",
   "version": "3.11.5"
  },
  "orig_nbformat": 4
 },
 "nbformat": 4,
 "nbformat_minor": 2
}

{
 "cells": [
  {
   "cell_type": "code",
   "execution_count": null,
   "metadata": {
    "tags": [
     "remove-cell"
    ]
   },
   "outputs": [],
   "source": [
    "import os\n",
    "import sys\n",
    "\n",
    "os.chdir(\"../..\")\n",
    "sys.path.append(\"../../\")"
   ]
  },
  {
   "cell_type": "markdown",
   "metadata": {},
   "source": [
    "# Simulate multi-omics data from single-omic data\n",
    "\n",
    "## Introduction\n",
    "\n",
    "In this example, we show how to use scDesign3Py to simulate multi-omics (RNA expression + DNA methylation) data by learning from real data that only have a single modality. The example data and aligned low-dimensional embeddings are from [Pamona](https://github.com/caokai1073/Pamona).\n",
    "\n",
    "## Import packages and Read in data\n",
    "\n",
    "### import pacakges\n"
   ]
  },
  {
   "cell_type": "code",
   "execution_count": null,
   "metadata": {
    "tags": [
     "remove-output"
    ]
   },
   "outputs": [],
   "source": [
    "import anndata as ad\n",
    "import pandas as pd\n",
    "import scDesign3Py\n",
    "import scanpy as sc"
   ]
  },
  {
   "cell_type": "markdown",
   "metadata": {},
   "source": [
    "### Read in the reference data\n"
   ]
  },
  {
   "cell_type": "code",
   "execution_count": null,
   "metadata": {},
   "outputs": [],
   "source": [
    "meth_exp = ad.read_h5ad(\"data/SCGEMMETH.h5ad\")\n",
    "rna_exp = ad.read_h5ad(\"data/SCGEMRNA.h5ad\")"
   ]
  },
  {
   "cell_type": "markdown",
   "metadata": {},
   "source": [
    "## Simulation\n",
    "\n",
    "We first use the step-by-step functions to fit genes’ marginal models, copulas, and extract simulation parameters separately for the scRNA-seq data and the DNA methylation data."
   ]
  },
  {
   "cell_type": "code",
   "execution_count": null,
   "metadata": {
    "tags": []
   },
   "outputs": [],
   "source": [
    "rna = scDesign3Py.scDesign3(n_cores=1)\n",
    "rna_data = rna.construct_data(\n",
    "    anndata=rna_exp,\n",
    "    default_assay_name=\"logcounts\",\n",
    "    celltype=\"cell_type\",\n",
    "    spatial=[\"UMAP1_integrated\",\"UMAP2_integrated\"],\n",
    "    corr_formula=\"1\"\n",
    ")"
   ]
  },
  {
   "cell_type": "code",
   "execution_count": null,
   "metadata": {},
   "outputs": [],
   "source": [
    "meth = scDesign3Py.scDesign3(n_cores=1)\n",
    "meth_data = meth.construct_data(\n",
    "    anndata=meth_exp,\n",
    "    default_assay_name=\"counts\",\n",
    "    celltype=\"cell_type\",\n",
    "    spatial=[\"UMAP1_integrated\", \"UMAP2_integrated\"],\n",
    "    corr_formula=\"1\",\n",
    ")"
   ]
  },
  {
   "cell_type": "markdown",
   "metadata": {},
   "source": [
    "Note here we actually treat the 2D aligned UMAPs as a kind of “pseudo”-spatial data. We use the tensor regression spline to fit two ref datasets seperately."
   ]
  },
  {
   "cell_type": "code",
   "execution_count": null,
   "metadata": {
    "tags": [
     "remove-output"
    ]
   },
   "outputs": [],
   "source": [
    "rna.set_r_random_seed(123)\n",
    "rna_marginal = rna.fit_marginal(\n",
    "    mu_formula=\"te(UMAP1_integrated, UMAP2_integrated, bs = 'cr', k = 10)\",\n",
    "    sigma_formula=\"te(UMAP1_integrated, UMAP2_integrated, bs = 'cr', k = 5)\",\n",
    "    family_use=\"gaussian\",\n",
    "    usebam=False,\n",
    ")"
   ]
  },
  {
   "cell_type": "code",
   "execution_count": null,
   "metadata": {
    "tags": [
     "remove-output"
    ]
   },
   "outputs": [],
   "source": [
    "meth.set_r_random_seed(123)\n",
    "meth_marginal = meth.fit_marginal(\n",
    "    mu_formula=\"te(UMAP1_integrated, UMAP2_integrated, bs = 'cr', k = 10)\",\n",
    "    sigma_formula=\"1\",\n",
    "    family_use=\"binomial\",\n",
    "    usebam=False,\n",
    ")"
   ]
  },
  {
   "cell_type": "code",
   "execution_count": null,
   "metadata": {
    "tags": [
     "remove-output"
    ]
   },
   "outputs": [],
   "source": [
    "rna_copula = rna.fit_copula(copula=\"vine\")"
   ]
  },
  {
   "cell_type": "code",
   "execution_count": null,
   "metadata": {
    "tags": [
     "remove-output"
    ]
   },
   "outputs": [],
   "source": [
    "meth_copula = meth.fit_copula(copula=\"vine\")"
   ]
  },
  {
   "cell_type": "code",
   "execution_count": null,
   "metadata": {
    "tags": [
     "remove-output"
    ]
   },
   "outputs": [],
   "source": [
    "rna_para = rna.extract_para(new_covariate=pd.concat([rna_data[\"dat\"], meth_data[\"dat\"]], axis=0))"
   ]
  },
  {
   "cell_type": "code",
   "execution_count": null,
   "metadata": {
    "tags": [
     "remove-output"
    ]
   },
   "outputs": [],
   "source": [
    "meth_para = meth.extract_para(new_covariate=pd.concat([rna_data[\"dat\"], meth_data[\"dat\"]], axis=0))"
   ]
  },
  {
   "cell_type": "markdown",
   "metadata": {},
   "source": [
    "Then, we combined the cell covariates from both the scRNA-seq data and the DNA methylation data as the new covariate to simulate the two new datasets with parameters from scRNA-seq data and the DNA methylation data separately."
   ]
  },
  {
   "cell_type": "code",
   "execution_count": null,
   "metadata": {},
   "outputs": [],
   "source": [
    "rna_res = rna.simu_new(new_covariate=pd.concat([rna_data[\"dat\"], meth_data[\"dat\"]], axis=0),\n",
    "                       important_feature=rna_copula[\"important_feature\"],)"
   ]
  },
  {
   "cell_type": "code",
   "execution_count": null,
   "metadata": {},
   "outputs": [],
   "source": [
    "meth_res = meth.simu_new(new_covariate=pd.concat([rna_data[\"dat\"], meth_data[\"dat\"]], axis=0),\n",
    "                         important_feature=meth_copula[\"important_feature\"],)"
   ]
  },
  {
   "cell_type": "markdown",
   "metadata": {},
   "source": [
    "## Visualization\n",
    "\n",
    "We combine the two synthetic datasets and obtain the UMAP embeddings for the combined dataset."
   ]
  },
  {
   "cell_type": "code",
   "execution_count": null,
   "metadata": {
    "tags": [
     "remove-output"
    ]
   },
   "outputs": [],
   "source": [
    "count_combine = pd.concat([rna_res,meth_res], axis=1)\n",
    "combine_exp = ad.AnnData(X=count_combine)"
   ]
  },
  {
   "cell_type": "code",
   "execution_count": null,
   "metadata": {},
   "outputs": [],
   "source": [
    "sc.tl.pca(combine_exp, n_comps=5)\n",
    "sc.pp.neighbors(combine_exp, n_neighbors=30, n_pcs=5)\n",
    "sc.tl.umap(combine_exp, min_dist=0.7)"
   ]
  },
  {
   "cell_type": "code",
   "execution_count": null,
   "metadata": {},
   "outputs": [],
   "source": [
    "rna_exp.obsm[\"cov\"] = rna_exp.obs.iloc[:,0:5]\n",
    "sc.pp.neighbors(rna_exp, n_neighbors=30, use_rep=\"cov\")\n",
    "sc.tl.umap(rna_exp, min_dist=0.7)"
   ]
  },
  {
   "cell_type": "code",
   "execution_count": null,
   "metadata": {},
   "outputs": [],
   "source": [
    "meth_exp.obsm[\"cov\"] = meth_exp.obs.iloc[:,0:5]\n",
    "sc.pp.neighbors(meth_exp, n_neighbors=30, use_rep=\"cov\")\n",
    "sc.tl.umap(meth_exp, min_dist=0.7)"
   ]
  },
  {
   "cell_type": "markdown",
   "metadata": {},
   "source": [
    "Then we visualize the UMAP embeddings for the inputted scRNA-seq data, DNA methylation data, and the combined synthetic data."
   ]
  },
  {
   "cell_type": "code",
   "execution_count": null,
   "metadata": {},
   "outputs": [],
   "source": [
    "import matplotlib.pyplot as plt\n",
    "import seaborn as sns"
   ]
  },
  {
   "cell_type": "code",
   "execution_count": null,
   "metadata": {
    "tags": [
     "hide-input"
    ]
   },
   "outputs": [],
   "source": [
    "fig, axs = plt.subplots(1, 3, figsize=(18, 6), sharex=True, sharey=True)\n",
    "\n",
    "sns.scatterplot(data=pd.DataFrame(rna_exp.obsm[\"X_umap\"],columns=[\"UMAP1\",\"UMAP2\"]), x=\"UMAP1\", y=\"UMAP2\", ax=axs[0], color = \"#66c2a5\")\n",
    "axs[0].set_title(\"Real data: RNA\")\n",
    "axs[0].text(0.95, 0.05, \"32 Features + 177 Cells\", verticalalignment=\"bottom\", horizontalalignment=\"right\", transform=axs[0].transAxes, fontsize=15)\n",
    "\n",
    "sns.scatterplot(data=pd.DataFrame(meth_exp.obsm[\"X_umap\"],columns=[\"UMAP1\",\"UMAP2\"]), x=\"UMAP1\", y=\"UMAP2\", ax=axs[1], color = \"#8ea0c9\")\n",
    "axs[1].set_title(\"Real data: Methylation\")\n",
    "axs[1].text(0.95, 0.05, \"27 Features + 142 Cells\", verticalalignment=\"bottom\", horizontalalignment=\"right\", transform=axs[1].transAxes, fontsize=15)\n",
    "\n",
    "sns.scatterplot(data=pd.DataFrame(combine_exp.obsm[\"X_umap\"],columns=[\"UMAP1\",\"UMAP2\"]), x=\"UMAP1\", y=\"UMAP2\", ax=axs[2], color = \"#f79974\")\n",
    "axs[2].set_title(\"scDesign3: RNA + Meythlation\")\n",
    "axs[2].text(0.95, 0.05, \"59 Features + 319 Cells\", verticalalignment=\"bottom\", horizontalalignment=\"right\", transform=axs[2].transAxes, fontsize=15)\n",
    "\n",
    "plt.tight_layout()\n",
    "plt.show()"
   ]
  }
 ],
 "metadata": {
  "kernelspec": {
   "display_name": "pyscdesign",
   "language": "python",
   "name": "python3"
  },
  "language_info": {
   "codemirror_mode": {
    "name": "ipython",
    "version": 3
   },
   "file_extension": ".py",
   "mimetype": "text/x-python",
   "name": "python",
   "nbconvert_exporter": "python",
   "pygments_lexer": "ipython3",
   "version": "3.11.5"
  },
  "orig_nbformat": 4
 },
 "nbformat": 4,
 "nbformat_minor": 2
}

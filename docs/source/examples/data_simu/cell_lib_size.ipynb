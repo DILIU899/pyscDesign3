{
 "cells": [
  {
   "cell_type": "code",
   "execution_count": null,
   "metadata": {
    "tags": [
     "remove-cell"
    ]
   },
   "outputs": [],
   "source": [
    "import os\n",
    "import sys\n",
    "\n",
    "os.chdir(\"../..\")\n",
    "sys.path.append(\"../../\")"
   ]
  },
  {
   "cell_type": "markdown",
   "metadata": {},
   "source": [
    "# Simulate datasets with cell library size\n",
    "\n",
    "## Introduction\n",
    "\n",
    "In this example, we will show how to use pyscDesign3 to simulate datasets adjusted by cell library size. The purpose of this example is to show that including the library size when modeling the marginal distribution for each gene can help cells in the synthetic data have more similar library sizes as the cells in the real data.\n",
    "\n",
    "## Import packages and Read in data\n",
    "\n",
    "### import pacakges"
   ]
  },
  {
   "cell_type": "code",
   "execution_count": null,
   "metadata": {},
   "outputs": [],
   "source": [
    "import anndata as ad\n",
    "import numpy as np\n",
    "import pandas as pd\n",
    "import scanpy as sc\n",
    "import pyscDesign3"
   ]
  },
  {
   "cell_type": "markdown",
   "metadata": {},
   "source": [
    "### Read in the reference data\n",
    "\n",
    "The raw data is from the R package `DuoClustering2018` which contain a set of datasets with true cell type labels and converted to `.h5ad` file using the R package `sceasy`."
   ]
  },
  {
   "cell_type": "code",
   "execution_count": null,
   "metadata": {},
   "outputs": [],
   "source": [
    "data = ad.read_h5ad(\"data/Zhengmix4eq.h5ad\")\n",
    "data.obs[\"cell_type\"] = data.obs[\"phenoid\"]\n",
    "data.obs[\"cell_type\"] = data.obs[\"cell_type\"].astype(\"category\")"
   ]
  },
  {
   "cell_type": "markdown",
   "metadata": {},
   "source": [
    "We then calculate the library size for each cell."
   ]
  },
  {
   "cell_type": "code",
   "execution_count": null,
   "metadata": {},
   "outputs": [],
   "source": [
    "sc.pp.calculate_qc_metrics(data,inplace=True)\n",
    "data.obs.rename(columns={'total_counts':'library'},inplace=True)"
   ]
  },
  {
   "cell_type": "code",
   "execution_count": null,
   "metadata": {},
   "outputs": [],
   "source": [
    "data"
   ]
  },
  {
   "cell_type": "markdown",
   "metadata": {},
   "source": [
    "## Simulation\n",
    "\n",
    "Then, we set the mu_formula as cell_type and offsetted by the cell library size to generate new dataset adjusted by library size. The library size is log-transformed because the link function for $\\mu$ of the negative binomial distribution in GAMLSS is **log**."
   ]
  },
  {
   "cell_type": "code",
   "execution_count": null,
   "metadata": {
    "tags": [
     "hide-output"
    ]
   },
   "outputs": [],
   "source": [
    "test = pyscDesign3.scDesign3(n_cores=3,parallelization=\"pbmcmapply\")\n",
    "simu_res = test.scdesign3(    \n",
    "    anndata = data,\n",
    "    default_assay_name = \"counts\",\n",
    "    celltype = \"cell_type\",\n",
    "    other_covariates = \"library\",\n",
    "    mu_formula = \"cell_type + offset(log(library))\",\n",
    "    sigma_formula = \"1\",\n",
    "    family_use = \"nb\",\n",
    "    usebam = True,\n",
    "    corr_formula = \"1\",\n",
    "    copula = \"gaussian\",\n",
    "    important_feature = \"auto\")"
   ]
  },
  {
   "cell_type": "markdown",
   "metadata": {},
   "source": [
    "Then we can construct new data using the simulated count matrix."
   ]
  },
  {
   "cell_type": "code",
   "execution_count": null,
   "metadata": {},
   "outputs": [],
   "source": [
    "simu_data = ad.AnnData(X=simu_res[\"new_count\"], obs=simu_res[\"new_covariate\"])\n",
    "simu_data.layers[\"log_transformed\"] = np.log1p(simu_data.X)\n",
    "data.layers[\"log_transformed\"] = np.log1p(data.X)"
   ]
  },
  {
   "cell_type": "markdown",
   "metadata": {},
   "source": [
    "## Visualization"
   ]
  },
  {
   "cell_type": "code",
   "execution_count": null,
   "metadata": {},
   "outputs": [],
   "source": [
    "import matplotlib.pyplot as plt\n",
    "import seaborn as sns"
   ]
  },
  {
   "cell_type": "code",
   "execution_count": null,
   "metadata": {
    "tags": [
     "remove-output"
    ]
   },
   "outputs": [],
   "source": [
    "plot = pyscDesign3.plot_reduceddim(\n",
    "    ref_anndata=data,\n",
    "    anndata_list=simu_data,\n",
    "    name_list=[\"Reference\", \"scDesign3\"],\n",
    "    assay_use=\"log_transformed\",\n",
    "    if_plot=True,\n",
    "    color_by=\"cell_type\",\n",
    "    n_pc=20,\n",
    "    point_size=5,\n",
    ")"
   ]
  },
  {
   "cell_type": "code",
   "execution_count": null,
   "metadata": {},
   "outputs": [],
   "source": [
    "plot[\"p_umap\"]"
   ]
  },
  {
   "cell_type": "markdown",
   "metadata": {},
   "source": [
    "The violin plot below shows the cells in simulated dataset have similar library size as the cells in the reference dataset."
   ]
  },
  {
   "cell_type": "code",
   "execution_count": null,
   "metadata": {
    "tags": [
     "hide-input"
    ]
   },
   "outputs": [],
   "source": [
    "sc.pp.calculate_qc_metrics(simu_data,inplace=True)\n",
    "simu_data.obs.rename(columns={'total_counts':'simu_library'},inplace=True)\n",
    "df = pd.concat([data.obs[\"library\"],simu_data.obs[\"simu_library\"]],axis=1)\n",
    "\n",
    "# plot\n",
    "sns.violinplot(df)\n",
    "plt.xlabel(\"Method\")\n",
    "plt.ylabel(\"library\")\n",
    "plt.xticks(ticks = [0, 1], labels = [\"Reference\",\"scDesign3\"])\n",
    "plt.show()"
   ]
  }
 ],
 "metadata": {
  "kernelspec": {
   "display_name": "scrpy",
   "language": "python",
   "name": "python3"
  },
  "language_info": {
   "codemirror_mode": {
    "name": "ipython",
    "version": 3
   },
   "file_extension": ".py",
   "mimetype": "text/x-python",
   "name": "python",
   "nbconvert_exporter": "python",
   "pygments_lexer": "ipython3",
   "version": "3.11.5"
  },
  "orig_nbformat": 4
 },
 "nbformat": 4,
 "nbformat_minor": 2
}

{
 "cells": [
  {
   "cell_type": "code",
   "execution_count": null,
   "metadata": {
    "tags": [
     "remove-cell"
    ]
   },
   "outputs": [],
   "source": [
    "import os\n",
    "import sys\n",
    "\n",
    "os.chdir(\"../..\")\n",
    "sys.path.append(\"../../\")"
   ]
  },
  {
   "cell_type": "markdown",
   "metadata": {},
   "source": [
    "# Simulate datasets with batch effect\n",
    "\n",
    "## Introduction\n",
    "\n",
    "In this example, we will show how to use pyscDesign3 to simulate data with original batch effects and how to remove the batch effects. We will also demostrate how to add ariticial batch effects.\n",
    "\n",
    "## Import packages and Read in data\n",
    "\n",
    "### import pacakges"
   ]
  },
  {
   "cell_type": "code",
   "execution_count": null,
   "metadata": {},
   "outputs": [],
   "source": [
    "import copy\n",
    "import anndata as ad\n",
    "import numpy as np\n",
    "import pyscDesign3"
   ]
  },
  {
   "cell_type": "markdown",
   "metadata": {},
   "source": [
    "### Read in data\n",
    "\n",
    "The raw data is from the `SeuratData` package. The data is called `pbmcsca` in the package; it is PBMC Systematic Comparative Analysis dataset from the Broad Institute. The raw data is converted to `.h5ad` file using the R package `sceasy`.\n",
    "\n",
    "To save time, we only choose the top 30 genes."
   ]
  },
  {
   "cell_type": "code",
   "execution_count": null,
   "metadata": {},
   "outputs": [],
   "source": [
    "data = ad.read_h5ad(\"data/BATCH.h5ad\")\n",
    "data = data[:,0:30]\n",
    "data.layers[\"log\"] = np.log1p(data.X)\n",
    "data"
   ]
  },
  {
   "cell_type": "markdown",
   "metadata": {},
   "source": [
    "The column `batch` in this example dataset’s obs contains the batch information."
   ]
  },
  {
   "cell_type": "code",
   "execution_count": null,
   "metadata": {},
   "outputs": [],
   "source": [
    "data.obs[\"batch\"].head()"
   ]
  },
  {
   "cell_type": "markdown",
   "metadata": {},
   "source": [
    "## Simulation\n",
    "\n",
    "We can simulate a new data with batch effect information."
   ]
  },
  {
   "cell_type": "code",
   "execution_count": null,
   "metadata": {
    "tags": [
     "remove-output"
    ]
   },
   "outputs": [],
   "source": [
    "test = pyscDesign3.scDesign3(n_cores=6)\n",
    "test.set_r_random_seed(123)\n",
    "simu_res = test.scdesign3(anndata=data, \n",
    "                        default_assay_name = \"counts\", \n",
    "                        celltype = \"cell_type\", \n",
    "                        other_covariates = \"batch\", \n",
    "                        mu_formula = \"cell_type + batch\", \n",
    "                        sigma_formula = \"1\", \n",
    "                        family_use = \"nb\", \n",
    "                        usebam = True, \n",
    "                        corr_formula = \"1\", \n",
    "                        copula = \"gaussian\",)\n",
    "simu_count = simu_res[\"new_count\"]"
   ]
  },
  {
   "cell_type": "markdown",
   "metadata": {},
   "source": [
    "We can also remove the batch effect and generate new data."
   ]
  },
  {
   "cell_type": "code",
   "execution_count": null,
   "metadata": {},
   "outputs": [],
   "source": [
    "# create instance\n",
    "batch = pyscDesign3.scDesign3(n_cores=6)"
   ]
  },
  {
   "cell_type": "code",
   "execution_count": null,
   "metadata": {},
   "outputs": [],
   "source": [
    "# construct data\n",
    "batch_data = batch.construct_data(\n",
    "    anndata=data,\n",
    "    default_assay_name=\"counts\",\n",
    "    celltype = \"cell_type\",\n",
    "    other_covariates = \"batch\",\n",
    "    corr_formula = \"1\"\n",
    ")"
   ]
  },
  {
   "cell_type": "code",
   "execution_count": null,
   "metadata": {},
   "outputs": [],
   "source": [
    "batch_data.keys()"
   ]
  },
  {
   "cell_type": "code",
   "execution_count": null,
   "metadata": {
    "tags": [
     "remove-output"
    ]
   },
   "outputs": [],
   "source": [
    "# fit marginal\n",
    "batch_marginal = batch.fit_marginal(\n",
    "    mu_formula=\"cell_type + batch\",\n",
    "    sigma_formula=\"1\",\n",
    "    family_use=\"nb\",\n",
    "    usebam=True,\n",
    ")"
   ]
  },
  {
   "cell_type": "code",
   "execution_count": null,
   "metadata": {
    "tags": [
     "remove-output"
    ]
   },
   "outputs": [],
   "source": [
    "# fit copula\n",
    "batch_copula = batch.fit_copula()"
   ]
  },
  {
   "cell_type": "markdown",
   "metadata": {
    "tags": [
     "remove-output"
    ]
   },
   "source": [
    "In here, we remove the batch effect by setting its coefficient to zero for all genes’ marginal fits. Then, we use the new sets of coefficients to generate the parameters for all genes across all cells."
   ]
  },
  {
   "cell_type": "code",
   "execution_count": null,
   "metadata": {},
   "outputs": [],
   "source": [
    "batch_null = pyscDesign3.scDesign3(n_cores=6)\n",
    "batch_data_null = batch_null.construct_data(\n",
    "    anndata=data,\n",
    "    default_assay_name=\"counts\",\n",
    "    celltype = \"cell_type\",\n",
    "    other_covariates = \"batch\",\n",
    "    corr_formula = \"1\"\n",
    ")"
   ]
  },
  {
   "cell_type": "code",
   "execution_count": null,
   "metadata": {},
   "outputs": [],
   "source": [
    "batch_marginal_null = copy.deepcopy(batch_marginal)\n",
    "for k,_ in batch_marginal_null.items():\n",
    "    batch_marginal_null.rx2(k).rx2(\"fit\").rx2(\"coefficients\")[-1] = 0"
   ]
  },
  {
   "cell_type": "code",
   "execution_count": null,
   "metadata": {},
   "outputs": [],
   "source": [
    "batch_para_null = batch_null.extract_para(\n",
    "    marginal_dict=batch_marginal_null,\n",
    "    family_use=\"nb\",\n",
    ")"
   ]
  },
  {
   "cell_type": "code",
   "execution_count": null,
   "metadata": {
    "tags": [
     "remove-output"
    ]
   },
   "outputs": [],
   "source": [
    "batch_null.set_r_random_seed(123)\n",
    "batch_null.copula = \"gaussian\"\n",
    "batch_new_count_null = batch_null.simu_new(\n",
    "    copula_dict=batch_copula[\"copula_list\"],\n",
    "    family_use=\"nb\",\n",
    "    important_feature=batch_copula[\"important_feature\"],\n",
    ")"
   ]
  },
  {
   "cell_type": "markdown",
   "metadata": {},
   "source": [
    "```{eval-rst}\n",
    ".. Note::\n",
    "    Here, as we direct use another copula model result, to tell the pyscDesign3 how to change the copula dict back to R list, the class property `copula` should be specified.\n",
    "```"
   ]
  },
  {
   "cell_type": "markdown",
   "metadata": {},
   "source": [
    "Additionally, we can alter the batch effect information by mannually change the estimated coefficient for batch effect in each gene’s marginal model. Then, we can simulate new dataset with altered batch effect information."
   ]
  },
  {
   "cell_type": "code",
   "execution_count": null,
   "metadata": {},
   "outputs": [],
   "source": [
    "batch_alter = pyscDesign3.scDesign3(n_cores=6)\n",
    "batch_data_alter = batch_alter.construct_data(\n",
    "    anndata=data,\n",
    "    default_assay_name=\"counts\",\n",
    "    celltype = \"cell_type\",\n",
    "    other_covariates = \"batch\",\n",
    "    corr_formula = \"1\"\n",
    ")"
   ]
  },
  {
   "cell_type": "code",
   "execution_count": null,
   "metadata": {},
   "outputs": [],
   "source": [
    "batch_marginal_alter = copy.deepcopy(batch_marginal)\n",
    "for k,_ in batch_marginal_alter.items():\n",
    "    batch_marginal_null.rx2(k).rx2(\"fit\").rx2(\"coefficients\")[-1] = np.random.normal(loc=1,scale=2)"
   ]
  },
  {
   "cell_type": "code",
   "execution_count": null,
   "metadata": {},
   "outputs": [],
   "source": [
    "batch_para_alter = batch_alter.extract_para(\n",
    "    marginal_dict=batch_marginal_alter,\n",
    "    family_use=\"nb\",\n",
    ")"
   ]
  },
  {
   "cell_type": "code",
   "execution_count": null,
   "metadata": {},
   "outputs": [],
   "source": [
    "batch_alter.set_r_random_seed(123)\n",
    "batch_alter.copula = \"gaussian\"\n",
    "batch_new_count_alter = batch_alter.simu_new(\n",
    "    copula_dict=batch_copula[\"copula_list\"],\n",
    "    family_use=\"nb\",\n",
    "    important_feature=batch_copula[\"important_feature\"],\n",
    ")"
   ]
  },
  {
   "cell_type": "markdown",
   "metadata": {},
   "source": [
    "We then create the corresponding `anndata.AnnData` object."
   ]
  },
  {
   "cell_type": "code",
   "execution_count": null,
   "metadata": {},
   "outputs": [],
   "source": [
    "simu_anndata_list = []\n",
    "for count_mat in [simu_count,batch_new_count_null,batch_new_count_alter]:\n",
    "    tmp = ad.AnnData(X=count_mat,obs=batch_data[\"newCovariate\"])\n",
    "    tmp.layers[\"log\"] = np.log1p(tmp.X)\n",
    "    simu_anndata_list.append(tmp)"
   ]
  },
  {
   "cell_type": "markdown",
   "metadata": {},
   "source": [
    "## Visulization"
   ]
  },
  {
   "cell_type": "code",
   "execution_count": null,
   "metadata": {
    "tags": [
     "remove-output"
    ]
   },
   "outputs": [],
   "source": [
    "plot = pyscDesign3.plot_reduceddim(\n",
    "    ref_anndata=data,\n",
    "    anndata_list=simu_anndata_list,\n",
    "    name_list=[\"Reference\", \"w/ Batch\", \"w/o Batch\", \"Aritifical Batch\"],\n",
    "    assay_use=\"log\",\n",
    "    color_by = \"cell_type\", \n",
    "    shape_by = \"batch\",\n",
    "    n_pc=20,\n",
    "    point_size=5,\n",
    ")"
   ]
  },
  {
   "cell_type": "markdown",
   "metadata": {},
   "source": [
    "### UMAP"
   ]
  },
  {
   "cell_type": "code",
   "execution_count": null,
   "metadata": {},
   "outputs": [],
   "source": [
    "plot[\"p_umap\"]"
   ]
  }
 ],
 "metadata": {
  "kernelspec": {
   "display_name": "scrpy",
   "language": "python",
   "name": "python3"
  },
  "language_info": {
   "codemirror_mode": {
    "name": "ipython",
    "version": 3
   },
   "file_extension": ".py",
   "mimetype": "text/x-python",
   "name": "python",
   "nbconvert_exporter": "python",
   "pygments_lexer": "ipython3",
   "version": "3.11.5"
  },
  "orig_nbformat": 4
 },
 "nbformat": 4,
 "nbformat_minor": 2
}

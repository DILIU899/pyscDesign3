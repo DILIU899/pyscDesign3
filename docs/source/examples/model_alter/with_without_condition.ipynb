{
 "cells": [
  {
   "cell_type": "code",
   "execution_count": null,
   "metadata": {
    "tags": [
     "remove-cell"
    ]
   },
   "outputs": [],
   "source": [
    "import os\n",
    "import sys\n",
    "\n",
    "os.chdir(\"../..\")\n",
    "sys.path.append(\"../../\")"
   ]
  },
  {
   "cell_type": "markdown",
   "metadata": {},
   "source": [
    "# Simulate datasets with condition effect\n",
    "\n",
    "## Introduction\n",
    "\n",
    "In this example, we will show how to use scDesign3Py to simulate data with condition effects and how to adjust the condition effects.\n",
    "\n",
    "## Import packages and Read in data\n",
    "\n",
    "### import pacakges"
   ]
  },
  {
   "cell_type": "code",
   "execution_count": null,
   "metadata": {},
   "outputs": [],
   "source": [
    "import copy\n",
    "import anndata as ad\n",
    "import numpy as np\n",
    "import scDesign3Py"
   ]
  },
  {
   "cell_type": "markdown",
   "metadata": {},
   "source": [
    "### Read in data\n",
    "\n",
    "The raw data is from the `SeuratData` package. The data is called `ifnb` in the package; it is PBMC data simulated and controlled by IFNB. The raw data is converted to `.h5ad` file using the R package `sceasy`.\n",
    "\n",
    "To save time, we only choose the top 30 genes and two cell types (CD14 Mono and B)."
   ]
  },
  {
   "cell_type": "code",
   "execution_count": null,
   "metadata": {},
   "outputs": [],
   "source": [
    "data = ad.read_h5ad(\"data/IFNB.h5ad\")\n",
    "data = data[(data.obs[\"cell_type\"] == \"CD14 Mono\") | (data.obs[\"cell_type\"] == \"B\"), 0:30]\n",
    "data.layers[\"log\"] = np.log1p(data.X)\n",
    "data"
   ]
  },
  {
   "cell_type": "markdown",
   "metadata": {},
   "source": [
    "The condition information is stored in obs property of the example dataset."
   ]
  },
  {
   "cell_type": "code",
   "execution_count": null,
   "metadata": {},
   "outputs": [],
   "source": [
    "data.obs.head()"
   ]
  },
  {
   "cell_type": "markdown",
   "metadata": {},
   "source": [
    "## Simulation\n",
    "\n",
    "First, we will simulate new data with the condition effects."
   ]
  },
  {
   "cell_type": "code",
   "execution_count": null,
   "metadata": {
    "tags": [
     "remove-output"
    ]
   },
   "outputs": [],
   "source": [
    "test = scDesign3Py.scDesign3(n_cores=3)\n",
    "test.set_r_random_seed(123)\n",
    "simu_res = test.scdesign3(\n",
    "    anndata=data,\n",
    "    default_assay_name=\"counts\",\n",
    "    celltype=\"cell_type\",\n",
    "    other_covariates=\"condition\",\n",
    "    mu_formula=\"cell_type + condition + cell_type*condition\",\n",
    "    sigma_formula=\"1\",\n",
    "    family_use=\"nb\",\n",
    "    usebam=False,\n",
    "    corr_formula=\"cell_type\",\n",
    "    copula=\"gaussian\",\n",
    ")\n",
    "ifnb_newcount = simu_res[\"new_count\"]"
   ]
  },
  {
   "cell_type": "markdown",
   "metadata": {},
   "source": [
    "Then, we can also simulate a new dataset with condition effects on B cells removed."
   ]
  },
  {
   "cell_type": "code",
   "execution_count": null,
   "metadata": {},
   "outputs": [],
   "source": [
    "# create instance\n",
    "ifnb = scDesign3Py.scDesign3(n_cores=3)"
   ]
  },
  {
   "cell_type": "code",
   "execution_count": null,
   "metadata": {},
   "outputs": [],
   "source": [
    "# construct data\n",
    "ifnb_data = ifnb.construct_data(\n",
    "    anndata=data,\n",
    "    default_assay_name=\"counts\",\n",
    "    celltype = \"cell_type\",\n",
    "    other_covariates = \"condition\",\n",
    "    corr_formula = \"cell_type\"\n",
    ")"
   ]
  },
  {
   "cell_type": "code",
   "execution_count": null,
   "metadata": {
    "tags": [
     "remove-output"
    ]
   },
   "outputs": [],
   "source": [
    "# fit marginal\n",
    "ifnb_marginal = ifnb.fit_marginal(\n",
    "    mu_formula=\"cell_type + condition + cell_type*condition\",\n",
    "    sigma_formula=\"1\",\n",
    "    family_use=\"nb\",\n",
    "    usebam=False,\n",
    "    n_cores=2\n",
    ")"
   ]
  },
  {
   "cell_type": "code",
   "execution_count": null,
   "metadata": {
    "tags": [
     "remove-output"
    ]
   },
   "outputs": [],
   "source": [
    "# fit copula\n",
    "ifnb.set_r_random_seed(123)\n",
    "ifnb_copula = ifnb.fit_copula()"
   ]
  },
  {
   "cell_type": "markdown",
   "metadata": {
    "tags": [
     "remove-output"
    ]
   },
   "source": [
    "In here, the condition effects on B cells are removed for all genes by modifying the estimated coefficients for all genes’ marginal models."
   ]
  },
  {
   "cell_type": "code",
   "execution_count": null,
   "metadata": {},
   "outputs": [],
   "source": [
    "ifnb_marginal_null_B = copy.deepcopy(ifnb_marginal)\n",
    "for k, _ in ifnb_marginal.items():\n",
    "    ifnb_marginal.rx2(k).rx2(\"fit\").rx2(\"coefficients\")[-1] = 0 - ifnb_marginal.rx2(k).rx2(\n",
    "        \"fit\"\n",
    "    ).rx2(\"coefficients\")[-2]"
   ]
  },
  {
   "cell_type": "markdown",
   "metadata": {},
   "source": [
    "Then, we can generate the parameters using the altered marginal fits and simulate new data with the altered paremeters."
   ]
  },
  {
   "cell_type": "code",
   "execution_count": null,
   "metadata": {},
   "outputs": [],
   "source": [
    "ifnb_para_null_B = ifnb.extract_para(\n",
    "    marginal_dict=ifnb_marginal_null_B,\n",
    "    family_use=\"nb\",\n",
    "    n_cores=2\n",
    ")"
   ]
  },
  {
   "cell_type": "code",
   "execution_count": null,
   "metadata": {
    "tags": [
     "remove-output"
    ]
   },
   "outputs": [],
   "source": [
    "ifnb.set_r_random_seed(123)\n",
    "ifnb_newcount_null_B = ifnb.simu_new(n_cores=1)"
   ]
  },
  {
   "cell_type": "markdown",
   "metadata": {},
   "source": [
    "We then create the corresponding `anndata.AnnData` object."
   ]
  },
  {
   "cell_type": "code",
   "execution_count": null,
   "metadata": {},
   "outputs": [],
   "source": [
    "simu_anndata_list = []\n",
    "for count_mat in [ifnb_newcount, ifnb_newcount_null_B]:\n",
    "    tmp = ad.AnnData(X=count_mat, obs=ifnb_data[\"newCovariate\"])\n",
    "    tmp.layers[\"log\"] = np.log1p(tmp.X)\n",
    "    simu_anndata_list.append(tmp)"
   ]
  },
  {
   "cell_type": "markdown",
   "metadata": {},
   "source": [
    "## Visulization"
   ]
  },
  {
   "cell_type": "code",
   "execution_count": null,
   "metadata": {
    "tags": [
     "remove-output"
    ]
   },
   "outputs": [],
   "source": [
    "plot = scDesign3Py.plot_reduceddim(\n",
    "    ref_anndata=data,\n",
    "    anndata_list=simu_anndata_list,\n",
    "    name_list=[\"Reference\", \"w/ Condition\", \"Modified Condition\"],\n",
    "    assay_use=\"log\",\n",
    "    color_by=\"cell_type\",\n",
    "    shape_by=\"condition\",\n",
    "    n_pc=20,\n",
    "    point_size=5,\n",
    ")"
   ]
  },
  {
   "cell_type": "markdown",
   "metadata": {},
   "source": [
    "### UMAP"
   ]
  },
  {
   "cell_type": "code",
   "execution_count": null,
   "metadata": {},
   "outputs": [],
   "source": [
    "plot[\"p_umap\"]"
   ]
  }
 ],
 "metadata": {
  "kernelspec": {
   "display_name": "scrpy",
   "language": "python",
   "name": "python3"
  },
  "language_info": {
   "codemirror_mode": {
    "name": "ipython",
    "version": 3
   },
   "file_extension": ".py",
   "mimetype": "text/x-python",
   "name": "python",
   "nbconvert_exporter": "python",
   "pygments_lexer": "ipython3",
   "version": "3.11.5"
  },
  "orig_nbformat": 4
 },
 "nbformat": 4,
 "nbformat_minor": 2
}

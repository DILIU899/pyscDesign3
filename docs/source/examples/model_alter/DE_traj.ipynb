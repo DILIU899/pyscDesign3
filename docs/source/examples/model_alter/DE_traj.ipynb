{
 "cells": [
  {
   "cell_type": "code",
   "execution_count": 2,
   "metadata": {
    "tags": [
     "remove-cell"
    ]
   },
   "outputs": [],
   "source": [
    "import os\n",
    "import sys\n",
    "import warnings\n",
    "\n",
    "os.chdir(\"../..\")\n",
    "sys.path.append(\"../../\")\n",
    "warnings.filterwarnings(\"ignore\")"
   ]
  },
  {
   "cell_type": "markdown",
   "metadata": {},
   "source": [
    "# Benchmarking methods for identification of DE genes along continuous trajectory\n",
    "\n",
    "## Introduction\n",
    "\n",
    "In this example, we will demonstrate how to use scDesign3Py to generate negative control and benchmark methods for identifying differentially expressed (DE) genes along continuous trajectory from scRNA-seq data. Please note that here we only did a very brief benchmarking for illustration purpose, not for formal comparison.\n",
    "\n",
    "## Import packages and Read in data\n",
    "\n",
    "### import pacakges"
   ]
  },
  {
   "cell_type": "code",
   "execution_count": 3,
   "metadata": {
    "tags": [
     "remove-output"
    ]
   },
   "outputs": [
    {
     "name": "stdout",
     "output_type": "stream",
     "text": [
      "The R project used is located at /home/ld/mambaforge/envs/cell2loc/lib/R\n"
     ]
    }
   ],
   "source": [
    "import anndata as ad\n",
    "import numpy as np\n",
    "import pandas as pd\n",
    "import scDesign3Py"
   ]
  },
  {
   "cell_type": "markdown",
   "metadata": {},
   "source": [
    "### Read in data\n",
    "\n",
    "The raw data is from the [scvelo](https://scvelo.readthedocs.io/scvelo.datasets.pancreas/), which describes pancreatic endocrinogenesis, and is converted to `.h5ad` file using the R package `sceasy`. We pre-select the top 1000 highly variable genes and filter out some cell types to ensure a **single trajectory**.\n",
    "\n",
    "To save computational time, we only use the top 200 genes."
   ]
  },
  {
   "cell_type": "code",
   "execution_count": 4,
   "metadata": {},
   "outputs": [
    {
     "data": {
      "text/plain": [
       "View of AnnData object with n_obs × n_vars = 2087 × 200\n",
       "    obs: 'clusters_coarse', 'clusters', 'S_score', 'G2M_score', 'cell_type', 'sizeFactor', 'pseudotime'\n",
       "    var: 'highly_variable_genes'\n",
       "    obsm: 'X_pca', 'X_umap', 'X_x_pca', 'X_x_umap'"
      ]
     },
     "execution_count": 4,
     "metadata": {},
     "output_type": "execute_result"
    }
   ],
   "source": [
    "data = ad.read_h5ad(\"data/PANCREAS.h5ad\")\n",
    "data = data[:,:200]\n",
    "data"
   ]
  },
  {
   "cell_type": "markdown",
   "metadata": {
    "tags": []
   },
   "source": [
    "## Simulation\n",
    "\n",
    "We use the step-by-step functions instead of the one-shot function to generate synthetic data since these step-by-step functions allow us to alter estimated parameters and generate new data based on our desired parameters."
   ]
  },
  {
   "cell_type": "code",
   "execution_count": 5,
   "metadata": {},
   "outputs": [],
   "source": [
    "example = scDesign3Py.scDesign3(n_cores=3,parallelization=\"pbmcmapply\")"
   ]
  },
  {
   "cell_type": "code",
   "execution_count": 6,
   "metadata": {},
   "outputs": [],
   "source": [
    "example_data = example.construct_data(    \n",
    "    anndata = data,\n",
    "    default_assay_name = \"counts\",\n",
    "    celltype = \"cell_type\",\n",
    "    pseudotime=\"pseudotime\",\n",
    "    corr_formula = \"1\")"
   ]
  },
  {
   "cell_type": "code",
   "execution_count": 7,
   "metadata": {
    "tags": [
     "remove-output"
    ]
   },
   "outputs": [
    {
     "name": "stdout",
     "output_type": "stream",
     "text": [
      "  |                                                              |   0%, ETA NA"
     ]
    },
    {
     "name": "stdout",
     "output_type": "stream",
     "text": [
      "  |=======================================================| 100%, Elapsed 00:29\n"
     ]
    }
   ],
   "source": [
    "example.set_r_random_seed(123)\n",
    "example_marginal = example.fit_marginal(\n",
    "    mu_formula = \"s(pseudotime, k = 10, bs = 'cr')\",\n",
    "    sigma_formula = \"1\",\n",
    "    family_use = \"nb\",\n",
    "    usebam = False\n",
    ")"
   ]
  },
  {
   "cell_type": "code",
   "execution_count": 8,
   "metadata": {
    "tags": [
     "remove-output"
    ]
   },
   "outputs": [
    {
     "name": "stderr",
     "output_type": "stream",
     "text": [
      "R[write to console]: Convert Residuals to Multivariate Gaussian\n",
      "\n"
     ]
    },
    {
     "name": "stdout",
     "output_type": "stream",
     "text": [
      "  |=======================================================| 100%, Elapsed 00:13\n"
     ]
    },
    {
     "name": "stderr",
     "output_type": "stream",
     "text": [
      "R[write to console]: Converting End\n",
      "\n",
      "R[write to console]: Copula group 1 starts\n",
      "\n"
     ]
    }
   ],
   "source": [
    "example.set_r_random_seed(123)\n",
    "example_copula = example.fit_copula()"
   ]
  },
  {
   "cell_type": "code",
   "execution_count": 9,
   "metadata": {
    "tags": [
     "remove-output"
    ]
   },
   "outputs": [
    {
     "name": "stdout",
     "output_type": "stream",
     "text": [
      "  |=                                                          |   1%, ETA 00:21"
     ]
    },
    {
     "name": "stdout",
     "output_type": "stream",
     "text": [
      "  |=======================================================| 100%, Elapsed 00:10\n"
     ]
    }
   ],
   "source": [
    "example_para = example.extract_para()"
   ]
  },
  {
   "cell_type": "markdown",
   "metadata": {},
   "source": [
    "Here, we examine the `mean_mat`, which is one of the outputs from the previous function `extract_para()`. For each gene, we calculate the difference in the between the maximum mean parameter and minimum mean parameter across all cells. We select genes which the gene’s mean difference across cells are in the top 50 largest differences. We regard these genes as DE genes. Then, we manually set the mean parameters of the rest genes to be the same across all cells. We regard all genes with the same mean parameter across cells as non-DE genes. Of course, this is a very flexible step and users may choose other ideas to modify the mean matrix."
   ]
  },
  {
   "cell_type": "code",
   "execution_count": 10,
   "metadata": {},
   "outputs": [],
   "source": [
    "diff_idx = (example_para[\"mean_mat\"].max() - example_para[\"mean_mat\"].min()).sort_values(ascending=False).index\n",
    "de_idx = diff_idx[:50]\n",
    "no_de_idx = diff_idx[50:]\n",
    "example_para[\"mean_mat\"][no_de_idx] = ((example_para[\"mean_mat\"].max() + example_para[\"mean_mat\"].min())/2)[no_de_idx]"
   ]
  },
  {
   "cell_type": "code",
   "execution_count": 11,
   "metadata": {
    "tags": [
     "remove-output"
    ]
   },
   "outputs": [
    {
     "name": "stderr",
     "output_type": "stream",
     "text": [
      "R[write to console]: Use Copula to sample a multivariate quantile matrix\n",
      "\n",
      "R[write to console]: Sample Copula group 1 starts\n",
      "\n"
     ]
    },
    {
     "name": "stdout",
     "output_type": "stream",
     "text": [
      "  |=======================================================| 100%, Elapsed 00:01\n"
     ]
    }
   ],
   "source": [
    "example.set_r_random_seed(123)\n",
    "example_newcount = example.simu_new(mean_mat=example_para[\"mean_mat\"])"
   ]
  },
  {
   "cell_type": "markdown",
   "metadata": {},
   "source": [
    "## DE genes identification\n",
    "\n",
    "Now, we use the simulated data to benchmark the performance of [scFates](https://scfates.readthedocs.io), a DEG identification method as an example."
   ]
  },
  {
   "cell_type": "code",
   "execution_count": 23,
   "metadata": {},
   "outputs": [],
   "source": [
    "simu_data = ad.AnnData(X=example_newcount, obs=example_data[\"newCovariate\"])\n",
    "simu_data.layers[\"log_transformed\"] = np.log1p(simu_data.X)\n",
    "simu_data.obs[\"t\"] = simu_data.obs[\"pseudotime\"]\n",
    "simu_data.obs[\"seg\"] = 1"
   ]
  },
  {
   "cell_type": "code",
   "execution_count": 15,
   "metadata": {},
   "outputs": [],
   "source": [
    "import scFates as scf"
   ]
  },
  {
   "cell_type": "code",
   "execution_count": 13,
   "metadata": {},
   "outputs": [],
   "source": [
    "qvals = pd.DataFrame(index=simu_data.var_names)\n",
    "methods = [\"scFates\"]"
   ]
  },
  {
   "cell_type": "code",
   "execution_count": 27,
   "metadata": {
    "tags": [
     "remove-output"
    ]
   },
   "outputs": [
    {
     "name": "stdout",
     "output_type": "stream",
     "text": [
      "test features for association with the trajectory\n",
      "    single mapping :   0%|          | 0/200 [00:00<?, ?it/s]"
     ]
    },
    {
     "name": "stdout",
     "output_type": "stream",
     "text": [
      "    single mapping : 100%|██████████| 200/200 [01:01<00:00,  3.24it/s]\n",
      "    found 50 significant features (0:01:01) --> added\n",
      "    .var['p_val'] values from statistical test.\n",
      "    .var['fdr'] corrected values from multiple testing.\n",
      "    .var['st'] proportion of mapping in which feature is significant.\n",
      "    .var['A'] amplitue of change of tested feature.\n",
      "    .var['signi'] feature is significantly changing along pseudotime.\n",
      "    .uns['stat_assoc_list'] list of fitted features on the graph for all mappings.\n"
     ]
    }
   ],
   "source": [
    "scf.tl.test_association(simu_data)"
   ]
  },
  {
   "cell_type": "code",
   "execution_count": 28,
   "metadata": {},
   "outputs": [],
   "source": [
    "qvals[\"scFates\"] = simu_data.var[\"fdr\"]"
   ]
  },
  {
   "cell_type": "markdown",
   "metadata": {},
   "source": [
    "Since we manually created non-DE genes in the `extra_para()` step, now we can calculate the actual false discovery proportion(FDP) and power of the DE tests we conducted above with various target FDR threshold."
   ]
  },
  {
   "cell_type": "code",
   "execution_count": 29,
   "metadata": {},
   "outputs": [],
   "source": [
    "targetFDR = np.concatenate([np.arange(0.01,0.11,0.01),np.arange(0.2,0.6,0.1)])\n",
    "fdp = pd.DataFrame(index=targetFDR,columns=methods)\n",
    "power = pd.DataFrame(index=targetFDR,columns=methods)\n",
    "\n",
    "for method in methods:\n",
    "    curr_p = qvals[method]\n",
    "    for threshold in targetFDR:\n",
    "        discovery = curr_p[curr_p <= threshold]\n",
    "        true_positive = discovery.index.intersection(de_idx).shape[0]\n",
    "\n",
    "        if len(discovery) == 0:\n",
    "            fdp.loc[threshold,method] = 0\n",
    "        else:\n",
    "            fdp.loc[threshold,method] = (len(discovery) - true_positive)/len(discovery)\n",
    "        \n",
    "        power.loc[threshold,method] = true_positive/de_idx.shape[0]"
   ]
  },
  {
   "cell_type": "markdown",
   "metadata": {},
   "source": [
    "## Visualization\n",
    "\n",
    "We visualize the Target FDR vs Actual FDP and Target FDR vs Power below."
   ]
  },
  {
   "cell_type": "code",
   "execution_count": 30,
   "metadata": {},
   "outputs": [],
   "source": [
    "import matplotlib.pyplot as plt"
   ]
  },
  {
   "cell_type": "code",
   "execution_count": 31,
   "metadata": {
    "tags": [
     "hide-input"
    ]
   },
   "outputs": [
    {
     "data": {
      "image/png": "[encoded data removed]",
      "text/plain": [
       "<Figure size 640x480 with 1 Axes>"
      ]
     },
     "metadata": {},
     "output_type": "display_data"
    }
   ],
   "source": [
    "for method in methods:\n",
    "    plt.plot(targetFDR,fdp[method],\"o-\",label=method)\n",
    "\n",
    "plt.plot(targetFDR, targetFDR, '--', color='gray')\n",
    "plt.xlabel('Target FDR')\n",
    "plt.ylabel('Actual FDP')\n",
    "plt.legend(loc=\"best\")\n",
    "plt.show()"
   ]
  },
  {
   "cell_type": "code",
   "execution_count": 32,
   "metadata": {
    "tags": [
     "hide-input"
    ]
   },
   "outputs": [
    {
     "data": {
      "image/png": "[encoded data removed]",
      "text/plain": [
       "<Figure size 640x480 with 1 Axes>"
      ]
     },
     "metadata": {},
     "output_type": "display_data"
    }
   ],
   "source": [
    "for method in methods:\n",
    "    plt.plot(targetFDR,power[method],\"o-\",label=method)\n",
    "\n",
    "plt.xlabel('Target FDR')\n",
    "plt.ylabel('Power')\n",
    "plt.legend(loc=\"best\")\n",
    "plt.show()"
   ]
  }
 ],
 "metadata": {
  "kernelspec": {
   "display_name": "scrpy",
   "language": "python",
   "name": "python3"
  },
  "language_info": {
   "codemirror_mode": {
    "name": "ipython",
    "version": 3
   },
   "file_extension": ".py",
   "mimetype": "text/x-python",
   "name": "python",
   "nbconvert_exporter": "python",
   "pygments_lexer": "ipython3",
   "version": "3.9.18"
  },
  "orig_nbformat": 4
 },
 "nbformat": 4,
 "nbformat_minor": 2
}

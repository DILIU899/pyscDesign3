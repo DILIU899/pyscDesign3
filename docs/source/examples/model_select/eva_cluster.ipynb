{
 "cells": [
  {
   "cell_type": "code",
   "execution_count": 1,
   "metadata": {
    "tags": [
     "remove-cell"
    ]
   },
   "outputs": [],
   "source": [
    "import os\n",
    "import sys\n",
    "import warnings\n",
    "\n",
    "os.chdir(\"../..\")\n",
    "sys.path.append(\"../../\")\n",
    "warnings.filterwarnings(\"ignore\")"
   ]
  },
  {
   "cell_type": "markdown",
   "metadata": {},
   "source": [
    "# Evaluate clustering goodness-of-fit\n",
    "\n",
    "## Introduction\n",
    "\n",
    "In this example, we will show how to use scDesign3Py to evaluate the clustering goodness-of-fit for different cell-type assignments. If the true labels are unavailable and we have little prior knowledge, the scDesign3Py BIC can serve as an unsupervised metric.\n",
    "\n",
    "## Import packages and Read in data\n",
    "\n",
    "### import pacakges"
   ]
  },
  {
   "cell_type": "code",
   "execution_count": 2,
   "metadata": {
    "tags": [
     "remove-output"
    ]
   },
   "outputs": [
    {
     "name": "stdout",
     "output_type": "stream",
     "text": [
      "The R project used is located at /home/ld/anaconda3/envs/pyscdesign/lib/R\n"
     ]
    }
   ],
   "source": [
    "import anndata as ad\n",
    "import pandas as pd\n",
    "import scanpy as sc\n",
    "import scDesign3Py\n",
    "\n",
    "from sklearn.metrics import adjusted_rand_score"
   ]
  },
  {
   "cell_type": "markdown",
   "metadata": {},
   "source": [
    "### Read in data\n",
    "\n",
    "The raw data is from the R package `DuoClustering2018` and converted to `.h5ad` file using the R package `sceasy`.\n",
    "\n",
    "The cluster result is also got from the R package `DuoClustering2018` as the package has already provided various clustering results."
   ]
  },
  {
   "cell_type": "code",
   "execution_count": 3,
   "metadata": {},
   "outputs": [],
   "source": [
    "data = ad.read_h5ad(\"data/Zhengmix4eq.h5ad\")\n",
    "cluster_res = pd.read_csv(\"data/clusterres_Zhengmix4eq.csv\",index_col=0)\n",
    "cluster_res = cluster_res[cluster_res[\"method\"].isin([\"PCAKmeans\"]) & (cluster_res[\"run\"] == 1)]"
   ]
  },
  {
   "cell_type": "markdown",
   "metadata": {},
   "source": [
    "For demonstration purpose, we use the `Zhengmix4eq` dataset in the package with top 30 highly variable genes and the corresponding k-means clustering results with $k = 2 \\sim 10$."
   ]
  },
  {
   "cell_type": "code",
   "execution_count": 4,
   "metadata": {},
   "outputs": [
    {
     "data": {
      "text/plain": [
       "View of AnnData object with n_obs × n_vars = 711 × 30\n",
       "    obs: 'barcode', 'phenoid', 'total_features', 'log10_total_features', 'total_counts', 'log10_total_counts', 'pct_counts_top_50_features', 'pct_counts_top_100_features', 'pct_counts_top_200_features', 'pct_counts_top_500_features', 'sizeFactor', 'cell_type'\n",
       "    var: 'id', 'symbol', 'mean_counts', 'log10_mean_counts', 'rank_counts', 'n_cells_counts', 'pct_dropout_counts', 'total_counts', 'log10_total_counts', 'highly_variable', 'means', 'dispersions', 'dispersions_norm'\n",
       "    uns: 'log1p', 'hvg'\n",
       "    obsm: 'X_pca', 'X_tsne'\n",
       "    layers: 'logcounts', 'normcounts', 'log'"
      ]
     },
     "execution_count": 4,
     "metadata": {},
     "output_type": "execute_result"
    }
   ],
   "source": [
    "kmeans_res = cluster_res.groupby(\"k\")\n",
    "ncell = data.n_obs\n",
    "ngene = 30\n",
    "ntrain = int(ncell/5)\n",
    "\n",
    "# choose HVG genes\n",
    "data.layers[\"log\"] = data.X.copy()\n",
    "sc.pp.normalize_total(data,target_sum=1e4,layer=\"log\")\n",
    "sc.pp.log1p(data,layer=\"log\")\n",
    "sc.pp.highly_variable_genes(data,layer=\"log\",n_top_genes=ngene)\n",
    "data = data[:,data.var[\"highly_variable\"] == True]\n",
    "\n",
    "train_data = data[data.obs.sample(n=ntrain,random_state=123).index,:]\n",
    "train_data"
   ]
  },
  {
   "cell_type": "markdown",
   "metadata": {},
   "source": [
    "## Simulation\n",
    "\n",
    "We then use different cell-type clustering information to simulate new data."
   ]
  },
  {
   "cell_type": "code",
   "execution_count": 5,
   "metadata": {},
   "outputs": [],
   "source": [
    "simu_res = {}"
   ]
  },
  {
   "cell_type": "code",
   "execution_count": 6,
   "metadata": {
    "tags": [
     "remove-output"
    ]
   },
   "outputs": [
    {
     "name": "stdout",
     "output_type": "stream",
     "text": [
      "K number: 2 fitting.\n"
     ]
    },
    {
     "name": "stderr",
     "output_type": "stream",
     "text": [
      "R[write to console]: Input Data Construction Start\n",
      "\n",
      "R[write to console]: Input Data Construction End\n",
      "\n",
      "R[write to console]: Start Marginal Fitting\n",
      "\n"
     ]
    },
    {
     "name": "stdout",
     "output_type": "stream",
     "text": [
      "  |=======================================================| 100%, Elapsed 00:02\n"
     ]
    },
    {
     "name": "stderr",
     "output_type": "stream",
     "text": [
      "R[write to console]: Marginal Fitting End\n",
      "\n",
      "R[write to console]: Start Copula Fitting\n",
      "\n",
      "R[write to console]: Convert Residuals to Multivariate Gaussian\n",
      "\n"
     ]
    },
    {
     "name": "stdout",
     "output_type": "stream",
     "text": [
      "  |=======================================================| 100%, Elapsed 00:01\n"
     ]
    },
    {
     "name": "stderr",
     "output_type": "stream",
     "text": [
      "R[write to console]: Converting End\n",
      "\n",
      "R[write to console]: Copula group 1 starts\n",
      "\n",
      "R[write to console]: Copula Fitting End\n",
      "\n",
      "R[write to console]: Start Parameter Extraction\n",
      "\n"
     ]
    },
    {
     "name": "stdout",
     "output_type": "stream",
     "text": [
      "  |=======================================================| 100%, Elapsed 00:01\n"
     ]
    },
    {
     "name": "stderr",
     "output_type": "stream",
     "text": [
      "R[write to console]: Parameter\n",
      "Extraction End\n",
      "\n",
      "R[write to console]: Start Generate New Data\n",
      "\n",
      "R[write to console]: Use Copula to sample a multivariate quantile matrix\n",
      "\n",
      "R[write to console]: Sample Copula group 1 starts\n",
      "\n"
     ]
    },
    {
     "name": "stdout",
     "output_type": "stream",
     "text": [
      "  |=======================================================| 100%, Elapsed 00:00\n"
     ]
    },
    {
     "name": "stderr",
     "output_type": "stream",
     "text": [
      "R[write to console]: New Data Generating End\n",
      "\n"
     ]
    },
    {
     "name": "stdout",
     "output_type": "stream",
     "text": [
      "K number: 3 fitting.\n"
     ]
    },
    {
     "name": "stderr",
     "output_type": "stream",
     "text": [
      "R[write to console]: Input Data Construction Start\n",
      "\n",
      "R[write to console]: Input Data Construction End\n",
      "\n",
      "R[write to console]: Start Marginal Fitting\n",
      "\n"
     ]
    },
    {
     "name": "stdout",
     "output_type": "stream",
     "text": [
      "  |=======================================================| 100%, Elapsed 00:02\n"
     ]
    },
    {
     "name": "stderr",
     "output_type": "stream",
     "text": [
      "R[write to console]: Marginal Fitting End\n",
      "\n",
      "R[write to console]: Start Copula Fitting\n",
      "\n",
      "R[write to console]: Convert Residuals to Multivariate Gaussian\n",
      "\n"
     ]
    },
    {
     "name": "stdout",
     "output_type": "stream",
     "text": [
      "  |=======================================================| 100%, Elapsed 00:01\n"
     ]
    },
    {
     "name": "stderr",
     "output_type": "stream",
     "text": [
      "R[write to console]: Converting End\n",
      "\n",
      "R[write to console]: Copula group 1 starts\n",
      "\n",
      "R[write to console]: Copula Fitting End\n",
      "\n",
      "R[write to console]: Start Parameter Extraction\n",
      "\n"
     ]
    },
    {
     "name": "stdout",
     "output_type": "stream",
     "text": [
      "  |=======================================================| 100%, Elapsed 00:01\n"
     ]
    },
    {
     "name": "stderr",
     "output_type": "stream",
     "text": [
      "R[write to console]: Parameter\n",
      "Extraction End\n",
      "\n",
      "R[write to console]: Start Generate New Data\n",
      "\n",
      "R[write to console]: Use Copula to sample a multivariate quantile matrix\n",
      "\n",
      "R[write to console]: Sample Copula group 1 starts\n",
      "\n"
     ]
    },
    {
     "name": "stdout",
     "output_type": "stream",
     "text": [
      "  |=======================================================| 100%, Elapsed 00:00\n"
     ]
    },
    {
     "name": "stderr",
     "output_type": "stream",
     "text": [
      "R[write to console]: New Data Generating End\n",
      "\n"
     ]
    },
    {
     "name": "stdout",
     "output_type": "stream",
     "text": [
      "K number: 4 fitting.\n"
     ]
    },
    {
     "name": "stderr",
     "output_type": "stream",
     "text": [
      "R[write to console]: Input Data Construction Start\n",
      "\n",
      "R[write to console]: Input Data Construction End\n",
      "\n",
      "R[write to console]: Start Marginal Fitting\n",
      "\n"
     ]
    },
    {
     "name": "stdout",
     "output_type": "stream",
     "text": [
      "  |=======================================================| 100%, Elapsed 00:03\n"
     ]
    },
    {
     "name": "stderr",
     "output_type": "stream",
     "text": [
      "R[write to console]: Marginal Fitting End\n",
      "\n",
      "R[write to console]: Start Copula Fitting\n",
      "\n",
      "R[write to console]: Convert Residuals to Multivariate Gaussian\n",
      "\n"
     ]
    },
    {
     "name": "stdout",
     "output_type": "stream",
     "text": [
      "  |=======================================================| 100%, Elapsed 00:01\n"
     ]
    },
    {
     "name": "stderr",
     "output_type": "stream",
     "text": [
      "R[write to console]: Converting End\n",
      "\n",
      "R[write to console]: Copula group 1 starts\n",
      "\n",
      "R[write to console]: Copula Fitting End\n",
      "\n",
      "R[write to console]: Start Parameter Extraction\n",
      "\n"
     ]
    },
    {
     "name": "stdout",
     "output_type": "stream",
     "text": [
      "  |=======================================================| 100%, Elapsed 00:01\n"
     ]
    },
    {
     "name": "stderr",
     "output_type": "stream",
     "text": [
      "R[write to console]: Parameter\n",
      "Extraction End\n",
      "\n",
      "R[write to console]: Start Generate New Data\n",
      "\n",
      "R[write to console]: Use Copula to sample a multivariate quantile matrix\n",
      "\n",
      "R[write to console]: Sample Copula group 1 starts\n",
      "\n"
     ]
    },
    {
     "name": "stdout",
     "output_type": "stream",
     "text": [
      "  |=======================================================| 100%, Elapsed 00:00\n"
     ]
    },
    {
     "name": "stderr",
     "output_type": "stream",
     "text": [
      "R[write to console]: New Data Generating End\n",
      "\n"
     ]
    },
    {
     "name": "stdout",
     "output_type": "stream",
     "text": [
      "K number: 5 fitting.\n"
     ]
    },
    {
     "name": "stderr",
     "output_type": "stream",
     "text": [
      "R[write to console]: Input Data Construction Start\n",
      "\n",
      "R[write to console]: Input Data Construction End\n",
      "\n",
      "R[write to console]: Start Marginal Fitting\n",
      "\n"
     ]
    },
    {
     "name": "stdout",
     "output_type": "stream",
     "text": [
      "  |=======================================================| 100%, Elapsed 00:02\n"
     ]
    },
    {
     "name": "stderr",
     "output_type": "stream",
     "text": [
      "R[write to console]: Marginal Fitting End\n",
      "\n",
      "R[write to console]: Start Copula Fitting\n",
      "\n",
      "R[write to console]: Convert Residuals to Multivariate Gaussian\n",
      "\n"
     ]
    },
    {
     "name": "stdout",
     "output_type": "stream",
     "text": [
      "  |=======================================================| 100%, Elapsed 00:01\n"
     ]
    },
    {
     "name": "stderr",
     "output_type": "stream",
     "text": [
      "R[write to console]: Converting End\n",
      "\n",
      "R[write to console]: Copula group 1 starts\n",
      "\n",
      "R[write to console]: Copula Fitting End\n",
      "\n",
      "R[write to console]: Start Parameter Extraction\n",
      "\n"
     ]
    },
    {
     "name": "stdout",
     "output_type": "stream",
     "text": [
      "  |=======================================================| 100%, Elapsed 00:01\n"
     ]
    },
    {
     "name": "stderr",
     "output_type": "stream",
     "text": [
      "R[write to console]: Parameter\n",
      "Extraction End\n",
      "\n",
      "R[write to console]: Start Generate New Data\n",
      "\n",
      "R[write to console]: Use Copula to sample a multivariate quantile matrix\n",
      "\n",
      "R[write to console]: Sample Copula group 1 starts\n",
      "\n"
     ]
    },
    {
     "name": "stdout",
     "output_type": "stream",
     "text": [
      "  |=======================================================| 100%, Elapsed 00:00\n"
     ]
    },
    {
     "name": "stderr",
     "output_type": "stream",
     "text": [
      "R[write to console]: New Data Generating End\n",
      "\n"
     ]
    },
    {
     "name": "stdout",
     "output_type": "stream",
     "text": [
      "K number: 6 fitting.\n"
     ]
    },
    {
     "name": "stderr",
     "output_type": "stream",
     "text": [
      "R[write to console]: Input Data Construction Start\n",
      "\n",
      "R[write to console]: Input Data Construction End\n",
      "\n",
      "R[write to console]: Start Marginal Fitting\n",
      "\n"
     ]
    },
    {
     "name": "stdout",
     "output_type": "stream",
     "text": [
      "  |=======================================================| 100%, Elapsed 00:02\n"
     ]
    },
    {
     "name": "stderr",
     "output_type": "stream",
     "text": [
      "R[write to console]: Marginal Fitting End\n",
      "\n",
      "R[write to console]: Start Copula Fitting\n",
      "\n",
      "R[write to console]: Convert Residuals to Multivariate Gaussian\n",
      "\n"
     ]
    },
    {
     "name": "stdout",
     "output_type": "stream",
     "text": [
      "  |=======================================================| 100%, Elapsed 00:01\n"
     ]
    },
    {
     "name": "stderr",
     "output_type": "stream",
     "text": [
      "R[write to console]: Converting End\n",
      "\n",
      "R[write to console]: Copula group 1 starts\n",
      "\n",
      "R[write to console]: Copula Fitting End\n",
      "\n",
      "R[write to console]: Start Parameter Extraction\n",
      "\n"
     ]
    },
    {
     "name": "stdout",
     "output_type": "stream",
     "text": [
      "  |=======================================================| 100%, Elapsed 00:01\n"
     ]
    },
    {
     "name": "stderr",
     "output_type": "stream",
     "text": [
      "R[write to console]: Parameter\n",
      "Extraction End\n",
      "\n",
      "R[write to console]: Start Generate New Data\n",
      "\n",
      "R[write to console]: Use Copula to sample a multivariate quantile matrix\n",
      "\n",
      "R[write to console]: Sample Copula group 1 starts\n",
      "\n"
     ]
    },
    {
     "name": "stdout",
     "output_type": "stream",
     "text": [
      "  |=======================================================| 100%, Elapsed 00:00\n"
     ]
    },
    {
     "name": "stderr",
     "output_type": "stream",
     "text": [
      "R[write to console]: New Data Generating End\n",
      "\n"
     ]
    },
    {
     "name": "stdout",
     "output_type": "stream",
     "text": [
      "K number: 7 fitting.\n"
     ]
    },
    {
     "name": "stderr",
     "output_type": "stream",
     "text": [
      "R[write to console]: Input Data Construction Start\n",
      "\n",
      "R[write to console]: Input Data Construction End\n",
      "\n",
      "R[write to console]: Start Marginal Fitting\n",
      "\n"
     ]
    },
    {
     "name": "stdout",
     "output_type": "stream",
     "text": [
      "  |=======================================================| 100%, Elapsed 00:02\n"
     ]
    },
    {
     "name": "stderr",
     "output_type": "stream",
     "text": [
      "R[write to console]: Marginal Fitting End\n",
      "\n",
      "R[write to console]: Start Copula Fitting\n",
      "\n",
      "R[write to console]: Convert Residuals to Multivariate Gaussian\n",
      "\n"
     ]
    },
    {
     "name": "stdout",
     "output_type": "stream",
     "text": [
      "  |=======================================================| 100%, Elapsed 00:01\n"
     ]
    },
    {
     "name": "stderr",
     "output_type": "stream",
     "text": [
      "R[write to console]: Converting End\n",
      "\n",
      "R[write to console]: Copula group 1 starts\n",
      "\n",
      "R[write to console]: Copula Fitting End\n",
      "\n",
      "R[write to console]: Start Parameter Extraction\n",
      "\n"
     ]
    },
    {
     "name": "stdout",
     "output_type": "stream",
     "text": [
      "  |=======================================================| 100%, Elapsed 00:01\n"
     ]
    },
    {
     "name": "stderr",
     "output_type": "stream",
     "text": [
      "R[write to console]: Parameter\n",
      "Extraction End\n",
      "\n",
      "R[write to console]: Start Generate New Data\n",
      "\n",
      "R[write to console]: Use Copula to sample a multivariate quantile matrix\n",
      "\n",
      "R[write to console]: Sample Copula group 1 starts\n",
      "\n"
     ]
    },
    {
     "name": "stdout",
     "output_type": "stream",
     "text": [
      "  |=======================================================| 100%, Elapsed 00:00\n"
     ]
    },
    {
     "name": "stderr",
     "output_type": "stream",
     "text": [
      "R[write to console]: New Data Generating End\n",
      "\n"
     ]
    },
    {
     "name": "stdout",
     "output_type": "stream",
     "text": [
      "K number: 8 fitting.\n"
     ]
    },
    {
     "name": "stderr",
     "output_type": "stream",
     "text": [
      "R[write to console]: Input Data Construction Start\n",
      "\n",
      "R[write to console]: Input Data Construction End\n",
      "\n",
      "R[write to console]: Start Marginal Fitting\n",
      "\n"
     ]
    },
    {
     "name": "stdout",
     "output_type": "stream",
     "text": [
      "  |=======================================================| 100%, Elapsed 00:02\n"
     ]
    },
    {
     "name": "stderr",
     "output_type": "stream",
     "text": [
      "R[write to console]: Marginal Fitting End\n",
      "\n",
      "R[write to console]: Start Copula Fitting\n",
      "\n",
      "R[write to console]: Convert Residuals to Multivariate Gaussian\n",
      "\n"
     ]
    },
    {
     "name": "stdout",
     "output_type": "stream",
     "text": [
      "  |=======================================================| 100%, Elapsed 00:01\n"
     ]
    },
    {
     "name": "stderr",
     "output_type": "stream",
     "text": [
      "R[write to console]: Converting End\n",
      "\n",
      "R[write to console]: Copula group 1 starts\n",
      "\n",
      "R[write to console]: Copula Fitting End\n",
      "\n",
      "R[write to console]: Start Parameter Extraction\n",
      "\n"
     ]
    },
    {
     "name": "stdout",
     "output_type": "stream",
     "text": [
      "  |=======================================================| 100%, Elapsed 00:01\n"
     ]
    },
    {
     "name": "stderr",
     "output_type": "stream",
     "text": [
      "R[write to console]: Parameter\n",
      "Extraction End\n",
      "\n",
      "R[write to console]: Start Generate New Data\n",
      "\n",
      "R[write to console]: Use Copula to sample a multivariate quantile matrix\n",
      "\n",
      "R[write to console]: Sample Copula group 1 starts\n",
      "\n"
     ]
    },
    {
     "name": "stdout",
     "output_type": "stream",
     "text": [
      "  |=======================================================| 100%, Elapsed 00:00\n"
     ]
    },
    {
     "name": "stderr",
     "output_type": "stream",
     "text": [
      "R[write to console]: New Data Generating End\n",
      "\n"
     ]
    },
    {
     "name": "stdout",
     "output_type": "stream",
     "text": [
      "K number: 9 fitting.\n"
     ]
    },
    {
     "name": "stderr",
     "output_type": "stream",
     "text": [
      "R[write to console]: Input Data Construction Start\n",
      "\n",
      "R[write to console]: Input Data Construction End\n",
      "\n",
      "R[write to console]: Start Marginal Fitting\n",
      "\n"
     ]
    },
    {
     "name": "stdout",
     "output_type": "stream",
     "text": [
      "  |=======================================================| 100%, Elapsed 00:02\n"
     ]
    },
    {
     "name": "stderr",
     "output_type": "stream",
     "text": [
      "R[write to console]: Marginal Fitting End\n",
      "\n",
      "R[write to console]: Start Copula Fitting\n",
      "\n",
      "R[write to console]: Convert Residuals to Multivariate Gaussian\n",
      "\n"
     ]
    },
    {
     "name": "stdout",
     "output_type": "stream",
     "text": [
      "  |=======================================================| 100%, Elapsed 00:01\n"
     ]
    },
    {
     "name": "stderr",
     "output_type": "stream",
     "text": [
      "R[write to console]: Converting End\n",
      "\n",
      "R[write to console]: Copula group 1 starts\n",
      "\n",
      "R[write to console]: Copula Fitting End\n",
      "\n",
      "R[write to console]: Start Parameter Extraction\n",
      "\n"
     ]
    },
    {
     "name": "stdout",
     "output_type": "stream",
     "text": [
      "  |=======================================================| 100%, Elapsed 00:01\n"
     ]
    },
    {
     "name": "stderr",
     "output_type": "stream",
     "text": [
      "R[write to console]: Parameter\n",
      "Extraction End\n",
      "\n",
      "R[write to console]: Start Generate New Data\n",
      "\n",
      "R[write to console]: Use Copula to sample a multivariate quantile matrix\n",
      "\n",
      "R[write to console]: Sample Copula group 1 starts\n",
      "\n"
     ]
    },
    {
     "name": "stdout",
     "output_type": "stream",
     "text": [
      "  |=======================================================| 100%, Elapsed 00:00\n"
     ]
    },
    {
     "name": "stderr",
     "output_type": "stream",
     "text": [
      "R[write to console]: New Data Generating End\n",
      "\n"
     ]
    },
    {
     "name": "stdout",
     "output_type": "stream",
     "text": [
      "K number: 10 fitting.\n"
     ]
    },
    {
     "name": "stderr",
     "output_type": "stream",
     "text": [
      "R[write to console]: Input Data Construction Start\n",
      "\n",
      "R[write to console]: Input Data Construction End\n",
      "\n",
      "R[write to console]: Start Marginal Fitting\n",
      "\n"
     ]
    },
    {
     "name": "stdout",
     "output_type": "stream",
     "text": [
      "  |=======================================================| 100%, Elapsed 00:02\n"
     ]
    },
    {
     "name": "stderr",
     "output_type": "stream",
     "text": [
      "R[write to console]: Marginal Fitting End\n",
      "\n",
      "R[write to console]: Start Copula Fitting\n",
      "\n",
      "R[write to console]: Convert Residuals to Multivariate Gaussian\n",
      "\n"
     ]
    },
    {
     "name": "stdout",
     "output_type": "stream",
     "text": [
      "  |=======================================================| 100%, Elapsed 00:01\n"
     ]
    },
    {
     "name": "stderr",
     "output_type": "stream",
     "text": [
      "R[write to console]: Converting End\n",
      "\n",
      "R[write to console]: Copula group 1 starts\n",
      "\n",
      "R[write to console]: Copula Fitting End\n",
      "\n",
      "R[write to console]: Start Parameter Extraction\n",
      "\n"
     ]
    },
    {
     "name": "stdout",
     "output_type": "stream",
     "text": [
      "  |=======================================================| 100%, Elapsed 00:01\n"
     ]
    },
    {
     "name": "stderr",
     "output_type": "stream",
     "text": [
      "R[write to console]: Parameter\n",
      "Extraction End\n",
      "\n",
      "R[write to console]: Start Generate New Data\n",
      "\n",
      "R[write to console]: Use Copula to sample a multivariate quantile matrix\n",
      "\n",
      "R[write to console]: Sample Copula group 1 starts\n",
      "\n"
     ]
    },
    {
     "name": "stdout",
     "output_type": "stream",
     "text": [
      "  |=======================================================| 100%, Elapsed 00:00\n"
     ]
    },
    {
     "name": "stderr",
     "output_type": "stream",
     "text": [
      "R[write to console]: New Data Generating End\n",
      "\n"
     ]
    }
   ],
   "source": [
    "for key,value in kmeans_res:\n",
    "    print(f\"K number: {key} fitting.\")\n",
    "    tmp = value[[\"cell\",\"cluster\"]]\n",
    "    tmp.index = tmp[\"cell\"]\n",
    "    train_data.obs[\"cell_type\"] = tmp.loc[train_data.obs.index,\"cluster\"].tolist()\n",
    "    train_data.obs[\"cell_type\"] = train_data.obs[\"cell_type\"].astype(\"int\").astype(\"str\").astype(\"category\")\n",
    "\n",
    "    test = scDesign3Py.scDesign3(n_cores=2, parallelization=\"pbmcmapply\")\n",
    "    test.set_r_random_seed(123)\n",
    "    res = test.scdesign3(anndata=train_data, \n",
    "                        celltype = 'cell_type',\n",
    "                        corr_formula = \"1\", \n",
    "                        mu_formula = \"cell_type\", \n",
    "                        sigma_formula = \"cell_type\", \n",
    "                        copula = \"gaussian\", \n",
    "                        default_assay_name = \"counts\", \n",
    "                        family_use = \"nb\",\n",
    "                        usebam = False)\n",
    "\n",
    "    simu_res[key] = res"
   ]
  },
  {
   "cell_type": "markdown",
   "metadata": {},
   "source": [
    "## Visualization\n",
    "\n",
    "After the simulations, we can check the BIC provided by our package and the calculated ARI to evaluate k-means clustering qualities."
   ]
  },
  {
   "cell_type": "code",
   "execution_count": 7,
   "metadata": {},
   "outputs": [],
   "source": [
    "import matplotlib.pyplot as plt"
   ]
  },
  {
   "cell_type": "code",
   "execution_count": 8,
   "metadata": {
    "tags": [
     "hide-input"
    ]
   },
   "outputs": [
    {
     "data": {
      "image/png": "[encoded data removed]",
      "text/plain": [
       "<Figure size 640x480 with 1 Axes>"
      ]
     },
     "metadata": {},
     "output_type": "display_data"
    }
   ],
   "source": [
    "bics = pd.Series([v[\"model_bic\"][\"bic.marginal\"] for v in simu_res.values()])\n",
    "ari = pd.Series([adjusted_rand_score(v[\"cluster\"],v[\"trueclass\"]) for _,v in kmeans_res])\n",
    "spearman_corr = bics.corr(ari,method=\"spearman\")\n",
    "\n",
    "# plot\n",
    "plt.scatter(x=ari,y=bics)\n",
    "plt.xlabel('ARI')\n",
    "plt.ylabel('scDesign3 BIC')\n",
    "plt.text(x=0.25,y=25500,s=\"Spearman Correlation: %.2f\" % spearman_corr)\n",
    "plt.show()"
   ]
  }
 ],
 "metadata": {
  "kernelspec": {
   "display_name": "Python 3 (ipykernel)",
   "language": "python",
   "name": "python3"
  },
  "language_info": {
   "codemirror_mode": {
    "name": "ipython",
    "version": 3
   },
   "file_extension": ".py",
   "mimetype": "text/x-python",
   "name": "python",
   "nbconvert_exporter": "python",
   "pygments_lexer": "ipython3",
   "version": "3.11.5"
  }
 },
 "nbformat": 4,
 "nbformat_minor": 4
}

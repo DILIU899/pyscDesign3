{
 "cells": [
  {
   "cell_type": "code",
   "execution_count": 1,
   "metadata": {
    "tags": [
     "remove-cell"
    ]
   },
   "outputs": [],
   "source": [
    "import os\n",
    "import sys\n",
    "\n",
    "sys.path.append(\"../../../../\")"
   ]
  },
  {
   "cell_type": "markdown",
   "metadata": {},
   "source": [
    "# Compare gaussian copula and vine copula\n",
    "\n",
    "## Introduction\n",
    "\n",
    "In this example, we will show the differences between using Gaussian copula and vine copula when simulate new data. Vine copula can better estimate the high-dimensional gene-gene correlation, however, the simulation with vine copula does takes more time than with Gaussian copula. If your reference dataset have more than **1000 genes**, we recommend you simulate data with Gaussian copula.\n",
    "\n",
    "## Step 1: Import packages and Read in data\n",
    "\n",
    "### import pacakges"
   ]
  },
  {
   "cell_type": "code",
   "execution_count": 67,
   "metadata": {},
   "outputs": [],
   "source": [
    "import re\n",
    "import anndata as ad\n",
    "import pandas as pd\n",
    "import scanpy as sc\n",
    "import pyscDesign3"
   ]
  },
  {
   "cell_type": "markdown",
   "metadata": {},
   "source": [
    "### Read in data\n",
    "\n",
    "The raw data is from the R package `DuoClustering2018` and converted to `.h5ad` file using the R package `sceasy`."
   ]
  },
  {
   "cell_type": "code",
   "execution_count": 64,
   "metadata": {},
   "outputs": [],
   "source": [
    "data = ad.read_h5ad(\"../../data/Zhengmix4eq.h5ad\")\n",
    "data.obs[\"cell_type\"] = data.obs[\"phenoid\"]\n",
    "data.var.index = data.var[\"symbol\"]"
   ]
  },
  {
   "cell_type": "markdown",
   "metadata": {},
   "source": [
    "For demonstration purpose, we use the top 100 highly variable genes. We further filtered out some highly expressed housekeeping genes and added TF genes."
   ]
  },
  {
   "cell_type": "code",
   "execution_count": 65,
   "metadata": {},
   "outputs": [],
   "source": [
    "humantfs = pd.read_csv(\"http://humantfs.ccbr.utoronto.ca/download/v_1.01/TF_names_v_1.01.txt\",header=None)\n",
    "# choose HVG genes\n",
    "sc.pp.highly_variable_genes(data,layer=\"logcounts\",n_top_genes=100)\n",
    "gene_list = data.var[data.var[\"highly_variable\"] == True].index.to_series()\n",
    "# get whole candidate genes\n",
    "gene_list = pd.unique(pd.concat([humantfs,gene_list])[0])\n",
    "# filter out unneeded genes\n",
    "gene_list = [x for x in gene_list if (re.match(\"RP\",x) is None) and (re.match(\"TMSB\",x) is None) and (not x in [\"B2M\", \"MALAT1\", \"ACTB\", \"ACTG1\", \"GAPDH\", \"FTL\", \"FTH1\"])]\n",
    "# get final data\n",
    "subdata =  data[:,list(set(gene_list).intersection(set(data.var_names)))]"
   ]
  },
  {
   "cell_type": "code",
   "execution_count": 66,
   "metadata": {},
   "outputs": [
    {
     "data": {
      "text/plain": [
       "View of AnnData object with n_obs × n_vars = 3555 × 139\n",
       "    obs: 'barcode', 'phenoid', 'total_features', 'log10_total_features', 'total_counts', 'log10_total_counts', 'pct_counts_top_50_features', 'pct_counts_top_100_features', 'pct_counts_top_200_features', 'pct_counts_top_500_features', 'sizeFactor', 'cell_type'\n",
       "    var: 'id', 'symbol', 'mean_counts', 'log10_mean_counts', 'rank_counts', 'n_cells_counts', 'pct_dropout_counts', 'total_counts', 'log10_total_counts', 'highly_variable', 'means', 'dispersions', 'dispersions_norm'\n",
       "    uns: 'hvg'\n",
       "    obsm: 'X_pca', 'X_tsne'\n",
       "    layers: 'logcounts', 'normcounts'"
      ]
     },
     "execution_count": 66,
     "metadata": {},
     "output_type": "execute_result"
    }
   ],
   "source": [
    "subdata"
   ]
  },
  {
   "cell_type": "markdown",
   "metadata": {},
   "source": [
    "## Simulation\n",
    "\n",
    "We then use pyscdesign3 to simulate two new datasets using Gaussian copula and vine copula respectively."
   ]
  },
  {
   "cell_type": "code",
   "execution_count": null,
   "metadata": {},
   "outputs": [],
   "source": [
    "bpparam = pyscDesign3.get_bpparam(\"SnowParam\",show=False)\n",
    "gaussian = pyscDesign3.scDesign3(n_cores=3,parallelization=\"bpmapply\",bpparam=bpparam)\n",
    "vine = pyscDesign3.scDesign3(n_cores=3,parallelization=\"bpmapply\",bpparam=bpparam)"
   ]
  },
  {
   "cell_type": "code",
   "execution_count": null,
   "metadata": {},
   "outputs": [],
   "source": [
    "gaussian_res = gaussian.scdesign3(sce = subdata,\n",
    "                            celltype = 'cell_type',\n",
    "                            corr_formula = \"cell_type\",\n",
    "                            mu_formula = \"cell_type\",\n",
    "                            sigma_formula = \"cell_type\",\n",
    "                            copula = \"gaussian\",\n",
    "                            assay_use = \"normcounts\",\n",
    "                            family_use = \"nb\",\n",
    "                            pseudo_obs = True, \n",
    "                            return_model = True)\n",
    "\n",
    "vine_res = vine.scdesign3(sce = subdata,\n",
    "                        celltype = 'cell_type',\n",
    "                        corr_formula = \"cell_type\",\n",
    "                        mu_formula = \"cell_type\",\n",
    "                        sigma_formula = \"cell_type\",\n",
    "                        copula = \"vine\",\n",
    "                        assay_use = \"normcounts\",\n",
    "                        family_use = \"nb\",\n",
    "                        pseudo_obs = True, \n",
    "                        return_model = True)"
   ]
  },
  {
   "cell_type": "markdown",
   "metadata": {},
   "source": [
    "## Visualization\n",
    "\n",
    "For the simulation result using Gaussian copula, the return object contains a `corr_list` which is the gene-gene correlation matrices for each group that user specified, in this case, the groups are cell types. For the simulation result using vine copula, the `corr_list` gives the vine structure for each group that user specified, in this case, the groups are cell types. We then reformat the two `corr_list` and visualize them.\n",
    "\n",
    "### Gaussian copula"
   ]
  },
  {
   "cell_type": "code",
   "execution_count": null,
   "metadata": {},
   "outputs": [],
   "source": []
  },
  {
   "cell_type": "markdown",
   "metadata": {},
   "source": [
    "### Vine copula\n",
    "\n",
    "Comparing with the visualization above, the plots below give more direct visualization about which genes are connected in the vine structure and show gene networks."
   ]
  },
  {
   "cell_type": "code",
   "execution_count": null,
   "metadata": {},
   "outputs": [],
   "source": []
  }
 ],
 "metadata": {
  "kernelspec": {
   "display_name": "scrpy",
   "language": "python",
   "name": "python3"
  },
  "language_info": {
   "codemirror_mode": {
    "name": "ipython",
    "version": 3
   },
   "file_extension": ".py",
   "mimetype": "text/x-python",
   "name": "python",
   "nbconvert_exporter": "python",
   "pygments_lexer": "ipython3",
   "version": "3.9.17"
  },
  "orig_nbformat": 4
 },
 "nbformat": 4,
 "nbformat_minor": 2
}

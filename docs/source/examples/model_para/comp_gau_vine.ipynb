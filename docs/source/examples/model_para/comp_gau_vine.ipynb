{
 "cells": [
  {
   "cell_type": "markdown",
   "metadata": {},
   "source": [
    "# Compare gaussian copula and vine copula\n",
    "\n",
    "## Introduction\n",
    "\n",
    "In this example, we will show the differences between using Gaussian copula and vine copula when simulate new data. Vine copula can better estimate the high-dimensional gene-gene correlation, however, the simulation with vine copula does takes more time than with Gaussian copula. If your reference dataset have more than **1000 genes**, we recommend you simulate data with Gaussian copula.\n",
    "\n",
    "## Step 1: Import packages and Read in data\n",
    "\n",
    "### import pacakges"
   ]
  },
  {
   "cell_type": "code",
   "execution_count": null,
   "metadata": {},
   "outputs": [],
   "source": [
    "import re\n",
    "import anndata as ad\n",
    "import numpy as np\n",
    "import pandas as pd\n",
    "import scanpy as sc\n",
    "import pyscDesign3"
   ]
  },
  {
   "cell_type": "markdown",
   "metadata": {},
   "source": [
    "### Read in data\n",
    "\n",
    "The raw data is from the R package `DuoClustering2018` and converted to `.h5ad` file using the R package `sceasy`."
   ]
  },
  {
   "cell_type": "code",
   "execution_count": null,
   "metadata": {},
   "outputs": [],
   "source": [
    "data = ad.read_h5ad(\"data/Zhengmix4eq.h5ad\")\n",
    "data.obs[\"cell_type\"] = data.obs[\"phenoid\"]\n",
    "data.var.index = data.var[\"symbol\"]"
   ]
  },
  {
   "cell_type": "markdown",
   "metadata": {},
   "source": [
    "For demonstration purpose, we use the top 100 highly variable genes. We further filtered out some highly expressed housekeeping genes and added TF genes."
   ]
  },
  {
   "cell_type": "code",
   "execution_count": null,
   "metadata": {},
   "outputs": [],
   "source": [
    "humantfs = pd.read_csv(\"http://humantfs.ccbr.utoronto.ca/download/v_1.01/TF_names_v_1.01.txt\",header=None)\n",
    "# choose HVG genes\n",
    "sc.pp.highly_variable_genes(data,layer=\"logcounts\",n_top_genes=100)\n",
    "gene_list = data.var[data.var[\"highly_variable\"] == True].index.to_series()\n",
    "# get whole candidate genes\n",
    "gene_list = pd.unique(pd.concat([humantfs,gene_list])[0])\n",
    "# filter out unneeded genes\n",
    "gene_list = [x for x in gene_list if (re.match(\"RP\",x) is None) and (re.match(\"TMSB\",x) is None) and (not x in [\"B2M\", \"MALAT1\", \"ACTB\", \"ACTG1\", \"GAPDH\", \"FTL\", \"FTH1\"])]\n",
    "# get final data\n",
    "subdata =  data[:,list(set(gene_list).intersection(set(data.var_names)))]"
   ]
  },
  {
   "cell_type": "code",
   "execution_count": null,
   "metadata": {},
   "outputs": [],
   "source": [
    "subdata"
   ]
  },
  {
   "cell_type": "markdown",
   "metadata": {},
   "source": [
    "## Simulation\n",
    "\n",
    "We then use pyscdesign3 to simulate two new datasets using Gaussian copula and vine copula respectively."
   ]
  },
  {
   "cell_type": "code",
   "execution_count": null,
   "metadata": {},
   "outputs": [],
   "source": [
    "gaussian = pyscDesign3.scDesign3(n_cores=3,parallelization=\"mcmapply\")\n",
    "vine = pyscDesign3.scDesign3(n_cores=3,parallelization=\"mcmapply\")"
   ]
  },
  {
   "cell_type": "code",
   "execution_count": null,
   "metadata": {
    "tags": [
     "remove-output"
    ]
   },
   "outputs": [],
   "source": [
    "gaussian_res = gaussian.scdesign3(anndata = subdata,\n",
    "                            celltype = 'cell_type',\n",
    "                            corr_formula = \"cell_type\",\n",
    "                            mu_formula = \"cell_type\",\n",
    "                            sigma_formula = \"cell_type\",\n",
    "                            copula = \"gaussian\",\n",
    "                            assay_use = \"normcounts\",\n",
    "                            family_use = \"nb\",\n",
    "                            usebam=True,\n",
    "                            pseudo_obs = True, \n",
    "                            return_model = True)"
   ]
  },
  {
   "cell_type": "code",
   "execution_count": null,
   "metadata": {
    "tags": [
     "remove-output"
    ]
   },
   "outputs": [],
   "source": [
    "vine_res = vine.scdesign3(anndata = subdata,\n",
    "                        celltype = 'cell_type',\n",
    "                        corr_formula = \"cell_type\",\n",
    "                        mu_formula = \"cell_type\",\n",
    "                        sigma_formula = \"cell_type\",\n",
    "                        copula = \"vine\",\n",
    "                        assay_use = \"normcounts\",\n",
    "                        family_use = \"nb\",\n",
    "                        usebam=True,\n",
    "                        pseudo_obs = True, \n",
    "                        return_model = True)"
   ]
  },
  {
   "cell_type": "markdown",
   "metadata": {},
   "source": [
    "## Visualization\n",
    "\n",
    "For the simulation result using Gaussian copula, the return object contains a `corr_list` which is the gene-gene correlation matrices for each group that user specified, in this case, the groups are cell types. For the simulation result using vine copula, the `corr_list` gives the vine structure for each group that user specified, in this case, the groups are cell types. We then reformat the two `corr_list` and visualize them."
   ]
  },
  {
   "cell_type": "code",
   "execution_count": 35,
   "metadata": {},
   "outputs": [],
   "source": [
    "import matplotlib.pyplot as plt\n",
    "import networkx as nx\n",
    "import seaborn as sns"
   ]
  },
  {
   "cell_type": "code",
   "execution_count": 39,
   "metadata": {},
   "outputs": [],
   "source": [
    "name_dic = {\n",
    "    \"b.cells\": \"B cell\",\n",
    "    \"naive.cytotoxic\": \"Naive cytotoxic T cell\",\n",
    "    \"cd14.monocytes\": \"CD14 + monocyte\",\n",
    "    \"regulatory.t\": \"Regulatory T cell\",\n",
    "}"
   ]
  },
  {
   "cell_type": "markdown",
   "metadata": {},
   "source": [
    "### Gaussian copula"
   ]
  },
  {
   "cell_type": "code",
   "execution_count": null,
   "metadata": {
    "tags": [
     "hide-input"
    ]
   },
   "outputs": [],
   "source": [
    "# pre-process\n",
    "gaussian_corr = gaussian_res[\"corr_list\"]\n",
    "heatmap_order = subdata.var.sort_values(\"mean_counts\").index.to_list()\n",
    "gaussian_corr = {name_dic[k]:v.loc[heatmap_order,heatmap_order] for k,v in gaussian_corr.items()}\n",
    "\n",
    "# start to plot\n",
    "fig_gau, axes_gau = plt.subplots(1, 4, figsize=(4 * 5, 1 * 5))\n",
    "fig_gau.tight_layout()\n",
    "for i, (group, data) in enumerate(gaussian_corr.items()):\n",
    "    ax = axes_gau[i]\n",
    "    sns.heatmap(\n",
    "        data=data,\n",
    "        vmin=-1,\n",
    "        vmax=1,\n",
    "        cmap=\"bwr\",\n",
    "        cbar_kws={\n",
    "            \"label\": \"Pearson Correlation\",\n",
    "            \"orientation\": \"horizontal\",\n",
    "            \"pad\": 0.05,\n",
    "        },\n",
    "        xticklabels=[],\n",
    "        yticklabels=[],\n",
    "        ax=ax,\n",
    "    )\n",
    "    ax.set_title(group)"
   ]
  },
  {
   "cell_type": "markdown",
   "metadata": {},
   "source": [
    "### Vine copula\n",
    "\n",
    "Comparing with the visualization above, the plots below give more direct visualization about which genes are connected in the vine structure and show gene networks."
   ]
  },
  {
   "cell_type": "code",
   "execution_count": null,
   "metadata": {
    "tags": [
     "hide-input"
    ]
   },
   "outputs": [],
   "source": [
    "vine_corr = vine_res[\"corr_list\"]\n",
    "\n",
    "def get_adjacency_matrix(input):\n",
    "    structure = input[\"structure\"]\n",
    "    order = structure[\"order\"].astype(\"int\")\n",
    "    d = int(structure[\"d\"][0])\n",
    "    trunc_lvl = int(structure[\"trunc_lvl\"][0])\n",
    "    m = np.zeros((d,d),dtype=int)\n",
    "    m[np.diag_indices_from(m)] = order\n",
    "    for i in range(m.shape[0]):\n",
    "        m[:,i] = np.flipud(m[:,i])\n",
    "    for i in range(min(trunc_lvl,d-1)):\n",
    "        newrow = order[structure[\"struct_array\"].byindex(i)[-1].astype(\"int\")-1]\n",
    "        m[i,0:len(newrow)] = newrow\n",
    "    I = np.zeros((d,d),dtype=int)\n",
    "    E = np.array([m[[d-i-1,0],i] for i in range(d-1)])\n",
    "    for i in range(len(E)):\n",
    "        index = np.where(np.isin(order,E[i,:]))[0]\n",
    "        I[index[0],index[1]] = I[index[1],index[0]] = 1\n",
    "    name = np.array(input[\"names\"])\n",
    "    name = name[order-1]\n",
    "    res = pd.DataFrame(I,index=name,columns=name)\n",
    "    return res\n",
    "\n",
    "# plot\n",
    "degree_thresh = 4\n",
    "\n",
    "fig_vine, axes_vine = plt.subplots(1, 4, figsize=(4 * 5, 1 * 5))\n",
    "fig_vine.tight_layout()\n",
    "for i, (group, data) in enumerate(vine_corr.items()):\n",
    "    ax = axes_vine[i]\n",
    "    adjacency_matrix = get_adjacency_matrix(data)\n",
    "    G = nx.from_pandas_adjacency(adjacency_matrix, create_using=nx.Graph())\n",
    "    pos = nx.kamada_kawai_layout(G, scale=3)\n",
    "    nx.draw_networkx(\n",
    "        G,\n",
    "        pos=pos,\n",
    "        node_size=15,\n",
    "        with_labels=True,\n",
    "        ax=ax,\n",
    "        labels={n: n if G.degree[n] > degree_thresh else \"\" for n in G.nodes},\n",
    "        font_color = \"red\",\n",
    "    )\n",
    "    ax.set_title(name_dic[group])\n",
    "    ax.axis(\"off\")"
   ]
  }
 ],
 "metadata": {
  "kernelspec": {
   "display_name": "scrpy",
   "language": "python",
   "name": "python3"
  },
  "language_info": {
   "codemirror_mode": {
    "name": "ipython",
    "version": 3
   },
   "file_extension": ".py",
   "mimetype": "text/x-python",
   "name": "python",
   "nbconvert_exporter": "python",
   "pygments_lexer": "ipython3",
   "version": "3.11.5"
  },
  "orig_nbformat": 4
 },
 "nbformat": 4,
 "nbformat_minor": 2
}

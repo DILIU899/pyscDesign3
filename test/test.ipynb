{
 "cells": [
  {
   "cell_type": "code",
   "execution_count": 1,
   "metadata": {},
   "outputs": [
    {
     "name": "stdout",
     "output_type": "stream",
     "text": [
      "The R project used is located at D:/0Code_env/R-4.3.1\n"
     ]
    }
   ],
   "source": [
    "# import os\n",
    "# os.environ[\"R_HOME\"] = \"Path get from R.home()\"\n",
    "import sys\n",
    "sys.path.append('../')\n",
    "import scDesign3"
   ]
  },
  {
   "cell_type": "code",
   "execution_count": 2,
   "metadata": {},
   "outputs": [],
   "source": [
    "import anndata as ad\n",
    "example_sce = ad.read_h5ad('test_data/exampledata1.h5ad')\n",
    "example_sce.obs['test'] = ['test' for i in range(example_sce.n_obs)]\n",
    "example_sce = example_sce[1:5,1:5]"
   ]
  },
  {
   "cell_type": "code",
   "execution_count": 3,
   "metadata": {},
   "outputs": [
    {
     "data": {
      "text/html": [
       "<div>\n",
       "<style scoped>\n",
       "    .dataframe tbody tr th:only-of-type {\n",
       "        vertical-align: middle;\n",
       "    }\n",
       "\n",
       "    .dataframe tbody tr th {\n",
       "        vertical-align: top;\n",
       "    }\n",
       "\n",
       "    .dataframe thead th {\n",
       "        text-align: right;\n",
       "    }\n",
       "</style>\n",
       "<table border=\"1\" class=\"dataframe\">\n",
       "  <thead>\n",
       "    <tr style=\"text-align: right;\">\n",
       "      <th></th>\n",
       "      <th>clusters_coarse</th>\n",
       "      <th>clusters</th>\n",
       "      <th>S_score</th>\n",
       "      <th>G2M_score</th>\n",
       "      <th>cell_type</th>\n",
       "      <th>sizeFactor</th>\n",
       "      <th>pseudotime</th>\n",
       "      <th>test</th>\n",
       "    </tr>\n",
       "  </thead>\n",
       "  <tbody>\n",
       "    <tr>\n",
       "      <th>AAACCTGGTAAGTGGC</th>\n",
       "      <td>Ngn3 high EP</td>\n",
       "      <td>Ngn3 high EP</td>\n",
       "      <td>-0.179981</td>\n",
       "      <td>-0.126030</td>\n",
       "      <td>Ngn3 high EP</td>\n",
       "      <td>0.824834</td>\n",
       "      <td>0.431569</td>\n",
       "      <td>test</td>\n",
       "    </tr>\n",
       "    <tr>\n",
       "      <th>AAACGGGCAAAGAATC</th>\n",
       "      <td>Endocrine</td>\n",
       "      <td>Beta</td>\n",
       "      <td>-0.174345</td>\n",
       "      <td>-0.221602</td>\n",
       "      <td>Beta</td>\n",
       "      <td>1.045403</td>\n",
       "      <td>0.749373</td>\n",
       "      <td>test</td>\n",
       "    </tr>\n",
       "    <tr>\n",
       "      <th>AAACGGGGTACAGTTC</th>\n",
       "      <td>Endocrine</td>\n",
       "      <td>Beta</td>\n",
       "      <td>-0.186562</td>\n",
       "      <td>-0.157197</td>\n",
       "      <td>Beta</td>\n",
       "      <td>1.506890</td>\n",
       "      <td>0.925441</td>\n",
       "      <td>test</td>\n",
       "    </tr>\n",
       "    <tr>\n",
       "      <th>AAACGGGGTGAAATCA</th>\n",
       "      <td>Ngn3 high EP</td>\n",
       "      <td>Ngn3 high EP</td>\n",
       "      <td>-0.055381</td>\n",
       "      <td>1.020705</td>\n",
       "      <td>Ngn3 high EP</td>\n",
       "      <td>1.398903</td>\n",
       "      <td>0.380345</td>\n",
       "      <td>test</td>\n",
       "    </tr>\n",
       "  </tbody>\n",
       "</table>\n",
       "</div>"
      ],
      "text/plain": [
       "                 clusters_coarse      clusters   S_score  G2M_score  \\\n",
       "AAACCTGGTAAGTGGC    Ngn3 high EP  Ngn3 high EP -0.179981  -0.126030   \n",
       "AAACGGGCAAAGAATC       Endocrine          Beta -0.174345  -0.221602   \n",
       "AAACGGGGTACAGTTC       Endocrine          Beta -0.186562  -0.157197   \n",
       "AAACGGGGTGAAATCA    Ngn3 high EP  Ngn3 high EP -0.055381   1.020705   \n",
       "\n",
       "                     cell_type  sizeFactor  pseudotime  test  \n",
       "AAACCTGGTAAGTGGC  Ngn3 high EP    0.824834    0.431569  test  \n",
       "AAACGGGCAAAGAATC          Beta    1.045403    0.749373  test  \n",
       "AAACGGGGTACAGTTC          Beta    1.506890    0.925441  test  \n",
       "AAACGGGGTGAAATCA  Ngn3 high EP    1.398903    0.380345  test  "
      ]
     },
     "execution_count": 3,
     "metadata": {},
     "output_type": "execute_result"
    }
   ],
   "source": [
    "example_sce.obs"
   ]
  },
  {
   "cell_type": "code",
   "execution_count": 4,
   "metadata": {},
   "outputs": [],
   "source": [
    "test = scDesign3.scDesign3()"
   ]
  },
  {
   "cell_type": "markdown",
   "metadata": {},
   "source": [
    "construct_data interface"
   ]
  },
  {
   "cell_type": "code",
   "execution_count": 5,
   "metadata": {},
   "outputs": [],
   "source": [
    "test.construct_data(\n",
    "    anndata=example_sce,\n",
    "    corr_by=\"1\",\n",
    "    default_assay_name=\"counts\",\n",
    "    celltype='cell_type',\n",
    ")"
   ]
  },
  {
   "cell_type": "code",
   "execution_count": 10,
   "metadata": {},
   "outputs": [
    {
     "name": "stdout",
     "output_type": "stream",
     "text": [
      "$count_mat\n",
      "                 Iapp Chgb Rbp4 Spp1\n",
      "AAACCTGGTAAGTGGC    0    2    0    0\n",
      "AAACGGGCAAAGAATC    2   19  102    2\n",
      "AAACGGGGTACAGTTC  508   23   54    0\n",
      "AAACGGGGTGAAATCA    2    0    0    0\n",
      "\n",
      "$dat\n",
      "                    cell_type corr_group\n",
      "AAACCTGGTAAGTGGC Ngn3 high EP          1\n",
      "AAACGGGCAAAGAATC         Beta          1\n",
      "AAACGGGGTACAGTTC         Beta          1\n",
      "AAACGGGGTGAAATCA Ngn3 high EP          1\n",
      "\n",
      "$newCovariate\n",
      "                    cell_type\n",
      "AAACCTGGTAAGTGGC Ngn3 high EP\n",
      "AAACGGGCAAAGAATC         Beta\n",
      "AAACGGGGTACAGTTC         Beta\n",
      "AAACGGGGTGAAATCA Ngn3 high EP\n",
      "\n",
      "\n"
     ]
    }
   ],
   "source": [
    "print(test.construct_data_res)"
   ]
  },
  {
   "cell_type": "code",
   "execution_count": 6,
   "metadata": {},
   "outputs": [],
   "source": [
    "# SummarizedExperiment = packages.importr('SummarizedExperiment')\n",
    "# print(SummarizedExperiment.assay(test._sce,test._assay_use))\n",
    "# print(SummarizedExperiment.colData(test._sce))\n",
    "# print(SummarizedExperiment.rowData(test._sce))"
   ]
  }
 ],
 "metadata": {
  "kernelspec": {
   "display_name": "base",
   "language": "python",
   "name": "python3"
  },
  "language_info": {
   "codemirror_mode": {
    "name": "ipython",
    "version": 3
   },
   "file_extension": ".py",
   "mimetype": "text/x-python",
   "name": "python",
   "nbconvert_exporter": "python",
   "pygments_lexer": "ipython3",
   "version": "3.9.17"
  },
  "orig_nbformat": 4
 },
 "nbformat": 4,
 "nbformat_minor": 2
}

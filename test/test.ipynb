{
 "cells": [
  {
   "cell_type": "code",
   "execution_count": 1,
   "metadata": {},
   "outputs": [
    {
     "name": "stdout",
     "output_type": "stream",
     "text": [
      "The R project used is located at D:\\R\\R-4.2.3\n"
     ]
    }
   ],
   "source": [
    "# import os\n",
    "# os.environ[\"R_HOME\"] = \"/home/ld/anaconda3/envs/r/lib/R\"\n",
    "import sys\n",
    "sys.path.append('../')\n",
    "import scDesign3"
   ]
  },
  {
   "cell_type": "code",
   "execution_count": 2,
   "metadata": {},
   "outputs": [],
   "source": [
    "import anndata as ad\n",
    "example_sce = ad.read_h5ad('test_data/VISIUM.h5ad')\n",
    "example_sce.obs['test'] = ['test' for i in range(example_sce.n_obs)]\n",
    "example_sce = example_sce[0:10,0:10]"
   ]
  },
  {
   "cell_type": "code",
   "execution_count": 3,
   "metadata": {},
   "outputs": [
    {
     "data": {
      "text/plain": [
       "View of AnnData object with n_obs × n_vars = 10 × 10\n",
       "    obs: 'nCount_Spatial', 'nFeature_Spatial', 'nCount_SCT', 'nFeature_SCT', 'SCT_snn_res.0.8', 'seurat_clusters', 'spatial1', 'spatial2', 'cell_type', 'test'\n",
       "    var: 'name'"
      ]
     },
     "execution_count": 3,
     "metadata": {},
     "output_type": "execute_result"
    }
   ],
   "source": [
    "example_sce"
   ]
  },
  {
   "cell_type": "markdown",
   "metadata": {},
   "source": [
    "construct_data interface"
   ]
  },
  {
   "cell_type": "code",
   "execution_count": null,
   "metadata": {},
   "outputs": [],
   "source": [
    "## windows\n",
    "bpparam = scDesign3.get_bpparam(\"SnowParam\",stop_on_error = False)\n",
    "\n",
    "## linux/mac\n",
    "# bpparam = test.get_bpparam(\"MulticoreParam\",stop_on_error = False)"
   ]
  },
  {
   "cell_type": "code",
   "execution_count": null,
   "metadata": {},
   "outputs": [],
   "source": [
    "test = scDesign3.scDesign3(n_cores=3,parallelization=\"bpmapply\",bpparam=bpparam)"
   ]
  },
  {
   "cell_type": "code",
   "execution_count": null,
   "metadata": {},
   "outputs": [],
   "source": [
    "const_data = test.construct_data(\n",
    "    anndata=example_sce,\n",
    "    corr_by=\"1\",\n",
    "    default_assay_name=\"counts\",\n",
    "    celltype='cell_type',\n",
    "    spatial=['spatial1','spatial2'],\n",
    ")"
   ]
  },
  {
   "cell_type": "code",
   "execution_count": null,
   "metadata": {},
   "outputs": [],
   "source": [
    "print(const_data)"
   ]
  },
  {
   "cell_type": "code",
   "execution_count": null,
   "metadata": {},
   "outputs": [],
   "source": [
    "# SummarizedExperiment = packages.importr('SummarizedExperiment')\n",
    "# print(SummarizedExperiment.assay(test._sce,test._assay_use))\n",
    "# print(SummarizedExperiment.colData(test._sce))\n",
    "# print(SummarizedExperiment.rowData(test._sce))"
   ]
  },
  {
   "cell_type": "markdown",
   "metadata": {},
   "source": [
    "fit_marginal interface"
   ]
  },
  {
   "cell_type": "code",
   "execution_count": null,
   "metadata": {},
   "outputs": [],
   "source": [
    "marginal = test.fit_marginal(\n",
    "    mu_formula=\"s(spatial1,spatial2,bs='gp',k=2)\",\n",
    "    sigma_formula=\"1\",\n",
    "    family_use=\"nb\",\n",
    "    usebam=False,\n",
    "    trace=True,\n",
    ")"
   ]
  },
  {
   "cell_type": "code",
   "execution_count": null,
   "metadata": {},
   "outputs": [],
   "source": [
    "print(marginal)"
   ]
  },
  {
   "cell_type": "markdown",
   "metadata": {},
   "source": [
    "fit_copula interface"
   ]
  },
  {
   "cell_type": "code",
   "execution_count": null,
   "metadata": {},
   "outputs": [],
   "source": [
    "copula = test.fit_copula(\n",
    "    # family_use=\"nb\",\n",
    "    n_cores=1,\n",
    "    # copula = \"vine\",\n",
    "    parallelization=\"mcmapply\",\n",
    "    # parallelization=\"bpmapply\",\n",
    "    # bpparam=bpparam,\n",
    "    important_feature=\"auto\",\n",
    ")"
   ]
  },
  {
   "cell_type": "code",
   "execution_count": null,
   "metadata": {},
   "outputs": [],
   "source": [
    "print(copula)"
   ]
  },
  {
   "cell_type": "markdown",
   "metadata": {},
   "source": [
    "extract paras interface"
   ]
  },
  {
   "cell_type": "code",
   "execution_count": null,
   "metadata": {},
   "outputs": [],
   "source": [
    "paras = test.extract_para()"
   ]
  },
  {
   "cell_type": "code",
   "execution_count": null,
   "metadata": {},
   "outputs": [],
   "source": [
    "print(paras)"
   ]
  },
  {
   "cell_type": "markdown",
   "metadata": {},
   "source": [
    "simu_new interface\n"
   ]
  },
  {
   "cell_type": "code",
   "execution_count": null,
   "metadata": {},
   "outputs": [],
   "source": [
    "new = test.simu_new()"
   ]
  },
  {
   "cell_type": "code",
   "execution_count": null,
   "metadata": {},
   "outputs": [],
   "source": [
    "print(new)"
   ]
  },
  {
   "cell_type": "markdown",
   "metadata": {},
   "source": [
    "scdesign3 interface"
   ]
  },
  {
   "cell_type": "code",
   "execution_count": 6,
   "metadata": {},
   "outputs": [
    {
     "name": "stderr",
     "output_type": "stream",
     "text": [
      "R[write to console]: Input Data Construction Start\n",
      "\n",
      "R[write to console]: Input Data Construction End\n",
      "\n",
      "R[write to console]: Start Marginal Fitting\n",
      "\n",
      "R[write to console]: Marginal Fitting End\n",
      "\n",
      "R[write to console]: Start Copula Fitting\n",
      "\n",
      "R[write to console]: Convert Residuals to Multivariate Gaussian\n",
      "\n",
      "R[write to console]: Converting End\n",
      "\n",
      "R[write to console]: Copula group 1 starts\n",
      "\n",
      "R[write to console]: Copula Fitting End\n",
      "\n",
      "R[write to console]: Start Parameter Extraction\n",
      "\n",
      "R[write to console]: Parameter\n",
      "Extraction End\n",
      "\n",
      "R[write to console]: Start Generate New Data\n",
      "\n",
      "R[write to console]: Use Copula to sample a multivariate quantile matrix\n",
      "\n",
      "R[write to console]: Sample Copula group 1 starts\n",
      "\n",
      "R[write to console]: New Data Generating End\n",
      "\n"
     ]
    }
   ],
   "source": [
    "whole_test = scDesign3.scDesign3(n_cores=1)\n",
    "whole = whole_test.whole_pipeline(    \n",
    "    anndata=example_sce,\n",
    "    corr_formula=\"1\",\n",
    "    default_assay_name=\"counts\",\n",
    "    celltype='cell_type',\n",
    "    spatial=['spatial1','spatial2'],\n",
    "    mu_formula=\"s(spatial1,spatial2,bs='gp',k=2)\",\n",
    "    sigma_formula=\"1\",\n",
    "    family_use=\"nb\",\n",
    "    usebam=False,\n",
    "    trace=True,\n",
    "    important_feature=\"auto\",\n",
    "    # parallelization=\"mcmapply\",\n",
    "    # n_cores=1,\n",
    "    )"
   ]
  },
  {
   "cell_type": "code",
   "execution_count": 11,
   "metadata": {},
   "outputs": [
    {
     "name": "stdout",
     "output_type": "stream",
     "text": [
      "$new_count\n",
      "        AAACAAGTATCTCCCA-1 AAACACCAATAACTGC-1 AAACAGAGCGACTCCT-1\n",
      "Calb2                    2                 30                  1\n",
      "Gng4                     0                 12                  7\n",
      "Ttr                      2                  3                  0\n",
      "S100a5                   0                 35                  0\n",
      "Nrgn                    21                  9                221\n",
      "Doc2g                    0                  6                  0\n",
      "Ppp1r1b                 24                  0                  6\n",
      "Pcbp3                    1                 11                 12\n",
      "Fabp7                    0                 36                  0\n",
      "Gpsm1                    0                 13                  3\n",
      "        AAACAGCTTTCAGAAG-1 AAACAGGGTCTATATT-1 AAACATGGTGAGAGGA-1\n",
      "Calb2                    8                 15                 22\n",
      "Gng4                     8                 18                  2\n",
      "Ttr                      5                  2                  6\n",
      "S100a5                   0                  0                207\n",
      "Nrgn                    10                 58                  0\n",
      "Doc2g                    3                  3                 26\n",
      "Ppp1r1b                  0                  2                  0\n",
      "Pcbp3                    6                 14                  7\n",
      "Fabp7                    3                 13                 72\n",
      "Gpsm1                    5                 10                  2\n",
      "        AAACATTTCCCGGATT-1 AAACCGGGTAGGTACC-1 AAACCGTTCGTCCAGG-1\n",
      "Calb2                    1                  8                  5\n",
      "Gng4                     0                 13                  1\n",
      "Ttr                      2                  2                  3\n",
      "S100a5                   0                  0                  5\n",
      "Nrgn                   112                297                 22\n",
      "Doc2g                    0                  3                  3\n",
      "Ppp1r1b                265                  1                 10\n",
      "Pcbp3                    0                 12                  2\n",
      "Fabp7                    0                 13                  2\n",
      "Gpsm1                    0                  1                  0\n",
      "        AAACCTAAGCAGCCGG-1\n",
      "Calb2                    9\n",
      "Gng4                     1\n",
      "Ttr                      2\n",
      "S100a5                   0\n",
      "Nrgn                    81\n",
      "Doc2g                    1\n",
      "Ppp1r1b                 23\n",
      "Pcbp3                    4\n",
      "Fabp7                    4\n",
      "Gpsm1                    5\n",
      "\n",
      "$new_covariate\n",
      "                   cell_type spatial1 spatial2\n",
      "AAACAAGTATCTCCCA-1         2     7475     8501\n",
      "AAACACCAATAACTGC-1         5     8553     2788\n",
      "AAACAGAGCGACTCCT-1         3     3164     7950\n",
      "AAACAGCTTTCAGAAG-1        11     6637     2099\n",
      "AAACAGGGTCTATATT-1        11     7116     2375\n",
      "AAACATGGTGAGAGGA-1         5     8913     1480\n",
      "AAACATTTCCCGGATT-1         8     8793     8156\n",
      "AAACCGGGTAGGTACC-1         3     6517     3407\n",
      "AAACCGTTCGTCCAGG-1         4     7715     4371\n",
      "AAACCTAAGCAGCCGG-1         9     9272     7193\n",
      "\n",
      "$model_aic\n",
      "aic.marginal   aic.copula    aic.total \n",
      "    578.7325          Inf          Inf \n",
      "\n",
      "$model_bic\n",
      "bic.marginal   bic.copula    bic.total \n",
      "    591.6851          Inf          Inf \n",
      "\n",
      "$marginal_list\n",
      "NULL\n",
      "\n",
      "$corr_list\n",
      "NULL\n",
      "\n",
      "\n"
     ]
    }
   ],
   "source": [
    "print(whole_test.whole_pipeline_res)"
   ]
  }
 ],
 "metadata": {
  "kernelspec": {
   "display_name": "Python 3.9.17 ('r')",
   "language": "python",
   "name": "python3"
  },
  "language_info": {
   "codemirror_mode": {
    "name": "ipython",
    "version": 3
   },
   "file_extension": ".py",
   "mimetype": "text/x-python",
   "name": "python",
   "nbconvert_exporter": "python",
   "pygments_lexer": "ipython3",
   "version": "3.9.17"
  },
  "orig_nbformat": 4,
  "vscode": {
   "interpreter": {
    "hash": "c20a77d8dcbd829eb9d9838fc133b3502af0ef26950436ff1929df402a046716"
   }
  }
 },
 "nbformat": 4,
 "nbformat_minor": 2
}

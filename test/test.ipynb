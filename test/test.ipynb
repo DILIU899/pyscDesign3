{
 "cells": [
  {
   "cell_type": "code",
   "execution_count": 1,
   "metadata": {},
   "outputs": [
    {
     "name": "stdout",
     "output_type": "stream",
     "text": [
      "The R project used is located at D:/Code_env/R-4.3.1\n"
     ]
    }
   ],
   "source": [
    "# import os\n",
    "# os.environ[\"R_HOME\"] = \"/home/ld/anaconda3/envs/r/lib/R\"\n",
    "import sys\n",
    "sys.path.append('../')\n",
    "import scDesign3"
   ]
  },
  {
   "cell_type": "code",
   "execution_count": 2,
   "metadata": {},
   "outputs": [],
   "source": [
    "import anndata as ad\n",
    "example_sce = ad.read_h5ad('test_data/VISIUM.h5ad')\n",
    "example_sce.obs['test'] = ['test' for i in range(example_sce.n_obs)]\n",
    "example_sce = example_sce[0:10,0:10]"
   ]
  },
  {
   "cell_type": "code",
   "execution_count": 3,
   "metadata": {},
   "outputs": [
    {
     "data": {
      "text/plain": [
       "View of AnnData object with n_obs × n_vars = 10 × 10\n",
       "    obs: 'nCount_Spatial', 'nFeature_Spatial', 'nCount_SCT', 'nFeature_SCT', 'SCT_snn_res.0.8', 'seurat_clusters', 'spatial1', 'spatial2', 'cell_type', 'test'\n",
       "    var: 'name'"
      ]
     },
     "execution_count": 3,
     "metadata": {},
     "output_type": "execute_result"
    }
   ],
   "source": [
    "example_sce"
   ]
  },
  {
   "cell_type": "markdown",
   "metadata": {},
   "source": [
    "construct_data interface"
   ]
  },
  {
   "cell_type": "code",
   "execution_count": null,
   "metadata": {},
   "outputs": [],
   "source": [
    "## windows\n",
    "bpparam = scDesign3.get_bpparam(\"SnowParam\",stop_on_error = False)\n",
    "\n",
    "## linux/mac\n",
    "# bpparam = test.get_bpparam(\"MulticoreParam\",stop_on_error = False)"
   ]
  },
  {
   "cell_type": "code",
   "execution_count": 4,
   "metadata": {},
   "outputs": [],
   "source": [
    "# test = scDesign3.scDesign3(n_cores=3,parallelization=\"bpmapply\",bpparam=bpparam)\n",
    "test = scDesign3.scDesign3(n_cores=1,parallelization=\"mcmapply\")"
   ]
  },
  {
   "cell_type": "code",
   "execution_count": 5,
   "metadata": {},
   "outputs": [],
   "source": [
    "const_data = test.construct_data(\n",
    "    anndata=example_sce,\n",
    "    corr_formula=\"1\",\n",
    "    default_assay_name=\"counts\",\n",
    "    celltype='cell_type',\n",
    "    spatial=['spatial1','spatial2'],\n",
    ")"
   ]
  },
  {
   "cell_type": "code",
   "execution_count": null,
   "metadata": {},
   "outputs": [],
   "source": [
    "const_data['dat']"
   ]
  },
  {
   "cell_type": "code",
   "execution_count": null,
   "metadata": {},
   "outputs": [],
   "source": [
    "print(test.construct_data_res)"
   ]
  },
  {
   "cell_type": "code",
   "execution_count": null,
   "metadata": {},
   "outputs": [],
   "source": [
    "# SummarizedExperiment = packages.importr('SummarizedExperiment')\n",
    "# print(SummarizedExperiment.assay(test._sce,test._assay_use))\n",
    "# print(SummarizedExperiment.colData(test._sce))\n",
    "# print(SummarizedExperiment.rowData(test._sce))"
   ]
  },
  {
   "cell_type": "markdown",
   "metadata": {},
   "source": [
    "fit_marginal interface"
   ]
  },
  {
   "cell_type": "code",
   "execution_count": 6,
   "metadata": {},
   "outputs": [],
   "source": [
    "marginal = test.fit_marginal(\n",
    "    # data=const_data,\n",
    "    mu_formula=\"s(spatial1,spatial2,bs='gp',k=2)\",\n",
    "    sigma_formula=\"1\",\n",
    "    family_use=\"nb\",\n",
    "    usebam=False,\n",
    "    trace=True,\n",
    ")"
   ]
  },
  {
   "cell_type": "code",
   "execution_count": null,
   "metadata": {},
   "outputs": [],
   "source": [
    "print(test.fit_marginal_res)"
   ]
  },
  {
   "cell_type": "markdown",
   "metadata": {},
   "source": [
    "fit_copula interface"
   ]
  },
  {
   "cell_type": "code",
   "execution_count": null,
   "metadata": {},
   "outputs": [],
   "source": [
    "copula = test.fit_copula(\n",
    "    # family_use=\"nb\",\n",
    "    n_cores=1,\n",
    "    # copula = \"vine\",\n",
    "    parallelization=\"mcmapply\",\n",
    "    # parallelization=\"bpmapply\",\n",
    "    # bpparam=bpparam,\n",
    "    important_feature=\"auto\",\n",
    ")"
   ]
  },
  {
   "cell_type": "code",
   "execution_count": null,
   "metadata": {},
   "outputs": [],
   "source": [
    "print(copula)"
   ]
  },
  {
   "cell_type": "markdown",
   "metadata": {},
   "source": [
    "extract paras interface"
   ]
  },
  {
   "cell_type": "code",
   "execution_count": null,
   "metadata": {},
   "outputs": [],
   "source": [
    "paras = test.extract_para()"
   ]
  },
  {
   "cell_type": "code",
   "execution_count": null,
   "metadata": {},
   "outputs": [],
   "source": [
    "print(paras)"
   ]
  },
  {
   "cell_type": "markdown",
   "metadata": {},
   "source": [
    "simu_new interface\n"
   ]
  },
  {
   "cell_type": "code",
   "execution_count": null,
   "metadata": {},
   "outputs": [],
   "source": [
    "new = test.simu_new()"
   ]
  },
  {
   "cell_type": "code",
   "execution_count": null,
   "metadata": {},
   "outputs": [],
   "source": [
    "print(new)"
   ]
  },
  {
   "cell_type": "markdown",
   "metadata": {},
   "source": [
    "scdesign3 interface"
   ]
  },
  {
   "cell_type": "code",
   "execution_count": null,
   "metadata": {},
   "outputs": [],
   "source": [
    "whole_test = scDesign3.scDesign3(n_cores=1)\n",
    "whole = whole_test.scdesign3(    \n",
    "    anndata=example_sce,\n",
    "    corr_formula=\"1\",\n",
    "    default_assay_name=\"counts\",\n",
    "    celltype='cell_type',\n",
    "    spatial=['spatial1','spatial2'],\n",
    "    mu_formula=\"s(spatial1,spatial2,bs='gp',k=2)\",\n",
    "    sigma_formula=\"1\",\n",
    "    family_use=\"nb\",\n",
    "    usebam=False,\n",
    "    trace=True,\n",
    "    important_feature=\"auto\",\n",
    "    # parallelization=\"mcmapply\",\n",
    "    # n_cores=1,\n",
    "    )"
   ]
  },
  {
   "cell_type": "code",
   "execution_count": null,
   "metadata": {},
   "outputs": [],
   "source": [
    "print(whole_test.whole_pipeline_res)"
   ]
  },
  {
   "cell_type": "code",
   "execution_count": null,
   "metadata": {},
   "outputs": [],
   "source": [
    "whole[\"marginal_list\"]"
   ]
  },
  {
   "cell_type": "markdown",
   "metadata": {},
   "source": [
    "perform_lrt interface"
   ]
  },
  {
   "cell_type": "code",
   "execution_count": 8,
   "metadata": {},
   "outputs": [],
   "source": [
    "from rpy2.rlike.container import OrdDict\n",
    "from rpy2.robjects import NULL, ListVector, StrVector, conversion, default_converter, numpy2ri, pandas2ri, r\n",
    "\n",
    "@default_converter.py2rpy.register(OrdDict)\n",
    "def convert_ord_dict(ord_dict):\n",
    "    with (default_converter + pandas2ri.converter + numpy2ri.converter).context():\n",
    "        ord_dict = {k: conversion.get_conversion().py2rpy(v) for k, v in ord_dict.items()}\n",
    "    return ListVector(ord_dict)\n",
    "\n",
    "\n",
    "convert = numpy2ri.converter + default_converter + pandas2ri.converter"
   ]
  },
  {
   "cell_type": "code",
   "execution_count": 29,
   "metadata": {},
   "outputs": [
    {
     "name": "stdout",
     "output_type": "stream",
     "text": [
      "o{'coefficients': [ 6.52622255 -0.22336106], 'residuals': [-0.64445884 -0.95613937 -1.11146716 -1.23380326 -0.72212273 -0.25511441\n",
      " -1.16679494 -0.76679494 -1.47847547 -0.93380326 -0.29978662 -0.96679494\n",
      " -1.05613937 -1.55613937  0.16722169  0.15656612 -0.25511441 -0.64445884\n",
      "  0.02254948 -0.57745052 -0.36679494 -0.59978662 -1.12212273 -0.68913105\n",
      " -0.96679494 -0.85613937 -0.76679494 -0.54445884 -0.56679494 -1.11146716\n",
      " -1.03380326 -0.36679494 -0.4104422  -0.08810609 -0.93380326 -0.81146716\n",
      " -0.24445884 -0.82212273 -1.45613937 -0.66679494 -0.74445884 -1.51249211\n",
      " -1.41146716 -0.74445884 -0.57745052 -1.05613937 -0.57745052 -1.21146716\n",
      " -0.39978662 -0.78913105  1.18853284  0.58853284  1.06619674 -0.51249211\n",
      "  0.59918842 -0.20081158  0.51086895 -1.090156    0.72152453 -0.72314769\n",
      " -1.07950043  0.04386063 -0.03482822  0.22152453 -0.27847547  0.86619674\n",
      " -0.25613937 -0.12314769  0.16517178 -0.3678199   0.08853284  0.19918842\n",
      "  0.3321801   0.19918842  0.52152453  0.74386063  0.89918842  0.84386063\n",
      "  0.12152453 -0.24548379 -0.490156   -0.490156   -0.12314769  0.07685231\n",
      " -0.45613937  0.23320506  0.86619674  0.28750789 -0.25613937 -0.4678199\n",
      " -0.44548379  0.24386063 -0.14548379 -1.01249211 -0.32314769 -0.15613937\n",
      " -0.17847547  0.32152453 -0.8678199  -0.20081158  0.51086895 -0.12314769\n",
      "  1.24386063  0.42152453  0.64386063  1.74386063 -1.0678199   1.42152453\n",
      "  0.7321801   1.47787727  0.68853284  0.47685231  0.94386063 -0.2678199\n",
      " -0.10081158  0.58853284  0.64386063  2.02254948  1.75451621 -0.03482822\n",
      "  1.08853284 -0.30081158  1.79918842  0.37685231  0.91086895  1.38853284\n",
      "  0.29918842  0.24386063  0.49918842  1.34386063  1.49918842  2.22254948\n",
      "  0.49918842  0.39918842  0.15451621  1.84386063  0.53320506  0.56619674\n",
      "  0.14386063  1.06619674  0.86619674  1.06619674 -0.12314769  0.98853284\n",
      "  0.91086895  0.84386063  0.3321801   0.64386063  0.43320506  0.04386063], 'fitted.values': [5.74445884 5.85613937 5.81146716 5.83380326 5.72212273 5.65511441\n",
      " 5.76679494 5.76679494 5.87847547 5.83380326 5.69978662 5.76679494\n",
      " 5.85613937 5.85613937 5.63277831 5.54343388 5.65511441 5.74445884\n",
      " 5.67745052 5.67745052 5.76679494 5.69978662 5.72212273 5.78913105\n",
      " 5.76679494 5.85613937 5.76679494 5.74445884 5.76679494 5.81146716\n",
      " 5.83380326 5.76679494 5.6104422  5.58810609 5.83380326 5.81146716\n",
      " 5.74445884 5.72212273 5.85613937 5.76679494 5.74445884 6.01249211\n",
      " 5.81146716 5.74445884 5.67745052 5.85613937 5.67745052 5.81146716\n",
      " 5.69978662 5.78913105 5.81146716 5.81146716 5.83380326 6.01249211\n",
      " 5.90081158 5.90081158 5.78913105 5.990156   5.87847547 5.92314769\n",
      " 6.07950043 5.85613937 6.03482822 5.87847547 5.87847547 5.83380326\n",
      " 5.85613937 5.92314769 6.03482822 5.9678199  5.81146716 5.90081158\n",
      " 5.9678199  5.90081158 5.87847547 5.85613937 5.90081158 5.85613937\n",
      " 5.87847547 5.94548379 5.990156   5.990156   5.92314769 5.92314769\n",
      " 5.85613937 5.76679494 5.83380326 6.01249211 5.85613937 5.9678199\n",
      " 5.94548379 5.85613937 5.94548379 6.01249211 5.92314769 5.85613937\n",
      " 5.87847547 5.87847547 5.9678199  5.90081158 5.78913105 5.92314769\n",
      " 5.85613937 5.87847547 5.85613937 5.85613937 5.9678199  5.87847547\n",
      " 5.9678199  5.72212273 5.81146716 5.92314769 5.85613937 5.9678199\n",
      " 5.90081158 5.81146716 5.85613937 5.67745052 5.94548379 6.03482822\n",
      " 5.81146716 5.90081158 5.90081158 5.92314769 5.78913105 5.81146716\n",
      " 5.90081158 5.85613937 5.90081158 5.85613937 5.90081158 5.67745052\n",
      " 5.90081158 5.90081158 5.94548379 5.85613937 5.76679494 5.83380326\n",
      " 5.85613937 5.83380326 5.83380326 5.83380326 5.92314769 5.81146716\n",
      " 5.78913105 5.85613937 5.9678199  5.85613937 5.76679494 5.85613937], 'family': o{'family': [1] \"gaussian\"\n",
      ", 'link': [1] \"identity\"\n",
      ", 'linkfun': function (mu) \n",
      "mu\n",
      "<environment: namespace:stats>\n",
      ", 'linkinv': function (eta) \n",
      "eta\n",
      "<environment: namespace:stats>\n",
      ", 'variance': function (mu) \n",
      "rep.int(1, length(mu))\n",
      "<bytecode: 0x000001a2b8c0cc48>\n",
      "<environment: 0x000001a2b8c159e0>\n",
      ", 'dev.resids': function (y, mu, wt) \n",
      "wt * ((y - mu)^2)\n",
      "<bytecode: 0x000001a2b8c0ca18>\n",
      "<environment: 0x000001a2b8c159e0>\n",
      ", 'aic': function (y, n, mu, wt, dev) \n",
      "{\n",
      "    nobs <- length(y)\n",
      "    nobs * (log(dev/nobs * 2 * pi) + 1) + 2 - sum(log(wt))\n",
      "}\n",
      "<bytecode: 0x000001a2b8c0c5b8>\n",
      "<environment: 0x000001a2b8c159e0>\n",
      ", 'mu.eta': function (eta) \n",
      "rep.int(1, length(eta))\n",
      "<environment: namespace:stats>\n",
      ", 'initialize': <rpy2.rinterface.ExprSexpVector object at 0x000001A2BB546C40> [RTYPES.EXPRSXP], 'validmu': function (mu) \n",
      "TRUE\n",
      "<bytecode: 0x000001a2b8c15c48>\n",
      "<environment: 0x000001a2b8c159e0>\n",
      ", 'valideta': function (eta) \n",
      "TRUE\n",
      "<environment: namespace:stats>\n",
      ", 'dispersion': [nan], }, 'linear.predictors': [5.74445884 5.85613937 5.81146716 5.83380326 5.72212273 5.65511441\n",
      " 5.76679494 5.76679494 5.87847547 5.83380326 5.69978662 5.76679494\n",
      " 5.85613937 5.85613937 5.63277831 5.54343388 5.65511441 5.74445884\n",
      " 5.67745052 5.67745052 5.76679494 5.69978662 5.72212273 5.78913105\n",
      " 5.76679494 5.85613937 5.76679494 5.74445884 5.76679494 5.81146716\n",
      " 5.83380326 5.76679494 5.6104422  5.58810609 5.83380326 5.81146716\n",
      " 5.74445884 5.72212273 5.85613937 5.76679494 5.74445884 6.01249211\n",
      " 5.81146716 5.74445884 5.67745052 5.85613937 5.67745052 5.81146716\n",
      " 5.69978662 5.78913105 5.81146716 5.81146716 5.83380326 6.01249211\n",
      " 5.90081158 5.90081158 5.78913105 5.990156   5.87847547 5.92314769\n",
      " 6.07950043 5.85613937 6.03482822 5.87847547 5.87847547 5.83380326\n",
      " 5.85613937 5.92314769 6.03482822 5.9678199  5.81146716 5.90081158\n",
      " 5.9678199  5.90081158 5.87847547 5.85613937 5.90081158 5.85613937\n",
      " 5.87847547 5.94548379 5.990156   5.990156   5.92314769 5.92314769\n",
      " 5.85613937 5.76679494 5.83380326 6.01249211 5.85613937 5.9678199\n",
      " 5.94548379 5.85613937 5.94548379 6.01249211 5.92314769 5.85613937\n",
      " 5.87847547 5.87847547 5.9678199  5.90081158 5.78913105 5.92314769\n",
      " 5.85613937 5.87847547 5.85613937 5.85613937 5.9678199  5.87847547\n",
      " 5.9678199  5.72212273 5.81146716 5.92314769 5.85613937 5.9678199\n",
      " 5.90081158 5.81146716 5.85613937 5.67745052 5.94548379 6.03482822\n",
      " 5.81146716 5.90081158 5.90081158 5.92314769 5.78913105 5.81146716\n",
      " 5.90081158 5.85613937 5.90081158 5.85613937 5.90081158 5.67745052\n",
      " 5.90081158 5.90081158 5.94548379 5.85613937 5.76679494 5.83380326\n",
      " 5.85613937 5.83380326 5.83380326 5.83380326 5.92314769 5.81146716\n",
      " 5.78913105 5.85613937 5.9678199  5.85613937 5.76679494 5.85613937], 'deviance': [100.7560958], 'null.deviance': [102.16833333], 'iter': [1], 'weights': [1. 1. 1. 1. 1. 1. 1. 1. 1. 1. 1. 1. 1. 1. 1. 1. 1. 1. 1. 1. 1. 1. 1. 1.\n",
      " 1. 1. 1. 1. 1. 1. 1. 1. 1. 1. 1. 1. 1. 1. 1. 1. 1. 1. 1. 1. 1. 1. 1. 1.\n",
      " 1. 1. 1. 1. 1. 1. 1. 1. 1. 1. 1. 1. 1. 1. 1. 1. 1. 1. 1. 1. 1. 1. 1. 1.\n",
      " 1. 1. 1. 1. 1. 1. 1. 1. 1. 1. 1. 1. 1. 1. 1. 1. 1. 1. 1. 1. 1. 1. 1. 1.\n",
      " 1. 1. 1. 1. 1. 1. 1. 1. 1. 1. 1. 1. 1. 1. 1. 1. 1. 1. 1. 1. 1. 1. 1. 1.\n",
      " 1. 1. 1. 1. 1. 1. 1. 1. 1. 1. 1. 1. 1. 1. 1. 1. 1. 1. 1. 1. 1. 1. 1. 1.\n",
      " 1. 1. 1. 1. 1. 1.], 'prior.weights': [1. 1. 1. 1. 1. 1. 1. 1. 1. 1. 1. 1. 1. 1. 1. 1. 1. 1. 1. 1. 1. 1. 1. 1.\n",
      " 1. 1. 1. 1. 1. 1. 1. 1. 1. 1. 1. 1. 1. 1. 1. 1. 1. 1. 1. 1. 1. 1. 1. 1.\n",
      " 1. 1. 1. 1. 1. 1. 1. 1. 1. 1. 1. 1. 1. 1. 1. 1. 1. 1. 1. 1. 1. 1. 1. 1.\n",
      " 1. 1. 1. 1. 1. 1. 1. 1. 1. 1. 1. 1. 1. 1. 1. 1. 1. 1. 1. 1. 1. 1. 1. 1.\n",
      " 1. 1. 1. 1. 1. 1. 1. 1. 1. 1. 1. 1. 1. 1. 1. 1. 1. 1. 1. 1. 1. 1. 1. 1.\n",
      " 1. 1. 1. 1. 1. 1. 1. 1. 1. 1. 1. 1. 1. 1. 1. 1. 1. 1. 1. 1. 1. 1. 1. 1.\n",
      " 1. 1. 1. 1. 1. 1.], 'df.null': [149], 'y': [5.1 4.9 4.7 4.6 5.  5.4 4.6 5.  4.4 4.9 5.4 4.8 4.8 4.3 5.8 5.7 5.4 5.1\n",
      " 5.7 5.1 5.4 5.1 4.6 5.1 4.8 5.  5.  5.2 5.2 4.7 4.8 5.4 5.2 5.5 4.9 5.\n",
      " 5.5 4.9 4.4 5.1 5.  4.5 4.4 5.  5.1 4.8 5.1 4.6 5.3 5.  7.  6.4 6.9 5.5\n",
      " 6.5 5.7 6.3 4.9 6.6 5.2 5.  5.9 6.  6.1 5.6 6.7 5.6 5.8 6.2 5.6 5.9 6.1\n",
      " 6.3 6.1 6.4 6.6 6.8 6.7 6.  5.7 5.5 5.5 5.8 6.  5.4 6.  6.7 6.3 5.6 5.5\n",
      " 5.5 6.1 5.8 5.  5.6 5.7 5.7 6.2 5.1 5.7 6.3 5.8 7.1 6.3 6.5 7.6 4.9 7.3\n",
      " 6.7 7.2 6.5 6.4 6.8 5.7 5.8 6.4 6.5 7.7 7.7 6.  6.9 5.6 7.7 6.3 6.7 7.2\n",
      " 6.2 6.1 6.4 7.2 7.4 7.9 6.4 6.3 6.1 7.7 6.3 6.4 6.  6.9 6.7 6.9 5.8 6.8\n",
      " 6.7 6.7 6.3 6.5 6.2 5.9], 'converged': [1] TRUE\n",
      ", 'sig2': [0.68078443], 'edf': [1. 1.], 'edf1': [1. 1.], 'hat': [0.01358913 0.00678279 0.00738571 0.00673098 0.01707002 0.03175194\n",
      " 0.01081478 0.01081478 0.00754114 0.00673098 0.02125745 0.01081478\n",
      " 0.00678279 0.00678279 0.03805899 0.07035261 0.03175194 0.01358913\n",
      " 0.02615143 0.02615143 0.01081478 0.02125745 0.01707002 0.00874697\n",
      " 0.01081478 0.00678279 0.01081478 0.01358913 0.01081478 0.00738571\n",
      " 0.00673098 0.01081478 0.04507259 0.05279272 0.00673098 0.00738571\n",
      " 0.01358913 0.01707002 0.00678279 0.01081478 0.01358913 0.02692862\n",
      " 0.00738571 0.01358913 0.02615143 0.00678279 0.02615143 0.00738571\n",
      " 0.02125745 0.00874697 0.00738571 0.00738571 0.00673098 0.02692862\n",
      " 0.00900604 0.00900604 0.00874697 0.02193102 0.00754114 0.01117747\n",
      " 0.04616066 0.00678279 0.03263276 0.00754114 0.00754114 0.00673098\n",
      " 0.00678279 0.01117747 0.03263276 0.01763997 0.00738571 0.00900604\n",
      " 0.01763997 0.00900604 0.00754114 0.00678279 0.00900604 0.00678279\n",
      " 0.00754114 0.01405545 0.02193102 0.02193102 0.01117747 0.01117747\n",
      " 0.00678279 0.01081478 0.00673098 0.02692862 0.00678279 0.01763997\n",
      " 0.01405545 0.00678279 0.01405545 0.02692862 0.01117747 0.00678279\n",
      " 0.00754114 0.00754114 0.01763997 0.00900604 0.00874697 0.01117747\n",
      " 0.00678279 0.00754114 0.00678279 0.00678279 0.01763997 0.00754114\n",
      " 0.01763997 0.01707002 0.00738571 0.01117747 0.00678279 0.01763997\n",
      " 0.00900604 0.00738571 0.00678279 0.02615143 0.01405545 0.03263276\n",
      " 0.00738571 0.00900604 0.00900604 0.01117747 0.00874697 0.00738571\n",
      " 0.00900604 0.00678279 0.00900604 0.00678279 0.00900604 0.02615143\n",
      " 0.00900604 0.00900604 0.01405545 0.00678279 0.01081478 0.00673098\n",
      " 0.00678279 0.00673098 0.00673098 0.00673098 0.01117747 0.00738571\n",
      " 0.00874697 0.00678279 0.01763997 0.00678279 0.01081478 0.00678279], 'R': [[-12.12565757 -37.82062929]\n",
      " [ -1.72291277   0.        ]], 'boundary': [1] FALSE\n",
      ", 'sp': [], 'nsdf': [2], 'Ve': [[ 0.2293417  -0.07352916]\n",
      " [-0.07352916  0.02405009]], 'Vp': [[ 0.2293417  -0.07352916]\n",
      " [-0.07352916  0.02405009]], 'rV': [[-0.00769942 -0.58036137]\n",
      " [-0.02396976  0.18642018]], 'mgcv.conv': o{'full.rank': [2], 'rank': [2], 'fully.converged': [1] TRUE\n",
      ", 'hess.pos.def': [1] TRUE\n",
      ", 'iter': [0], 'score.calls': [1], 'rms.grad': [0.], }, 'gcv.ubre': [0.68998422], 'aic': [371.99167133], 'rank': [2], 'gcv.ubre.dev': [0.68998422], 'scale.estimated': [1] TRUE\n",
      ", 'method': [1] \"GCV\"\n",
      ", 'smooth': o{}, 'formula': Sepal.Length ~ Sepal.Width\n",
      ", 'var.summary': o{'Sepal.Width': [2.  3.  4.4], }, 'cmX': [1.         3.05733333], 'model':      Sepal.Length  Sepal.Width\n",
      "1             5.1          3.5\n",
      "2             4.9          3.0\n",
      "3             4.7          3.2\n",
      "4             4.6          3.1\n",
      "5             5.0          3.6\n",
      "..            ...          ...\n",
      "146           6.7          3.0\n",
      "147           6.3          2.5\n",
      "148           6.5          3.0\n",
      "149           6.2          3.4\n",
      "150           5.9          3.0\n",
      "\n",
      "[150 rows x 2 columns], 'control': o{'nthreads': [1.], 'ncv.threads': [1.], 'irls.reg': [0.], 'epsilon': [1.e-07], 'maxit': [200.], 'trace': [1] FALSE\n",
      ", 'mgcv.tol': [1.e-07], 'mgcv.half': [15.], 'rank.tol': [1.49011612e-08], 'nlm': o{'ndigit': [7.], 'gradtol': [1.e-06], 'stepmax': [2.], 'steptol': [0.0001], 'iterlim': [200.], 'check.analyticals': [1] FALSE\n",
      ", }, 'optim': o{'factr': [10000000.], }, 'newton': o{'conv.tol': [1.e-06], 'maxNstep': [5.], 'maxSstep': [2.], 'maxHalf': [30.], 'use.svd': [1] FALSE\n",
      ", }, 'outerPIsteps': [0.], 'idLinksBases': [1] TRUE\n",
      ", 'scalePenalty': [1] TRUE\n",
      ", 'efs.lspmax': [15.], 'efs.tol': [0.1], 'keepData': [1] FALSE\n",
      ", 'scale.est': [1] \"fletcher\"\n",
      ", 'edge.correct': [1] FALSE\n",
      ", }, 'terms': Sepal.Length ~ Sepal.Width\n",
      "attr(,\"variables\")\n",
      "list(Sepal.Length, Sepal.Width)\n",
      "attr(,\"factors\")\n",
      "             Sepal.Width\n",
      "Sepal.Length           0\n",
      "Sepal.Width            1\n",
      "attr(,\"term.labels\")\n",
      "[1] \"Sepal.Width\"\n",
      "attr(,\"order\")\n",
      "[1] 1\n",
      "attr(,\"intercept\")\n",
      "[1] 1\n",
      "attr(,\"response\")\n",
      "[1] 1\n",
      "attr(,\".Environment\")\n",
      "<environment: R_GlobalEnv>\n",
      "attr(,\"predvars\")\n",
      "list(Sepal.Length, Sepal.Width)\n",
      "attr(,\"dataClasses\")\n",
      "Sepal.Length  Sepal.Width \n",
      "   \"numeric\"    \"numeric\" \n",
      ", 'pred.formula': ~Sepal.Width\n",
      "attr(,\"full\")\n",
      "~Sepal.Length + Sepal.Width\n",
      ", 'pterms': Sepal.Length ~ Sepal.Width\n",
      "attr(,\"variables\")\n",
      "list(Sepal.Length, Sepal.Width)\n",
      "attr(,\"factors\")\n",
      "             Sepal.Width\n",
      "Sepal.Length           0\n",
      "Sepal.Width            1\n",
      "attr(,\"term.labels\")\n",
      "[1] \"Sepal.Width\"\n",
      "attr(,\"order\")\n",
      "[1] 1\n",
      "attr(,\"intercept\")\n",
      "[1] 1\n",
      "attr(,\"response\")\n",
      "[1] 1\n",
      "attr(,\".Environment\")\n",
      "<environment: R_GlobalEnv>\n",
      "attr(,\"predvars\")\n",
      "list(Sepal.Length, Sepal.Width)\n",
      "attr(,\"dataClasses\")\n",
      "Sepal.Length  Sepal.Width \n",
      "   \"numeric\"    \"numeric\" \n",
      ", 'assign': [0 1], 'xlevels': o{}, 'offset': [0. 0. 0. 0. 0. 0. 0. 0. 0. 0. 0. 0. 0. 0. 0. 0. 0. 0. 0. 0. 0. 0. 0. 0.\n",
      " 0. 0. 0. 0. 0. 0. 0. 0. 0. 0. 0. 0. 0. 0. 0. 0. 0. 0. 0. 0. 0. 0. 0. 0.\n",
      " 0. 0. 0. 0. 0. 0. 0. 0. 0. 0. 0. 0. 0. 0. 0. 0. 0. 0. 0. 0. 0. 0. 0. 0.\n",
      " 0. 0. 0. 0. 0. 0. 0. 0. 0. 0. 0. 0. 0. 0. 0. 0. 0. 0. 0. 0. 0. 0. 0. 0.\n",
      " 0. 0. 0. 0. 0. 0. 0. 0. 0. 0. 0. 0. 0. 0. 0. 0. 0. 0. 0. 0. 0. 0. 0. 0.\n",
      " 0. 0. 0. 0. 0. 0. 0. 0. 0. 0. 0. 0. 0. 0. 0. 0. 0. 0. 0. 0. 0. 0. 0. 0.\n",
      " 0. 0. 0. 0. 0. 0.], 'df.residual': [148.], 'min.edf': [2], 'optimizer': [1] \"magic\"\n",
      ", 'call': \n",
      "Family: gaussian \n",
      "Link function: identity \n",
      "\n",
      "Formula:\n",
      "Sepal.Length ~ Sepal.Width\n",
      "Total model degrees of freedom 2 \n",
      "\n",
      "GCV score: 0.6899842     \n",
      ", }\n"
     ]
    }
   ],
   "source": [
    "with convert.context():\n",
    "    a = test.fit_marginal_res.rx2(\"Calb2\")\n",
    "    b = r(\"mgcv::gam(Sepal.Length~Sepal.Width,data=iris)\")\n",
    "\n",
    "print(b)"
   ]
  },
  {
   "cell_type": "code",
   "execution_count": 30,
   "metadata": {},
   "outputs": [
    {
     "name": "stderr",
     "output_type": "stream",
     "text": [
      "R[write to console]: Error in h(simpleError(msg, call)) : \n",
      "  在为'show'函数选择方法时评估'object'参数出了错: could not find function \"fitfunc\" \n",
      "\n",
      "d:\\Code_env\\Anaconda3\\envs\\scrpy\\lib\\site-packages\\rpy2\\robjects\\robject.py:123: UserWarning: Invalid call to \"show()\" in R: Error in h(simpleError(msg, call)) : \n",
      "  在为'show'函数选择方法时评估'object'参数出了错: could not find function \"fitfunc\" \n",
      "\n",
      "  warnings.warn(f'Invalid call to \"show()\" in R: {rre}')\n",
      "R[write to console]: Error in fitfunc(formula = mgcv_formula, family = \"nb\", data = dat_use,  : \n",
      "  could not find function \"fitfunc\"\n",
      "\n"
     ]
    },
    {
     "ename": "RRuntimeError",
     "evalue": "Error in fitfunc(formula = mgcv_formula, family = \"nb\", data = dat_use,  : \n  could not find function \"fitfunc\"\n",
     "output_type": "error",
     "traceback": [
      "\u001b[1;31m---------------------------------------------------------------------------\u001b[0m",
      "\u001b[1;31mRRuntimeError\u001b[0m                             Traceback (most recent call last)",
      "File \u001b[1;32md:\\Code_env\\Anaconda3\\envs\\scrpy\\lib\\site-packages\\rpy2\\robjects\\robject.py:115\u001b[0m, in \u001b[0;36mRObjectMixin.__str__\u001b[1;34m(self)\u001b[0m\n\u001b[0;32m    114\u001b[0m \u001b[39mtry\u001b[39;00m:\n\u001b[1;32m--> 115\u001b[0m     \u001b[39mself\u001b[39;49m\u001b[39m.\u001b[39;49m__show(\u001b[39mself\u001b[39;49m)\n\u001b[0;32m    116\u001b[0m     \u001b[39m# There can be situation where an invalid call to R`s\u001b[39;00m\n\u001b[0;32m    117\u001b[0m     \u001b[39m# show is made. Possibly some form of signature overriding\u001b[39;00m\n\u001b[0;32m    118\u001b[0m     \u001b[39m# that goes through in R through dispatch (although it\u001b[39;00m\n\u001b[0;32m    119\u001b[0m     \u001b[39m# should not?). In that case this is an problem upstream\u001b[39;00m\n\u001b[0;32m    120\u001b[0m     \u001b[39m# and this try/except is a workaround until it gets fixed.\u001b[39;00m\n\u001b[0;32m    121\u001b[0m     \u001b[39m# (issue #908).\u001b[39;00m\n",
      "File \u001b[1;32md:\\Code_env\\Anaconda3\\envs\\scrpy\\lib\\site-packages\\rpy2\\rinterface_lib\\conversion.py:45\u001b[0m, in \u001b[0;36m_cdata_res_to_rinterface.<locals>._\u001b[1;34m(*args, **kwargs)\u001b[0m\n\u001b[0;32m     44\u001b[0m \u001b[39mdef\u001b[39;00m \u001b[39m_\u001b[39m(\u001b[39m*\u001b[39margs, \u001b[39m*\u001b[39m\u001b[39m*\u001b[39mkwargs):\n\u001b[1;32m---> 45\u001b[0m     cdata \u001b[39m=\u001b[39m function(\u001b[39m*\u001b[39margs, \u001b[39m*\u001b[39m\u001b[39m*\u001b[39mkwargs)\n\u001b[0;32m     46\u001b[0m     \u001b[39m# TODO: test cdata is of the expected CType\u001b[39;00m\n",
      "File \u001b[1;32md:\\Code_env\\Anaconda3\\envs\\scrpy\\lib\\site-packages\\rpy2\\rinterface.py:873\u001b[0m, in \u001b[0;36mSexpClosure.__call__\u001b[1;34m(self, *args, **kwargs)\u001b[0m\n\u001b[0;32m    872\u001b[0m     \u001b[39mif\u001b[39;00m error_occured[\u001b[39m0\u001b[39m]:\n\u001b[1;32m--> 873\u001b[0m         \u001b[39mraise\u001b[39;00m embedded\u001b[39m.\u001b[39mRRuntimeError(_rinterface\u001b[39m.\u001b[39m_geterrmessage())\n\u001b[0;32m    874\u001b[0m \u001b[39mreturn\u001b[39;00m res\n",
      "\u001b[1;31mRRuntimeError\u001b[0m: Error in h(simpleError(msg, call)) : \n  在为'show'函数选择方法时评估'object'参数出了错: could not find function \"fitfunc\" \n",
      "\nDuring handling of the above exception, another exception occurred:\n",
      "\u001b[1;31mRRuntimeError\u001b[0m                             Traceback (most recent call last)",
      "File \u001b[1;32md:\\Code_env\\Anaconda3\\envs\\scrpy\\lib\\site-packages\\IPython\\core\\formatters.py:708\u001b[0m, in \u001b[0;36mPlainTextFormatter.__call__\u001b[1;34m(self, obj)\u001b[0m\n\u001b[0;32m    701\u001b[0m stream \u001b[39m=\u001b[39m StringIO()\n\u001b[0;32m    702\u001b[0m printer \u001b[39m=\u001b[39m pretty\u001b[39m.\u001b[39mRepresentationPrinter(stream, \u001b[39mself\u001b[39m\u001b[39m.\u001b[39mverbose,\n\u001b[0;32m    703\u001b[0m     \u001b[39mself\u001b[39m\u001b[39m.\u001b[39mmax_width, \u001b[39mself\u001b[39m\u001b[39m.\u001b[39mnewline,\n\u001b[0;32m    704\u001b[0m     max_seq_length\u001b[39m=\u001b[39m\u001b[39mself\u001b[39m\u001b[39m.\u001b[39mmax_seq_length,\n\u001b[0;32m    705\u001b[0m     singleton_pprinters\u001b[39m=\u001b[39m\u001b[39mself\u001b[39m\u001b[39m.\u001b[39msingleton_printers,\n\u001b[0;32m    706\u001b[0m     type_pprinters\u001b[39m=\u001b[39m\u001b[39mself\u001b[39m\u001b[39m.\u001b[39mtype_printers,\n\u001b[0;32m    707\u001b[0m     deferred_pprinters\u001b[39m=\u001b[39m\u001b[39mself\u001b[39m\u001b[39m.\u001b[39mdeferred_printers)\n\u001b[1;32m--> 708\u001b[0m printer\u001b[39m.\u001b[39;49mpretty(obj)\n\u001b[0;32m    709\u001b[0m printer\u001b[39m.\u001b[39mflush()\n\u001b[0;32m    710\u001b[0m \u001b[39mreturn\u001b[39;00m stream\u001b[39m.\u001b[39mgetvalue()\n",
      "File \u001b[1;32md:\\Code_env\\Anaconda3\\envs\\scrpy\\lib\\site-packages\\IPython\\lib\\pretty.py:410\u001b[0m, in \u001b[0;36mRepresentationPrinter.pretty\u001b[1;34m(self, obj)\u001b[0m\n\u001b[0;32m    407\u001b[0m                         \u001b[39mreturn\u001b[39;00m meth(obj, \u001b[39mself\u001b[39m, cycle)\n\u001b[0;32m    408\u001b[0m                 \u001b[39mif\u001b[39;00m \u001b[39mcls\u001b[39m \u001b[39mis\u001b[39;00m \u001b[39mnot\u001b[39;00m \u001b[39mobject\u001b[39m \\\n\u001b[0;32m    409\u001b[0m                         \u001b[39mand\u001b[39;00m \u001b[39mcallable\u001b[39m(\u001b[39mcls\u001b[39m\u001b[39m.\u001b[39m\u001b[39m__dict__\u001b[39m\u001b[39m.\u001b[39mget(\u001b[39m'\u001b[39m\u001b[39m__repr__\u001b[39m\u001b[39m'\u001b[39m)):\n\u001b[1;32m--> 410\u001b[0m                     \u001b[39mreturn\u001b[39;00m _repr_pprint(obj, \u001b[39mself\u001b[39;49m, cycle)\n\u001b[0;32m    412\u001b[0m     \u001b[39mreturn\u001b[39;00m _default_pprint(obj, \u001b[39mself\u001b[39m, cycle)\n\u001b[0;32m    413\u001b[0m \u001b[39mfinally\u001b[39;00m:\n",
      "File \u001b[1;32md:\\Code_env\\Anaconda3\\envs\\scrpy\\lib\\site-packages\\IPython\\lib\\pretty.py:778\u001b[0m, in \u001b[0;36m_repr_pprint\u001b[1;34m(obj, p, cycle)\u001b[0m\n\u001b[0;32m    776\u001b[0m \u001b[39m\u001b[39m\u001b[39m\"\"\"A pprint that just redirects to the normal repr function.\"\"\"\u001b[39;00m\n\u001b[0;32m    777\u001b[0m \u001b[39m# Find newlines and replace them with p.break_()\u001b[39;00m\n\u001b[1;32m--> 778\u001b[0m output \u001b[39m=\u001b[39m \u001b[39mrepr\u001b[39;49m(obj)\n\u001b[0;32m    779\u001b[0m lines \u001b[39m=\u001b[39m output\u001b[39m.\u001b[39msplitlines()\n\u001b[0;32m    780\u001b[0m \u001b[39mwith\u001b[39;00m p\u001b[39m.\u001b[39mgroup():\n",
      "File \u001b[1;32md:\\Code_env\\Anaconda3\\envs\\scrpy\\lib\\site-packages\\rpy2\\rlike\\container.py:83\u001b[0m, in \u001b[0;36mOrdDict.__repr__\u001b[1;34m(self)\u001b[0m\n\u001b[0;32m     81\u001b[0m s \u001b[39m=\u001b[39m [\u001b[39m'\u001b[39m\u001b[39mo\u001b[39m\u001b[39m{\u001b[39m\u001b[39m'\u001b[39m, ]\n\u001b[0;32m     82\u001b[0m \u001b[39mfor\u001b[39;00m k, v \u001b[39min\u001b[39;00m \u001b[39mself\u001b[39m\u001b[39m.\u001b[39mitems():\n\u001b[1;32m---> 83\u001b[0m     s\u001b[39m.\u001b[39mappend(\u001b[39m\"\u001b[39m\u001b[39m'\u001b[39m\u001b[39m%s\u001b[39;00m\u001b[39m'\u001b[39m\u001b[39m: \u001b[39m\u001b[39m%s\u001b[39;00m\u001b[39m, \u001b[39m\u001b[39m\"\u001b[39m \u001b[39m%\u001b[39m (\u001b[39mstr\u001b[39m(k), \u001b[39mstr\u001b[39;49m(v)))\n\u001b[0;32m     84\u001b[0m s\u001b[39m.\u001b[39mappend(\u001b[39m'\u001b[39m\u001b[39m}\u001b[39m\u001b[39m'\u001b[39m)\n\u001b[0;32m     85\u001b[0m \u001b[39mreturn\u001b[39;00m \u001b[39m'\u001b[39m\u001b[39m'\u001b[39m\u001b[39m.\u001b[39mjoin(s)\n",
      "File \u001b[1;32md:\\Code_env\\Anaconda3\\envs\\scrpy\\lib\\site-packages\\rpy2\\robjects\\robject.py:124\u001b[0m, in \u001b[0;36mRObjectMixin.__str__\u001b[1;34m(self)\u001b[0m\n\u001b[0;32m    122\u001b[0m     \u001b[39mexcept\u001b[39;00m rpy2\u001b[39m.\u001b[39mrinterface\u001b[39m.\u001b[39membedded\u001b[39m.\u001b[39mRRuntimeError \u001b[39mas\u001b[39;00m rre:\n\u001b[0;32m    123\u001b[0m         warnings\u001b[39m.\u001b[39mwarn(\u001b[39mf\u001b[39m\u001b[39m'\u001b[39m\u001b[39mInvalid call to \u001b[39m\u001b[39m\"\u001b[39m\u001b[39mshow()\u001b[39m\u001b[39m\"\u001b[39m\u001b[39m in R: \u001b[39m\u001b[39m{\u001b[39;00mrre\u001b[39m}\u001b[39;00m\u001b[39m'\u001b[39m)\n\u001b[1;32m--> 124\u001b[0m         \u001b[39mself\u001b[39;49m\u001b[39m.\u001b[39;49m__print(\u001b[39mself\u001b[39;49m)\n\u001b[0;32m    125\u001b[0m s \u001b[39m=\u001b[39m \u001b[39mstr\u001b[39m\u001b[39m.\u001b[39mjoin(\u001b[39m'\u001b[39m\u001b[39m'\u001b[39m, s)\n\u001b[0;32m    126\u001b[0m \u001b[39mreturn\u001b[39;00m s\n",
      "File \u001b[1;32md:\\Code_env\\Anaconda3\\envs\\scrpy\\lib\\site-packages\\rpy2\\rinterface_lib\\conversion.py:45\u001b[0m, in \u001b[0;36m_cdata_res_to_rinterface.<locals>._\u001b[1;34m(*args, **kwargs)\u001b[0m\n\u001b[0;32m     44\u001b[0m \u001b[39mdef\u001b[39;00m \u001b[39m_\u001b[39m(\u001b[39m*\u001b[39margs, \u001b[39m*\u001b[39m\u001b[39m*\u001b[39mkwargs):\n\u001b[1;32m---> 45\u001b[0m     cdata \u001b[39m=\u001b[39m function(\u001b[39m*\u001b[39margs, \u001b[39m*\u001b[39m\u001b[39m*\u001b[39mkwargs)\n\u001b[0;32m     46\u001b[0m     \u001b[39m# TODO: test cdata is of the expected CType\u001b[39;00m\n\u001b[0;32m     47\u001b[0m     \u001b[39mreturn\u001b[39;00m _cdata_to_rinterface(cdata)\n",
      "File \u001b[1;32md:\\Code_env\\Anaconda3\\envs\\scrpy\\lib\\site-packages\\rpy2\\rinterface.py:873\u001b[0m, in \u001b[0;36mSexpClosure.__call__\u001b[1;34m(self, *args, **kwargs)\u001b[0m\n\u001b[0;32m    866\u001b[0m     res \u001b[39m=\u001b[39m rmemory\u001b[39m.\u001b[39mprotect(\n\u001b[0;32m    867\u001b[0m         openrlib\u001b[39m.\u001b[39mrlib\u001b[39m.\u001b[39mR_tryEval(\n\u001b[0;32m    868\u001b[0m             call_r,\n\u001b[0;32m    869\u001b[0m             call_context\u001b[39m.\u001b[39m__sexp__\u001b[39m.\u001b[39m_cdata,\n\u001b[0;32m    870\u001b[0m             error_occured)\n\u001b[0;32m    871\u001b[0m     )\n\u001b[0;32m    872\u001b[0m     \u001b[39mif\u001b[39;00m error_occured[\u001b[39m0\u001b[39m]:\n\u001b[1;32m--> 873\u001b[0m         \u001b[39mraise\u001b[39;00m embedded\u001b[39m.\u001b[39mRRuntimeError(_rinterface\u001b[39m.\u001b[39m_geterrmessage())\n\u001b[0;32m    874\u001b[0m \u001b[39mreturn\u001b[39;00m res\n",
      "\u001b[1;31mRRuntimeError\u001b[0m: Error in fitfunc(formula = mgcv_formula, family = \"nb\", data = dat_use,  : \n  could not find function \"fitfunc\"\n"
     ]
    }
   ],
   "source": [
    "a[\"fit\"]"
   ]
  },
  {
   "cell_type": "code",
   "execution_count": 26,
   "metadata": {},
   "outputs": [
    {
     "name": "stdout",
     "output_type": "stream",
     "text": [
      "$fit\n",
      "\n",
      "Family: Negative Binomial(2.63) \n",
      "Link function: log \n",
      "\n",
      "Formula:\n",
      "gene ~ s(spatial1, spatial2, bs = \"gp\", k = 2)\n",
      "\n",
      "Estimated degrees of freedom:\n",
      "2  total = 3 \n",
      "\n",
      "REML score: 42.72744     \n",
      "\n",
      "$warning\n",
      "$warning[[1]]\n",
      "$warning[[1]]$function_name\n",
      "[1] \"gam\"\n",
      "\n",
      "$warning[[1]]$type\n",
      "[1] \"warning\"\n",
      "\n",
      "$warning[[1]]$message\n",
      "[1] \"simpleWarning in Sys.setlocale(\\\"LC_CTYPE\\\", chloc): using locale code page other than 936 may cause problems\\n\"\n",
      "\n",
      "\n",
      "$warning[[2]]\n",
      "$warning[[2]]$function_name\n",
      "[1] \"gam\"\n",
      "\n",
      "$warning[[2]]$type\n",
      "[1] \"warning\"\n",
      "\n",
      "$warning[[2]]$message\n",
      "[1] \"simpleWarning in smooth.construct.gp.smooth.spec(object, dk$data, dk$knots): basis dimension reset to minimum possible\\n\"\n",
      "\n",
      "\n",
      "\n",
      "$time\n",
      "[1] 0.06491804         NA\n",
      "\n",
      "$removed_cell\n",
      "[1] NA\n",
      "\n",
      "\n"
     ]
    }
   ],
   "source": [
    "print(test.fit_marginal_res.rx2(\"Calb2\"))"
   ]
  },
  {
   "cell_type": "code",
   "execution_count": null,
   "metadata": {},
   "outputs": [],
   "source": []
  }
 ],
 "metadata": {
  "kernelspec": {
   "display_name": "Python 3.9.17 ('r')",
   "language": "python",
   "name": "python3"
  },
  "language_info": {
   "codemirror_mode": {
    "name": "ipython",
    "version": 3
   },
   "file_extension": ".py",
   "mimetype": "text/x-python",
   "name": "python",
   "nbconvert_exporter": "python",
   "pygments_lexer": "ipython3",
   "version": "3.9.17"
  },
  "orig_nbformat": 4,
  "vscode": {
   "interpreter": {
    "hash": "c20a77d8dcbd829eb9d9838fc133b3502af0ef26950436ff1929df402a046716"
   }
  }
 },
 "nbformat": 4,
 "nbformat_minor": 2
}

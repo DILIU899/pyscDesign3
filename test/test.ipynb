{
 "cells": [
  {
   "cell_type": "code",
   "execution_count": 1,
   "metadata": {},
   "outputs": [
    {
     "name": "stdout",
     "output_type": "stream",
     "text": [
      "The R project used is located at D:/0Code_env/R-4.3.1\n"
     ]
    }
   ],
   "source": [
    "import sys\n",
    "sys.path.append('../')\n",
    "import scDesign3"
   ]
  },
  {
   "cell_type": "code",
   "execution_count": 2,
   "metadata": {},
   "outputs": [],
   "source": [
    "from rpy2.robjects import r,pandas2ri,packages"
   ]
  },
  {
   "cell_type": "code",
   "execution_count": 3,
   "metadata": {},
   "outputs": [],
   "source": [
    "import anndata as ad\n",
    "example_sce = ad.read_h5ad('test_data/exampledata1.h5ad')\n",
    "example_sce.obs['test'] = ['test' for i in range(len(example_sce.obs))]"
   ]
  },
  {
   "cell_type": "code",
   "execution_count": 5,
   "metadata": {},
   "outputs": [],
   "source": [
    "test = scDesign3.scDesign3()"
   ]
  },
  {
   "cell_type": "markdown",
   "metadata": {},
   "source": [
    "construct_data interface"
   ]
  },
  {
   "cell_type": "code",
   "execution_count": 6,
   "metadata": {},
   "outputs": [],
   "source": [
    "test.construct_data(\n",
    "    anndata=example_sce,\n",
    "    corr_by=\"1\",\n",
    "    default_assay_name=\"counts\",\n",
    "    celltype='cell_type',\n",
    ")"
   ]
  },
  {
   "cell_type": "code",
   "execution_count": 7,
   "metadata": {},
   "outputs": [
    {
     "name": "stdout",
     "output_type": "stream",
     "text": [
      "['cell_type'] counts\n"
     ]
    }
   ],
   "source": [
    "print(test._all_covar,test._assay_use)"
   ]
  },
  {
   "cell_type": "code",
   "execution_count": 8,
   "metadata": {},
   "outputs": [
    {
     "name": "stdout",
     "output_type": "stream",
     "text": [
      "[[103.   1.   0. ...  75.   0.   0.]\n",
      " [  0.   0.   2. ...   0.   0.   0.]\n",
      " [ 86.   2.  19. ...  64.  59.   1.]\n",
      " ...\n",
      " [  0.   0.   0. ...   0.   0.   0.]\n",
      " [  0.   1.   0. ...   0.   0.   1.]\n",
      " [  0.   1.   1. ...   1.   1.   0.]]\n",
      "DataFrame with 2087 rows and 1 column\n",
      "                     cell_type\n",
      "                      <factor>\n",
      "AAACCTGAGAGGGATA Pre-endocrine\n",
      "AAACCTGGTAAGTGGC Ngn3 high EP \n",
      "AAACGGGCAAAGAATC Beta         \n",
      "AAACGGGGTACAGTTC Beta         \n",
      "AAACGGGGTGAAATCA Ngn3 high EP \n",
      "...                        ...\n",
      "TTTGGTTTCACTTACT Ngn3 high EP \n",
      "TTTGGTTTCCTTTCGG Beta         \n",
      "TTTGTCAAGAATGTGT Pre-endocrine\n",
      "TTTGTCAAGTGACATA Pre-endocrine\n",
      "TTTGTCAAGTGTGGCA Ngn3 high EP \n",
      "\n",
      "DataFrame with 1000 rows and 1 column\n",
      "        highly_variable_genes\n",
      "                     <factor>\n",
      "Pyy                      True\n",
      "Iapp                     True\n",
      "Chgb                     True\n",
      "Rbp4                     True\n",
      "Spp1                     True\n",
      "...                       ...\n",
      "Fam210b                 True \n",
      "Vps35                   False\n",
      "Trib1                   True \n",
      "Eya2                    True \n",
      "Kif21a                  False\n",
      "\n"
     ]
    }
   ],
   "source": [
    "SummarizedExperiment = packages.importr('SummarizedExperiment')\n",
    "print(SummarizedExperiment.assay(test._sce,test._assay_use))\n",
    "print(SummarizedExperiment.colData(test._sce))\n",
    "print(SummarizedExperiment.rowData(test._sce))"
   ]
  }
 ],
 "metadata": {
  "kernelspec": {
   "display_name": "base",
   "language": "python",
   "name": "python3"
  },
  "language_info": {
   "codemirror_mode": {
    "name": "ipython",
    "version": 3
   },
   "file_extension": ".py",
   "mimetype": "text/x-python",
   "name": "python",
   "nbconvert_exporter": "python",
   "pygments_lexer": "ipython3",
   "version": "3.9.17"
  },
  "orig_nbformat": 4
 },
 "nbformat": 4,
 "nbformat_minor": 2
}

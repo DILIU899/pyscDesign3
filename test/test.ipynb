{
 "cells": [
  {
   "cell_type": "code",
   "execution_count": null,
   "metadata": {},
   "outputs": [],
   "source": [
    "# import os\n",
    "# os.environ[\"R_HOME\"] = \"/home/ld/anaconda3/envs/r/lib/R\"\n",
    "import sys\n",
    "\n",
    "sys.path.append(\"../\")\n",
    "import scDesign3\n",
    "import anndata as ad\n",
    "import numpy as np"
   ]
  },
  {
   "cell_type": "code",
   "execution_count": null,
   "metadata": {},
   "outputs": [],
   "source": [
    "example_sce = ad.read_h5ad(\"test_data/VISIUM.h5ad\")\n",
    "example_sce.obs[\"test\"] = [\"test\" for i in range(example_sce.n_obs)]\n",
    "example_sce = example_sce[0:10, 0:10]\n",
    "example_sce"
   ]
  },
  {
   "cell_type": "markdown",
   "metadata": {},
   "source": [
    "construct_data interface\n"
   ]
  },
  {
   "cell_type": "code",
   "execution_count": null,
   "metadata": {},
   "outputs": [],
   "source": [
    "## windows\n",
    "bpparam = scDesign3.get_bpparam(\"SnowParam\", stop_on_error=False)\n",
    "\n",
    "## linux/mac\n",
    "# bpparam = test.get_bpparam(\"MulticoreParam\",stop_on_error = False)"
   ]
  },
  {
   "cell_type": "code",
   "execution_count": null,
   "metadata": {},
   "outputs": [],
   "source": [
    "# test = scDesign3.scDesign3(n_cores=3,parallelization=\"bpmapply\",bpparam=bpparam)\n",
    "test = scDesign3.scDesign3(n_cores=1, parallelization=\"mcmapply\")"
   ]
  },
  {
   "cell_type": "code",
   "execution_count": null,
   "metadata": {},
   "outputs": [],
   "source": [
    "const_data = test.construct_data(\n",
    "    anndata=example_sce,\n",
    "    corr_formula=\"1\",\n",
    "    default_assay_name=\"counts\",\n",
    "    celltype=\"cell_type\",\n",
    "    spatial=[\"spatial1\", \"spatial2\"],\n",
    ")"
   ]
  },
  {
   "cell_type": "code",
   "execution_count": null,
   "metadata": {},
   "outputs": [],
   "source": [
    "const_data[\"dat\"]"
   ]
  },
  {
   "cell_type": "code",
   "execution_count": null,
   "metadata": {},
   "outputs": [],
   "source": [
    "print(test.construct_data_res)"
   ]
  },
  {
   "cell_type": "code",
   "execution_count": null,
   "metadata": {},
   "outputs": [],
   "source": [
    "# SummarizedExperiment = packages.importr('SummarizedExperiment')\n",
    "# print(SummarizedExperiment.assay(test._sce,test._assay_use))\n",
    "# print(SummarizedExperiment.colData(test._sce))\n",
    "# print(SummarizedExperiment.rowData(test._sce))"
   ]
  },
  {
   "cell_type": "markdown",
   "metadata": {},
   "source": [
    "fit_marginal interface\n"
   ]
  },
  {
   "cell_type": "code",
   "execution_count": null,
   "metadata": {},
   "outputs": [],
   "source": [
    "marginal = test.fit_marginal(\n",
    "    # data=const_data,\n",
    "    mu_formula=\"s(spatial1,spatial2,bs='gp',k=2)\",\n",
    "    sigma_formula=\"1\",\n",
    "    family_use=\"nb\",\n",
    "    usebam=False,\n",
    "    trace=True,\n",
    ")"
   ]
  },
  {
   "cell_type": "code",
   "execution_count": null,
   "metadata": {},
   "outputs": [],
   "source": [
    "test.fit_marginal_res.rx2(\"Gpsm1\").rx2(\"fit\").rx2(\"coefficients\")[0] = 2"
   ]
  },
  {
   "cell_type": "code",
   "execution_count": null,
   "metadata": {},
   "outputs": [],
   "source": [
    "print(test.fit_marginal_res.rx2(\"Gpsm1\").rx2(\"fit\").rx2(\"coefficients\"))"
   ]
  },
  {
   "cell_type": "code",
   "execution_count": null,
   "metadata": {},
   "outputs": [],
   "source": [
    "marginal"
   ]
  },
  {
   "cell_type": "markdown",
   "metadata": {},
   "source": [
    "fit_copula interface\n"
   ]
  },
  {
   "cell_type": "code",
   "execution_count": null,
   "metadata": {},
   "outputs": [],
   "source": [
    "copula = test.fit_copula(\n",
    "    # family_use=\"nb\",\n",
    "    n_cores=1,\n",
    "    copula=\"vine\",\n",
    "    parallelization=\"mcmapply\",\n",
    "    # parallelization=\"bpmapply\",\n",
    "    # bpparam=bpparam,\n",
    "    important_feature=\"auto\",\n",
    ")"
   ]
  },
  {
   "cell_type": "code",
   "execution_count": null,
   "metadata": {},
   "outputs": [],
   "source": [
    "print(copula)"
   ]
  },
  {
   "cell_type": "markdown",
   "metadata": {},
   "source": [
    "extract paras interface\n"
   ]
  },
  {
   "cell_type": "code",
   "execution_count": null,
   "metadata": {},
   "outputs": [],
   "source": [
    "paras = test.extract_para()"
   ]
  },
  {
   "cell_type": "code",
   "execution_count": null,
   "metadata": {},
   "outputs": [],
   "source": [
    "print(paras)"
   ]
  },
  {
   "cell_type": "markdown",
   "metadata": {},
   "source": [
    "simu_new interface\n"
   ]
  },
  {
   "cell_type": "code",
   "execution_count": null,
   "metadata": {},
   "outputs": [],
   "source": [
    "new = test.simu_new()"
   ]
  },
  {
   "cell_type": "code",
   "execution_count": null,
   "metadata": {},
   "outputs": [],
   "source": [
    "print(new)"
   ]
  },
  {
   "cell_type": "markdown",
   "metadata": {},
   "source": [
    "scdesign3 interface\n"
   ]
  },
  {
   "cell_type": "code",
   "execution_count": null,
   "metadata": {},
   "outputs": [],
   "source": [
    "whole_test = scDesign3.scDesign3(n_cores=1)\n",
    "whole = whole_test.scdesign3(\n",
    "    anndata=example_sce,\n",
    "    corr_formula=\"1\",\n",
    "    default_assay_name=\"counts\",\n",
    "    celltype=\"cell_type\",\n",
    "    spatial=[\"spatial1\", \"spatial2\"],\n",
    "    mu_formula=\"s(spatial1,spatial2,bs='gp',k=2)\",\n",
    "    sigma_formula=\"1\",\n",
    "    family_use=\"nb\",\n",
    "    usebam=False,\n",
    "    trace=True,\n",
    "    important_feature=\"auto\",\n",
    "    # parallelization=\"mcmapply\",\n",
    "    # n_cores=1,\n",
    ")"
   ]
  },
  {
   "cell_type": "code",
   "execution_count": null,
   "metadata": {},
   "outputs": [],
   "source": [
    "print(whole_test.whole_pipeline_res)"
   ]
  },
  {
   "cell_type": "code",
   "execution_count": null,
   "metadata": {},
   "outputs": [],
   "source": [
    "whole[\"marginal_list\"]"
   ]
  },
  {
   "cell_type": "markdown",
   "metadata": {},
   "source": [
    "perform_lrt interface\n"
   ]
  },
  {
   "cell_type": "code",
   "execution_count": null,
   "metadata": {},
   "outputs": [],
   "source": [
    "test1 = scDesign3.scDesign3(n_cores=1, parallelization=\"mcmapply\")\n",
    "test2 = scDesign3.scDesign3(n_cores=1, parallelization=\"mcmapply\")"
   ]
  },
  {
   "cell_type": "code",
   "execution_count": null,
   "metadata": {},
   "outputs": [],
   "source": [
    "my_data = test1.construct_data(\n",
    "    anndata=example_sce,\n",
    "    default_assay_name=\"counts\",\n",
    "    celltype=\"cell_type\",\n",
    "    spatial=[\"spatial1\", \"spatial2\"],\n",
    "    corr_formula=\"cell_type\",\n",
    ")\n",
    "my_data2 = test2.construct_data(\n",
    "    anndata=example_sce,\n",
    "    default_assay_name=\"counts\",\n",
    "    celltype=\"cell_type\",\n",
    "    spatial=[\"spatial1\", \"spatial2\"],\n",
    "    corr_formula=\"1\",\n",
    "    ncell=10,\n",
    ")"
   ]
  },
  {
   "cell_type": "code",
   "execution_count": null,
   "metadata": {},
   "outputs": [],
   "source": [
    "test1.fit_marginal(\n",
    "    # data=const_data,\n",
    "    mu_formula=\"1\",\n",
    "    sigma_formula=\"1\",\n",
    "    family_use=\"nb\",\n",
    "    usebam=False,\n",
    ")\n",
    "marginal1 = test1.fit_marginal_res\n",
    "\n",
    "test2.fit_marginal(\n",
    "    # data=const_data,\n",
    "    mu_formula=\"s(spatial1,spatial2,bs='gp',k=3)\",\n",
    "    sigma_formula=\"1\",\n",
    "    family_use=\"nb\",\n",
    "    usebam=False,\n",
    ")\n",
    "marginal2 = test2.fit_marginal_res"
   ]
  },
  {
   "cell_type": "code",
   "execution_count": null,
   "metadata": {},
   "outputs": [],
   "source": [
    "marginal1 = {key: value.rx2(\"fit\") for key, value in marginal1.items()}\n",
    "marginal2 = {key: value.rx2(\"fit\") for key, value in marginal2.items()}"
   ]
  },
  {
   "cell_type": "code",
   "execution_count": null,
   "metadata": {},
   "outputs": [],
   "source": [
    "scDesign3.perform_lrt(marginal2, marginal1)"
   ]
  },
  {
   "cell_type": "markdown",
   "metadata": {},
   "source": [
    "plot_reduceddim interface\n"
   ]
  },
  {
   "cell_type": "code",
   "execution_count": null,
   "metadata": {},
   "outputs": [],
   "source": [
    "pan = ad.read_h5ad(\"test_data/PANCREAS.h5ad\")\n",
    "pan = pan[:, 0:30]\n",
    "pan.layers['log_transformed'] = np.log1p(pan.X)"
   ]
  },
  {
   "cell_type": "code",
   "execution_count": null,
   "metadata": {},
   "outputs": [],
   "source": [
    "plt_test = scDesign3.scDesign3(n_cores=1)\n",
    "example_simu = plt_test.scdesign3(\n",
    "    anndata=pan,\n",
    "    default_assay_name=\"counts\",\n",
    "    celltype=\"cell_type\",\n",
    "    pseudotime=\"pseudotime\",\n",
    "    mu_formula=\"s(pseudotime, k = 10, bs = 'cr')\",\n",
    "    sigma_formula=\"1\",\n",
    "    family_use=\"nb\",\n",
    "    usebam=False,\n",
    "    corr_formula=\"1\",\n",
    "    copula=\"gaussian\",\n",
    "\n",
    ")"
   ]
  },
  {
   "cell_type": "code",
   "execution_count": null,
   "metadata": {},
   "outputs": [],
   "source": [
    "simu_pan = ad.AnnData(X=example_simu[\"new_count\"].T,obs=example_simu[\"new_covariate\"])\n",
    "simu_pan.layers['log_transformed'] = np.log1p(simu_pan.X)\n",
    "simu_pan"
   ]
  },
  {
   "cell_type": "code",
   "execution_count": null,
   "metadata": {},
   "outputs": [],
   "source": [
    "plt_res = scDesign3.plot_reduceddim(\n",
    "    ref_anndata=pan,\n",
    "    anndata_dict={\"0\": simu_pan},\n",
    "    name_list=[\"Reference\", \"scDesign3\"],\n",
    "    assay_use=\"log_transformed\",\n",
    "    if_plot=True,\n",
    "    color_by=\"pseudotime\",\n",
    "    n_pc=20,\n",
    "    point_size=5,\n",
    ")"
   ]
  }
 ],
 "metadata": {
  "kernelspec": {
   "display_name": "Python 3.9.17 ('r')",
   "language": "python",
   "name": "python3"
  },
  "language_info": {
   "codemirror_mode": {
    "name": "ipython",
    "version": 3
   },
   "file_extension": ".py",
   "mimetype": "text/x-python",
   "name": "python",
   "nbconvert_exporter": "python",
   "pygments_lexer": "ipython3",
   "version": "3.9.17"
  },
  "orig_nbformat": 4,
  "vscode": {
   "interpreter": {
    "hash": "c20a77d8dcbd829eb9d9838fc133b3502af0ef26950436ff1929df402a046716"
   }
  }
 },
 "nbformat": 4,
 "nbformat_minor": 2
}

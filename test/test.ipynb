{
 "cells": [
  {
   "cell_type": "code",
   "execution_count": 1,
   "metadata": {},
   "outputs": [
    {
     "name": "stdout",
     "output_type": "stream",
     "text": [
      "The R project used is located at D:/Code_env/R-4.3.1\n"
     ]
    }
   ],
   "source": [
    "# import os\n",
    "# os.environ[\"R_HOME\"] = \"/home/ld/anaconda3/envs/r/lib/R\"\n",
    "import sys\n",
    "sys.path.append('../')\n",
    "import scDesign3"
   ]
  },
  {
   "cell_type": "code",
   "execution_count": 2,
   "metadata": {},
   "outputs": [],
   "source": [
    "import anndata as ad\n",
    "example_sce = ad.read_h5ad('test_data/VISIUM.h5ad')\n",
    "example_sce.obs['test'] = ['test' for i in range(example_sce.n_obs)]\n",
    "example_sce = example_sce[0:10,0:10]"
   ]
  },
  {
   "cell_type": "code",
   "execution_count": 3,
   "metadata": {},
   "outputs": [
    {
     "data": {
      "text/plain": [
       "View of AnnData object with n_obs × n_vars = 10 × 10\n",
       "    obs: 'nCount_Spatial', 'nFeature_Spatial', 'nCount_SCT', 'nFeature_SCT', 'SCT_snn_res.0.8', 'seurat_clusters', 'spatial1', 'spatial2', 'cell_type', 'test'\n",
       "    var: 'name'"
      ]
     },
     "execution_count": 3,
     "metadata": {},
     "output_type": "execute_result"
    }
   ],
   "source": [
    "example_sce"
   ]
  },
  {
   "cell_type": "markdown",
   "metadata": {},
   "source": [
    "construct_data interface"
   ]
  },
  {
   "cell_type": "code",
   "execution_count": null,
   "metadata": {},
   "outputs": [],
   "source": [
    "## windows\n",
    "bpparam = scDesign3.get_bpparam(\"SnowParam\",stop_on_error = False)\n",
    "\n",
    "## linux/mac\n",
    "# bpparam = test.get_bpparam(\"MulticoreParam\",stop_on_error = False)"
   ]
  },
  {
   "cell_type": "code",
   "execution_count": 4,
   "metadata": {},
   "outputs": [],
   "source": [
    "# test = scDesign3.scDesign3(n_cores=3,parallelization=\"bpmapply\",bpparam=bpparam)\n",
    "test = scDesign3.scDesign3(n_cores=1,parallelization=\"mcmapply\")"
   ]
  },
  {
   "cell_type": "code",
   "execution_count": 5,
   "metadata": {},
   "outputs": [],
   "source": [
    "const_data = test.construct_data(\n",
    "    anndata=example_sce,\n",
    "    corr_formula=\"1\",\n",
    "    default_assay_name=\"counts\",\n",
    "    celltype='cell_type',\n",
    "    spatial=['spatial1','spatial2'],\n",
    ")"
   ]
  },
  {
   "cell_type": "code",
   "execution_count": null,
   "metadata": {},
   "outputs": [],
   "source": [
    "const_data['dat']"
   ]
  },
  {
   "cell_type": "code",
   "execution_count": null,
   "metadata": {},
   "outputs": [],
   "source": [
    "print(test.construct_data_res)"
   ]
  },
  {
   "cell_type": "code",
   "execution_count": null,
   "metadata": {},
   "outputs": [],
   "source": [
    "# SummarizedExperiment = packages.importr('SummarizedExperiment')\n",
    "# print(SummarizedExperiment.assay(test._sce,test._assay_use))\n",
    "# print(SummarizedExperiment.colData(test._sce))\n",
    "# print(SummarizedExperiment.rowData(test._sce))"
   ]
  },
  {
   "cell_type": "markdown",
   "metadata": {},
   "source": [
    "fit_marginal interface"
   ]
  },
  {
   "cell_type": "code",
   "execution_count": null,
   "metadata": {},
   "outputs": [],
   "source": [
    "marginal = test.fit_marginal(\n",
    "    # data=const_data,\n",
    "    mu_formula=\"s(spatial1,spatial2,bs='gp',k=2)\",\n",
    "    sigma_formula=\"1\",\n",
    "    family_use=\"nb\",\n",
    "    usebam=False,\n",
    "    trace=True,\n",
    ")"
   ]
  },
  {
   "cell_type": "code",
   "execution_count": null,
   "metadata": {},
   "outputs": [],
   "source": [
    "print(test.fit_marginal_res)"
   ]
  },
  {
   "cell_type": "markdown",
   "metadata": {},
   "source": [
    "fit_copula interface"
   ]
  },
  {
   "cell_type": "code",
   "execution_count": null,
   "metadata": {},
   "outputs": [],
   "source": [
    "copula = test.fit_copula(\n",
    "    # family_use=\"nb\",\n",
    "    n_cores=1,\n",
    "    # copula = \"vine\",\n",
    "    parallelization=\"mcmapply\",\n",
    "    # parallelization=\"bpmapply\",\n",
    "    # bpparam=bpparam,\n",
    "    important_feature=\"auto\",\n",
    ")"
   ]
  },
  {
   "cell_type": "code",
   "execution_count": null,
   "metadata": {},
   "outputs": [],
   "source": [
    "print(copula)"
   ]
  },
  {
   "cell_type": "markdown",
   "metadata": {},
   "source": [
    "extract paras interface"
   ]
  },
  {
   "cell_type": "code",
   "execution_count": null,
   "metadata": {},
   "outputs": [],
   "source": [
    "paras = test.extract_para()"
   ]
  },
  {
   "cell_type": "code",
   "execution_count": null,
   "metadata": {},
   "outputs": [],
   "source": [
    "print(paras)"
   ]
  },
  {
   "cell_type": "markdown",
   "metadata": {},
   "source": [
    "simu_new interface\n"
   ]
  },
  {
   "cell_type": "code",
   "execution_count": null,
   "metadata": {},
   "outputs": [],
   "source": [
    "new = test.simu_new()"
   ]
  },
  {
   "cell_type": "code",
   "execution_count": null,
   "metadata": {},
   "outputs": [],
   "source": [
    "print(new)"
   ]
  },
  {
   "cell_type": "markdown",
   "metadata": {},
   "source": [
    "scdesign3 interface"
   ]
  },
  {
   "cell_type": "code",
   "execution_count": null,
   "metadata": {},
   "outputs": [],
   "source": [
    "whole_test = scDesign3.scDesign3(n_cores=1)\n",
    "whole = whole_test.scdesign3(    \n",
    "    anndata=example_sce,\n",
    "    corr_formula=\"1\",\n",
    "    default_assay_name=\"counts\",\n",
    "    celltype='cell_type',\n",
    "    spatial=['spatial1','spatial2'],\n",
    "    mu_formula=\"s(spatial1,spatial2,bs='gp',k=2)\",\n",
    "    sigma_formula=\"1\",\n",
    "    family_use=\"nb\",\n",
    "    usebam=False,\n",
    "    trace=True,\n",
    "    important_feature=\"auto\",\n",
    "    # parallelization=\"mcmapply\",\n",
    "    # n_cores=1,\n",
    "    )"
   ]
  },
  {
   "cell_type": "code",
   "execution_count": null,
   "metadata": {},
   "outputs": [],
   "source": [
    "print(whole_test.whole_pipeline_res)"
   ]
  },
  {
   "cell_type": "code",
   "execution_count": null,
   "metadata": {},
   "outputs": [],
   "source": [
    "whole[\"marginal_list\"]"
   ]
  },
  {
   "cell_type": "markdown",
   "metadata": {},
   "source": [
    "perform_lrt interface"
   ]
  },
  {
   "cell_type": "code",
   "execution_count": 9,
   "metadata": {},
   "outputs": [],
   "source": [
    "test1 = scDesign3.scDesign3(n_cores=1,parallelization=\"mcmapply\")\n",
    "test2 = scDesign3.scDesign3(n_cores=1,parallelization=\"mcmapply\")"
   ]
  },
  {
   "cell_type": "code",
   "execution_count": 16,
   "metadata": {},
   "outputs": [],
   "source": [
    "my_data = test1.construct_data(\n",
    "anndata = example_sce,\n",
    "default_assay_name = \"counts\",\n",
    "celltype = \"cell_type\",\n",
    "spatial= [\"spatial1\",\"spatial2\"],\n",
    "corr_formula = \"cell_type\"\n",
    ")\n",
    "my_data2 = test2.construct_data(\n",
    "anndata = example_sce,\n",
    "default_assay_name = \"counts\",\n",
    "celltype = \"cell_type\",\n",
    "spatial= [\"spatial1\",\"spatial2\"],\n",
    "corr_formula = \"1\",\n",
    "ncell = 10\n",
    ")"
   ]
  },
  {
   "cell_type": "code",
   "execution_count": 17,
   "metadata": {},
   "outputs": [],
   "source": [
    "test1.fit_marginal(\n",
    "    # data=const_data,\n",
    "    mu_formula=\"1\",\n",
    "    sigma_formula=\"1\",\n",
    "    family_use=\"nb\",\n",
    "    usebam=False,\n",
    ")\n",
    "marginal1 = test1.fit_marginal_res\n",
    "\n",
    "test2.fit_marginal(\n",
    "    # data=const_data,\n",
    "    mu_formula=\"s(spatial1,spatial2,bs='gp',k=3)\",\n",
    "    sigma_formula=\"1\",\n",
    "    family_use=\"nb\",\n",
    "    usebam=False,\n",
    ")\n",
    "marginal2 = test2.fit_marginal_res"
   ]
  },
  {
   "cell_type": "code",
   "execution_count": 21,
   "metadata": {},
   "outputs": [],
   "source": [
    "marginal1 = {key: value.rx2(\"fit\") for key,value in marginal1.items()}\n",
    "marginal2 = {key: value.rx2(\"fit\") for key,value in marginal2.items()}"
   ]
  },
  {
   "cell_type": "code",
   "execution_count": 22,
   "metadata": {},
   "outputs": [
    {
     "data": {
      "text/html": [
       "<div>\n",
       "<style scoped>\n",
       "    .dataframe tbody tr th:only-of-type {\n",
       "        vertical-align: middle;\n",
       "    }\n",
       "\n",
       "    .dataframe tbody tr th {\n",
       "        vertical-align: top;\n",
       "    }\n",
       "\n",
       "    .dataframe thead th {\n",
       "        text-align: right;\n",
       "    }\n",
       "</style>\n",
       "<table border=\"1\" class=\"dataframe\">\n",
       "  <thead>\n",
       "    <tr style=\"text-align: right;\">\n",
       "      <th></th>\n",
       "      <th>same_model</th>\n",
       "      <th>LogLik_alter</th>\n",
       "      <th>LogLik_null</th>\n",
       "      <th>df_alter</th>\n",
       "      <th>df_null</th>\n",
       "      <th>p_value</th>\n",
       "    </tr>\n",
       "  </thead>\n",
       "  <tbody>\n",
       "    <tr>\n",
       "      <th>Calb2</th>\n",
       "      <td>1.0</td>\n",
       "      <td>-26.541848</td>\n",
       "      <td>-33.801188</td>\n",
       "      <td>3.000179</td>\n",
       "      <td>1.0</td>\n",
       "      <td>0.000704</td>\n",
       "    </tr>\n",
       "    <tr>\n",
       "      <th>Gng4</th>\n",
       "      <td>1.0</td>\n",
       "      <td>-25.430800</td>\n",
       "      <td>-29.461979</td>\n",
       "      <td>3.000646</td>\n",
       "      <td>1.0</td>\n",
       "      <td>0.017766</td>\n",
       "    </tr>\n",
       "    <tr>\n",
       "      <th>Ttr</th>\n",
       "      <td>1.0</td>\n",
       "      <td>-14.533833</td>\n",
       "      <td>-15.700972</td>\n",
       "      <td>3.000007</td>\n",
       "      <td>1.0</td>\n",
       "      <td>0.311258</td>\n",
       "    </tr>\n",
       "    <tr>\n",
       "      <th>S100a5</th>\n",
       "      <td>1.0</td>\n",
       "      <td>-12.476353</td>\n",
       "      <td>-19.743043</td>\n",
       "      <td>4.081265</td>\n",
       "      <td>1.0</td>\n",
       "      <td>0.002459</td>\n",
       "    </tr>\n",
       "    <tr>\n",
       "      <th>Nrgn</th>\n",
       "      <td>1.0</td>\n",
       "      <td>-46.844004</td>\n",
       "      <td>-49.373142</td>\n",
       "      <td>4.097314</td>\n",
       "      <td>1.0</td>\n",
       "      <td>0.177682</td>\n",
       "    </tr>\n",
       "    <tr>\n",
       "      <th>Doc2g</th>\n",
       "      <td>1.0</td>\n",
       "      <td>-20.517832</td>\n",
       "      <td>-25.194593</td>\n",
       "      <td>3.001276</td>\n",
       "      <td>1.0</td>\n",
       "      <td>0.009323</td>\n",
       "    </tr>\n",
       "    <tr>\n",
       "      <th>Ppp1r1b</th>\n",
       "      <td>1.0</td>\n",
       "      <td>-25.195347</td>\n",
       "      <td>-29.929347</td>\n",
       "      <td>4.123708</td>\n",
       "      <td>1.0</td>\n",
       "      <td>0.026270</td>\n",
       "    </tr>\n",
       "    <tr>\n",
       "      <th>Pcbp3</th>\n",
       "      <td>1.0</td>\n",
       "      <td>-25.598560</td>\n",
       "      <td>-30.186020</td>\n",
       "      <td>3.000326</td>\n",
       "      <td>1.0</td>\n",
       "      <td>0.010182</td>\n",
       "    </tr>\n",
       "    <tr>\n",
       "      <th>Fabp7</th>\n",
       "      <td>1.0</td>\n",
       "      <td>-21.232512</td>\n",
       "      <td>-34.053669</td>\n",
       "      <td>3.001523</td>\n",
       "      <td>1.0</td>\n",
       "      <td>0.000003</td>\n",
       "    </tr>\n",
       "    <tr>\n",
       "      <th>Gpsm1</th>\n",
       "      <td>1.0</td>\n",
       "      <td>-28.188423</td>\n",
       "      <td>-31.319739</td>\n",
       "      <td>3.000191</td>\n",
       "      <td>1.0</td>\n",
       "      <td>0.043668</td>\n",
       "    </tr>\n",
       "  </tbody>\n",
       "</table>\n",
       "</div>"
      ],
      "text/plain": [
       "         same_model  LogLik_alter  LogLik_null  df_alter  df_null   p_value\n",
       "Calb2           1.0    -26.541848   -33.801188  3.000179      1.0  0.000704\n",
       "Gng4            1.0    -25.430800   -29.461979  3.000646      1.0  0.017766\n",
       "Ttr             1.0    -14.533833   -15.700972  3.000007      1.0  0.311258\n",
       "S100a5          1.0    -12.476353   -19.743043  4.081265      1.0  0.002459\n",
       "Nrgn            1.0    -46.844004   -49.373142  4.097314      1.0  0.177682\n",
       "Doc2g           1.0    -20.517832   -25.194593  3.001276      1.0  0.009323\n",
       "Ppp1r1b         1.0    -25.195347   -29.929347  4.123708      1.0  0.026270\n",
       "Pcbp3           1.0    -25.598560   -30.186020  3.000326      1.0  0.010182\n",
       "Fabp7           1.0    -21.232512   -34.053669  3.001523      1.0  0.000003\n",
       "Gpsm1           1.0    -28.188423   -31.319739  3.000191      1.0  0.043668"
      ]
     },
     "execution_count": 22,
     "metadata": {},
     "output_type": "execute_result"
    }
   ],
   "source": [
    "scDesign3.perform_lrt(marginal2,marginal1)"
   ]
  },
  {
   "cell_type": "markdown",
   "metadata": {},
   "source": [
    "Conversion test"
   ]
  },
  {
   "cell_type": "code",
   "execution_count": null,
   "metadata": {},
   "outputs": [],
   "source": [
    "from rpy2.rlike.container import OrdDict\n",
    "from rpy2.robjects import NULL, ListVector, StrVector, conversion, default_converter, numpy2ri, pandas2ri, r, packages\n",
    "\n",
    "@default_converter.py2rpy.register(OrdDict)\n",
    "def convert_ord_dict(ord_dict):\n",
    "    with (default_converter + pandas2ri.converter + numpy2ri.converter).context():\n",
    "        ord_dict = {k: conversion.get_conversion().py2rpy(v) for k, v in ord_dict.items()}\n",
    "    return ListVector(ord_dict)\n",
    "\n",
    "\n",
    "convert = numpy2ri.converter + default_converter + pandas2ri.converter"
   ]
  },
  {
   "cell_type": "code",
   "execution_count": null,
   "metadata": {},
   "outputs": [],
   "source": [
    "with convert.context():\n",
    "    a = test.fit_marginal_res.rx2(\"Calb2\")\n",
    "    b = r(\"mgcv::gam(Sepal.Length~Sepal.Width,data=iris)\")\n",
    "\n",
    "print(b)"
   ]
  },
  {
   "cell_type": "code",
   "execution_count": null,
   "metadata": {},
   "outputs": [],
   "source": [
    "a[\"fit\"]"
   ]
  },
  {
   "cell_type": "code",
   "execution_count": null,
   "metadata": {},
   "outputs": [],
   "source": [
    "print(test.fit_marginal_res.rx2(\"Calb2\"))"
   ]
  },
  {
   "cell_type": "code",
   "execution_count": null,
   "metadata": {},
   "outputs": [],
   "source": []
  }
 ],
 "metadata": {
  "kernelspec": {
   "display_name": "Python 3.9.17 ('r')",
   "language": "python",
   "name": "python3"
  },
  "language_info": {
   "codemirror_mode": {
    "name": "ipython",
    "version": 3
   },
   "file_extension": ".py",
   "mimetype": "text/x-python",
   "name": "python",
   "nbconvert_exporter": "python",
   "pygments_lexer": "ipython3",
   "version": "3.9.17"
  },
  "orig_nbformat": 4,
  "vscode": {
   "interpreter": {
    "hash": "c20a77d8dcbd829eb9d9838fc133b3502af0ef26950436ff1929df402a046716"
   }
  }
 },
 "nbformat": 4,
 "nbformat_minor": 2
}
